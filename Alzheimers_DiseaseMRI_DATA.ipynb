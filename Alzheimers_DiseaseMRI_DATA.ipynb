{
  "cells": [
    {
      "cell_type": "code",
      "execution_count": null,
      "metadata": {
        "id": "yswLE7hledbZ"
      },
      "outputs": [],
      "source": [
        "import pandas as pd \n",
        "import numpy as np \n",
        "%matplotlib inline\n",
        "import matplotlib.pyplot as plt\n",
        "import matplotlib.colors as colors\n",
        "from sklearn.utils import resample \n",
        "from sklearn.model_selection import train_test_split \n",
        "from sklearn.preprocessing import scale \n",
        "from sklearn.svm import SVC \n",
        "from sklearn.model_selection import GridSearchCV \n",
        "from sklearn.metrics import plot_confusion_matrix \n",
        "from sklearn.decomposition import PCA \n",
        "from sklearn.impute import SimpleImputer\n",
        "from sklearn.preprocessing import StandardScaler, MinMaxScaler\n",
        "from sklearn.model_selection import cross_val_score\n",
        "from sklearn.metrics import confusion_matrix, precision_score, accuracy_score, recall_score, roc_curve, auc\n",
        "import seaborn as sns"
      ]
    },
    {
      "cell_type": "code",
      "execution_count": null,
      "metadata": {
        "id": "rfu0Hnz6eqDz"
      },
      "outputs": [],
      "source": [
        "data = pd.read_csv(\"/content/oasis_longitudinal.csv\")"
      ]
    },
    {
      "cell_type": "code",
      "source": [
        "data"
      ],
      "metadata": {
        "colab": {
          "base_uri": "https://localhost:8080/",
          "height": 424
        },
        "id": "UQ87x3V79OJN",
        "outputId": "10caf7fe-a7df-4a04-eb18-d5d6c06ead3e"
      },
      "execution_count": null,
      "outputs": [
        {
          "output_type": "execute_result",
          "data": {
            "text/plain": [
              "    Subject ID         MRI ID        Group  Visit  MR Delay M/F Hand  Age  \\\n",
              "0    OAS2_0001  OAS2_0001_MR1  Nondemented    1.0       0.0   M    R   87   \n",
              "1    OAS2_0001  OAS2_0001_MR2  Nondemented    2.0     457.0   M    R   88   \n",
              "2    OAS2_0002  OAS2_0002_MR1     Demented    1.0       0.0   M    R   75   \n",
              "3    OAS2_0002  OAS2_0002_MR2     Demented    2.0     560.0   M    R   76   \n",
              "4    OAS2_0002  OAS2_0002_MR3     Demented    3.0    1895.0   M    R   80   \n",
              "..         ...            ...          ...    ...       ...  ..  ...  ...   \n",
              "794        NaN  OAS1_0453_MR1          NaN    3.0     616.0   F    R   70   \n",
              "795        NaN  OAS1_0454_MR1          NaN    4.0     576.0   F    R   73   \n",
              "796        NaN  OAS1_0455_MR1          NaN    1.0       0.0   F    R   61   \n",
              "797        NaN  OAS1_0456_MR1          NaN    2.0    1345.0   M    R   61   \n",
              "798        NaN  OAS1_0457_MR1          NaN    NaN       NaN   F    R   62   \n",
              "\n",
              "     EDUC  SES  MMSE  CDR  eTIV   nWBV    ASF  \n",
              "0    14.0  2.0  27.0  0.0  1987  0.696  0.883  \n",
              "1    14.0  2.0  30.0  0.0  2004  0.681  0.876  \n",
              "2    12.0  NaN  23.0  0.5  1678  0.736  1.046  \n",
              "3    12.0  NaN  28.0  0.5  1738  0.713  1.010  \n",
              "4    12.0  NaN  22.0  0.5  1698  0.701  1.034  \n",
              "..    ...  ...   ...  ...   ...    ...    ...  \n",
              "794   1.0  4.0  29.0  0.5  1295  0.748  1.355  \n",
              "795   3.0  2.0  23.0  0.5  1536  0.730  1.142  \n",
              "796   2.0  4.0  28.0  0.0  1354  0.825  1.297  \n",
              "797   5.0  2.0  30.0  0.0  1637  0.780  1.072  \n",
              "798   3.0  3.0  26.0  0.0  1372  0.766  1.279  \n",
              "\n",
              "[799 rows x 15 columns]"
            ],
            "text/html": [
              "\n",
              "  <div id=\"df-e89b2b08-f4ec-4617-87bb-fb81f6924c54\">\n",
              "    <div class=\"colab-df-container\">\n",
              "      <div>\n",
              "<style scoped>\n",
              "    .dataframe tbody tr th:only-of-type {\n",
              "        vertical-align: middle;\n",
              "    }\n",
              "\n",
              "    .dataframe tbody tr th {\n",
              "        vertical-align: top;\n",
              "    }\n",
              "\n",
              "    .dataframe thead th {\n",
              "        text-align: right;\n",
              "    }\n",
              "</style>\n",
              "<table border=\"1\" class=\"dataframe\">\n",
              "  <thead>\n",
              "    <tr style=\"text-align: right;\">\n",
              "      <th></th>\n",
              "      <th>Subject ID</th>\n",
              "      <th>MRI ID</th>\n",
              "      <th>Group</th>\n",
              "      <th>Visit</th>\n",
              "      <th>MR Delay</th>\n",
              "      <th>M/F</th>\n",
              "      <th>Hand</th>\n",
              "      <th>Age</th>\n",
              "      <th>EDUC</th>\n",
              "      <th>SES</th>\n",
              "      <th>MMSE</th>\n",
              "      <th>CDR</th>\n",
              "      <th>eTIV</th>\n",
              "      <th>nWBV</th>\n",
              "      <th>ASF</th>\n",
              "    </tr>\n",
              "  </thead>\n",
              "  <tbody>\n",
              "    <tr>\n",
              "      <th>0</th>\n",
              "      <td>OAS2_0001</td>\n",
              "      <td>OAS2_0001_MR1</td>\n",
              "      <td>Nondemented</td>\n",
              "      <td>1.0</td>\n",
              "      <td>0.0</td>\n",
              "      <td>M</td>\n",
              "      <td>R</td>\n",
              "      <td>87</td>\n",
              "      <td>14.0</td>\n",
              "      <td>2.0</td>\n",
              "      <td>27.0</td>\n",
              "      <td>0.0</td>\n",
              "      <td>1987</td>\n",
              "      <td>0.696</td>\n",
              "      <td>0.883</td>\n",
              "    </tr>\n",
              "    <tr>\n",
              "      <th>1</th>\n",
              "      <td>OAS2_0001</td>\n",
              "      <td>OAS2_0001_MR2</td>\n",
              "      <td>Nondemented</td>\n",
              "      <td>2.0</td>\n",
              "      <td>457.0</td>\n",
              "      <td>M</td>\n",
              "      <td>R</td>\n",
              "      <td>88</td>\n",
              "      <td>14.0</td>\n",
              "      <td>2.0</td>\n",
              "      <td>30.0</td>\n",
              "      <td>0.0</td>\n",
              "      <td>2004</td>\n",
              "      <td>0.681</td>\n",
              "      <td>0.876</td>\n",
              "    </tr>\n",
              "    <tr>\n",
              "      <th>2</th>\n",
              "      <td>OAS2_0002</td>\n",
              "      <td>OAS2_0002_MR1</td>\n",
              "      <td>Demented</td>\n",
              "      <td>1.0</td>\n",
              "      <td>0.0</td>\n",
              "      <td>M</td>\n",
              "      <td>R</td>\n",
              "      <td>75</td>\n",
              "      <td>12.0</td>\n",
              "      <td>NaN</td>\n",
              "      <td>23.0</td>\n",
              "      <td>0.5</td>\n",
              "      <td>1678</td>\n",
              "      <td>0.736</td>\n",
              "      <td>1.046</td>\n",
              "    </tr>\n",
              "    <tr>\n",
              "      <th>3</th>\n",
              "      <td>OAS2_0002</td>\n",
              "      <td>OAS2_0002_MR2</td>\n",
              "      <td>Demented</td>\n",
              "      <td>2.0</td>\n",
              "      <td>560.0</td>\n",
              "      <td>M</td>\n",
              "      <td>R</td>\n",
              "      <td>76</td>\n",
              "      <td>12.0</td>\n",
              "      <td>NaN</td>\n",
              "      <td>28.0</td>\n",
              "      <td>0.5</td>\n",
              "      <td>1738</td>\n",
              "      <td>0.713</td>\n",
              "      <td>1.010</td>\n",
              "    </tr>\n",
              "    <tr>\n",
              "      <th>4</th>\n",
              "      <td>OAS2_0002</td>\n",
              "      <td>OAS2_0002_MR3</td>\n",
              "      <td>Demented</td>\n",
              "      <td>3.0</td>\n",
              "      <td>1895.0</td>\n",
              "      <td>M</td>\n",
              "      <td>R</td>\n",
              "      <td>80</td>\n",
              "      <td>12.0</td>\n",
              "      <td>NaN</td>\n",
              "      <td>22.0</td>\n",
              "      <td>0.5</td>\n",
              "      <td>1698</td>\n",
              "      <td>0.701</td>\n",
              "      <td>1.034</td>\n",
              "    </tr>\n",
              "    <tr>\n",
              "      <th>...</th>\n",
              "      <td>...</td>\n",
              "      <td>...</td>\n",
              "      <td>...</td>\n",
              "      <td>...</td>\n",
              "      <td>...</td>\n",
              "      <td>...</td>\n",
              "      <td>...</td>\n",
              "      <td>...</td>\n",
              "      <td>...</td>\n",
              "      <td>...</td>\n",
              "      <td>...</td>\n",
              "      <td>...</td>\n",
              "      <td>...</td>\n",
              "      <td>...</td>\n",
              "      <td>...</td>\n",
              "    </tr>\n",
              "    <tr>\n",
              "      <th>794</th>\n",
              "      <td>NaN</td>\n",
              "      <td>OAS1_0453_MR1</td>\n",
              "      <td>NaN</td>\n",
              "      <td>3.0</td>\n",
              "      <td>616.0</td>\n",
              "      <td>F</td>\n",
              "      <td>R</td>\n",
              "      <td>70</td>\n",
              "      <td>1.0</td>\n",
              "      <td>4.0</td>\n",
              "      <td>29.0</td>\n",
              "      <td>0.5</td>\n",
              "      <td>1295</td>\n",
              "      <td>0.748</td>\n",
              "      <td>1.355</td>\n",
              "    </tr>\n",
              "    <tr>\n",
              "      <th>795</th>\n",
              "      <td>NaN</td>\n",
              "      <td>OAS1_0454_MR1</td>\n",
              "      <td>NaN</td>\n",
              "      <td>4.0</td>\n",
              "      <td>576.0</td>\n",
              "      <td>F</td>\n",
              "      <td>R</td>\n",
              "      <td>73</td>\n",
              "      <td>3.0</td>\n",
              "      <td>2.0</td>\n",
              "      <td>23.0</td>\n",
              "      <td>0.5</td>\n",
              "      <td>1536</td>\n",
              "      <td>0.730</td>\n",
              "      <td>1.142</td>\n",
              "    </tr>\n",
              "    <tr>\n",
              "      <th>796</th>\n",
              "      <td>NaN</td>\n",
              "      <td>OAS1_0455_MR1</td>\n",
              "      <td>NaN</td>\n",
              "      <td>1.0</td>\n",
              "      <td>0.0</td>\n",
              "      <td>F</td>\n",
              "      <td>R</td>\n",
              "      <td>61</td>\n",
              "      <td>2.0</td>\n",
              "      <td>4.0</td>\n",
              "      <td>28.0</td>\n",
              "      <td>0.0</td>\n",
              "      <td>1354</td>\n",
              "      <td>0.825</td>\n",
              "      <td>1.297</td>\n",
              "    </tr>\n",
              "    <tr>\n",
              "      <th>797</th>\n",
              "      <td>NaN</td>\n",
              "      <td>OAS1_0456_MR1</td>\n",
              "      <td>NaN</td>\n",
              "      <td>2.0</td>\n",
              "      <td>1345.0</td>\n",
              "      <td>M</td>\n",
              "      <td>R</td>\n",
              "      <td>61</td>\n",
              "      <td>5.0</td>\n",
              "      <td>2.0</td>\n",
              "      <td>30.0</td>\n",
              "      <td>0.0</td>\n",
              "      <td>1637</td>\n",
              "      <td>0.780</td>\n",
              "      <td>1.072</td>\n",
              "    </tr>\n",
              "    <tr>\n",
              "      <th>798</th>\n",
              "      <td>NaN</td>\n",
              "      <td>OAS1_0457_MR1</td>\n",
              "      <td>NaN</td>\n",
              "      <td>NaN</td>\n",
              "      <td>NaN</td>\n",
              "      <td>F</td>\n",
              "      <td>R</td>\n",
              "      <td>62</td>\n",
              "      <td>3.0</td>\n",
              "      <td>3.0</td>\n",
              "      <td>26.0</td>\n",
              "      <td>0.0</td>\n",
              "      <td>1372</td>\n",
              "      <td>0.766</td>\n",
              "      <td>1.279</td>\n",
              "    </tr>\n",
              "  </tbody>\n",
              "</table>\n",
              "<p>799 rows × 15 columns</p>\n",
              "</div>\n",
              "      <button class=\"colab-df-convert\" onclick=\"convertToInteractive('df-e89b2b08-f4ec-4617-87bb-fb81f6924c54')\"\n",
              "              title=\"Convert this dataframe to an interactive table.\"\n",
              "              style=\"display:none;\">\n",
              "        \n",
              "  <svg xmlns=\"http://www.w3.org/2000/svg\" height=\"24px\"viewBox=\"0 0 24 24\"\n",
              "       width=\"24px\">\n",
              "    <path d=\"M0 0h24v24H0V0z\" fill=\"none\"/>\n",
              "    <path d=\"M18.56 5.44l.94 2.06.94-2.06 2.06-.94-2.06-.94-.94-2.06-.94 2.06-2.06.94zm-11 1L8.5 8.5l.94-2.06 2.06-.94-2.06-.94L8.5 2.5l-.94 2.06-2.06.94zm10 10l.94 2.06.94-2.06 2.06-.94-2.06-.94-.94-2.06-.94 2.06-2.06.94z\"/><path d=\"M17.41 7.96l-1.37-1.37c-.4-.4-.92-.59-1.43-.59-.52 0-1.04.2-1.43.59L10.3 9.45l-7.72 7.72c-.78.78-.78 2.05 0 2.83L4 21.41c.39.39.9.59 1.41.59.51 0 1.02-.2 1.41-.59l7.78-7.78 2.81-2.81c.8-.78.8-2.07 0-2.86zM5.41 20L4 18.59l7.72-7.72 1.47 1.35L5.41 20z\"/>\n",
              "  </svg>\n",
              "      </button>\n",
              "      \n",
              "  <style>\n",
              "    .colab-df-container {\n",
              "      display:flex;\n",
              "      flex-wrap:wrap;\n",
              "      gap: 12px;\n",
              "    }\n",
              "\n",
              "    .colab-df-convert {\n",
              "      background-color: #E8F0FE;\n",
              "      border: none;\n",
              "      border-radius: 50%;\n",
              "      cursor: pointer;\n",
              "      display: none;\n",
              "      fill: #1967D2;\n",
              "      height: 32px;\n",
              "      padding: 0 0 0 0;\n",
              "      width: 32px;\n",
              "    }\n",
              "\n",
              "    .colab-df-convert:hover {\n",
              "      background-color: #E2EBFA;\n",
              "      box-shadow: 0px 1px 2px rgba(60, 64, 67, 0.3), 0px 1px 3px 1px rgba(60, 64, 67, 0.15);\n",
              "      fill: #174EA6;\n",
              "    }\n",
              "\n",
              "    [theme=dark] .colab-df-convert {\n",
              "      background-color: #3B4455;\n",
              "      fill: #D2E3FC;\n",
              "    }\n",
              "\n",
              "    [theme=dark] .colab-df-convert:hover {\n",
              "      background-color: #434B5C;\n",
              "      box-shadow: 0px 1px 3px 1px rgba(0, 0, 0, 0.15);\n",
              "      filter: drop-shadow(0px 1px 2px rgba(0, 0, 0, 0.3));\n",
              "      fill: #FFFFFF;\n",
              "    }\n",
              "  </style>\n",
              "\n",
              "      <script>\n",
              "        const buttonEl =\n",
              "          document.querySelector('#df-e89b2b08-f4ec-4617-87bb-fb81f6924c54 button.colab-df-convert');\n",
              "        buttonEl.style.display =\n",
              "          google.colab.kernel.accessAllowed ? 'block' : 'none';\n",
              "\n",
              "        async function convertToInteractive(key) {\n",
              "          const element = document.querySelector('#df-e89b2b08-f4ec-4617-87bb-fb81f6924c54');\n",
              "          const dataTable =\n",
              "            await google.colab.kernel.invokeFunction('convertToInteractive',\n",
              "                                                     [key], {});\n",
              "          if (!dataTable) return;\n",
              "\n",
              "          const docLinkHtml = 'Like what you see? Visit the ' +\n",
              "            '<a target=\"_blank\" href=https://colab.research.google.com/notebooks/data_table.ipynb>data table notebook</a>'\n",
              "            + ' to learn more about interactive tables.';\n",
              "          element.innerHTML = '';\n",
              "          dataTable['output_type'] = 'display_data';\n",
              "          await google.colab.output.renderOutput(dataTable, element);\n",
              "          const docLink = document.createElement('div');\n",
              "          docLink.innerHTML = docLinkHtml;\n",
              "          element.appendChild(docLink);\n",
              "        }\n",
              "      </script>\n",
              "    </div>\n",
              "  </div>\n",
              "  "
            ]
          },
          "metadata": {},
          "execution_count": 3
        }
      ]
    },
    {
      "cell_type": "code",
      "execution_count": null,
      "metadata": {
        "colab": {
          "base_uri": "https://localhost:8080/",
          "height": 206
        },
        "id": "2KDsnknmfApi",
        "outputId": "21f0cc02-58d8-4984-be5e-b7d0272cd27d"
      },
      "outputs": [
        {
          "output_type": "execute_result",
          "data": {
            "text/plain": [
              "  Subject ID         MRI ID        Group  Visit  MR Delay M/F Hand  Age  EDUC  \\\n",
              "0  OAS2_0001  OAS2_0001_MR1  Nondemented    1.0       0.0   M    R   87  14.0   \n",
              "1  OAS2_0001  OAS2_0001_MR2  Nondemented    2.0     457.0   M    R   88  14.0   \n",
              "2  OAS2_0002  OAS2_0002_MR1     Demented    1.0       0.0   M    R   75  12.0   \n",
              "3  OAS2_0002  OAS2_0002_MR2     Demented    2.0     560.0   M    R   76  12.0   \n",
              "4  OAS2_0002  OAS2_0002_MR3     Demented    3.0    1895.0   M    R   80  12.0   \n",
              "\n",
              "   SES  MMSE  CDR  eTIV   nWBV    ASF  \n",
              "0  2.0  27.0  0.0  1987  0.696  0.883  \n",
              "1  2.0  30.0  0.0  2004  0.681  0.876  \n",
              "2  NaN  23.0  0.5  1678  0.736  1.046  \n",
              "3  NaN  28.0  0.5  1738  0.713  1.010  \n",
              "4  NaN  22.0  0.5  1698  0.701  1.034  "
            ],
            "text/html": [
              "\n",
              "  <div id=\"df-c3320ad3-7f0e-4d9f-9259-1695a67d58f9\">\n",
              "    <div class=\"colab-df-container\">\n",
              "      <div>\n",
              "<style scoped>\n",
              "    .dataframe tbody tr th:only-of-type {\n",
              "        vertical-align: middle;\n",
              "    }\n",
              "\n",
              "    .dataframe tbody tr th {\n",
              "        vertical-align: top;\n",
              "    }\n",
              "\n",
              "    .dataframe thead th {\n",
              "        text-align: right;\n",
              "    }\n",
              "</style>\n",
              "<table border=\"1\" class=\"dataframe\">\n",
              "  <thead>\n",
              "    <tr style=\"text-align: right;\">\n",
              "      <th></th>\n",
              "      <th>Subject ID</th>\n",
              "      <th>MRI ID</th>\n",
              "      <th>Group</th>\n",
              "      <th>Visit</th>\n",
              "      <th>MR Delay</th>\n",
              "      <th>M/F</th>\n",
              "      <th>Hand</th>\n",
              "      <th>Age</th>\n",
              "      <th>EDUC</th>\n",
              "      <th>SES</th>\n",
              "      <th>MMSE</th>\n",
              "      <th>CDR</th>\n",
              "      <th>eTIV</th>\n",
              "      <th>nWBV</th>\n",
              "      <th>ASF</th>\n",
              "    </tr>\n",
              "  </thead>\n",
              "  <tbody>\n",
              "    <tr>\n",
              "      <th>0</th>\n",
              "      <td>OAS2_0001</td>\n",
              "      <td>OAS2_0001_MR1</td>\n",
              "      <td>Nondemented</td>\n",
              "      <td>1.0</td>\n",
              "      <td>0.0</td>\n",
              "      <td>M</td>\n",
              "      <td>R</td>\n",
              "      <td>87</td>\n",
              "      <td>14.0</td>\n",
              "      <td>2.0</td>\n",
              "      <td>27.0</td>\n",
              "      <td>0.0</td>\n",
              "      <td>1987</td>\n",
              "      <td>0.696</td>\n",
              "      <td>0.883</td>\n",
              "    </tr>\n",
              "    <tr>\n",
              "      <th>1</th>\n",
              "      <td>OAS2_0001</td>\n",
              "      <td>OAS2_0001_MR2</td>\n",
              "      <td>Nondemented</td>\n",
              "      <td>2.0</td>\n",
              "      <td>457.0</td>\n",
              "      <td>M</td>\n",
              "      <td>R</td>\n",
              "      <td>88</td>\n",
              "      <td>14.0</td>\n",
              "      <td>2.0</td>\n",
              "      <td>30.0</td>\n",
              "      <td>0.0</td>\n",
              "      <td>2004</td>\n",
              "      <td>0.681</td>\n",
              "      <td>0.876</td>\n",
              "    </tr>\n",
              "    <tr>\n",
              "      <th>2</th>\n",
              "      <td>OAS2_0002</td>\n",
              "      <td>OAS2_0002_MR1</td>\n",
              "      <td>Demented</td>\n",
              "      <td>1.0</td>\n",
              "      <td>0.0</td>\n",
              "      <td>M</td>\n",
              "      <td>R</td>\n",
              "      <td>75</td>\n",
              "      <td>12.0</td>\n",
              "      <td>NaN</td>\n",
              "      <td>23.0</td>\n",
              "      <td>0.5</td>\n",
              "      <td>1678</td>\n",
              "      <td>0.736</td>\n",
              "      <td>1.046</td>\n",
              "    </tr>\n",
              "    <tr>\n",
              "      <th>3</th>\n",
              "      <td>OAS2_0002</td>\n",
              "      <td>OAS2_0002_MR2</td>\n",
              "      <td>Demented</td>\n",
              "      <td>2.0</td>\n",
              "      <td>560.0</td>\n",
              "      <td>M</td>\n",
              "      <td>R</td>\n",
              "      <td>76</td>\n",
              "      <td>12.0</td>\n",
              "      <td>NaN</td>\n",
              "      <td>28.0</td>\n",
              "      <td>0.5</td>\n",
              "      <td>1738</td>\n",
              "      <td>0.713</td>\n",
              "      <td>1.010</td>\n",
              "    </tr>\n",
              "    <tr>\n",
              "      <th>4</th>\n",
              "      <td>OAS2_0002</td>\n",
              "      <td>OAS2_0002_MR3</td>\n",
              "      <td>Demented</td>\n",
              "      <td>3.0</td>\n",
              "      <td>1895.0</td>\n",
              "      <td>M</td>\n",
              "      <td>R</td>\n",
              "      <td>80</td>\n",
              "      <td>12.0</td>\n",
              "      <td>NaN</td>\n",
              "      <td>22.0</td>\n",
              "      <td>0.5</td>\n",
              "      <td>1698</td>\n",
              "      <td>0.701</td>\n",
              "      <td>1.034</td>\n",
              "    </tr>\n",
              "  </tbody>\n",
              "</table>\n",
              "</div>\n",
              "      <button class=\"colab-df-convert\" onclick=\"convertToInteractive('df-c3320ad3-7f0e-4d9f-9259-1695a67d58f9')\"\n",
              "              title=\"Convert this dataframe to an interactive table.\"\n",
              "              style=\"display:none;\">\n",
              "        \n",
              "  <svg xmlns=\"http://www.w3.org/2000/svg\" height=\"24px\"viewBox=\"0 0 24 24\"\n",
              "       width=\"24px\">\n",
              "    <path d=\"M0 0h24v24H0V0z\" fill=\"none\"/>\n",
              "    <path d=\"M18.56 5.44l.94 2.06.94-2.06 2.06-.94-2.06-.94-.94-2.06-.94 2.06-2.06.94zm-11 1L8.5 8.5l.94-2.06 2.06-.94-2.06-.94L8.5 2.5l-.94 2.06-2.06.94zm10 10l.94 2.06.94-2.06 2.06-.94-2.06-.94-.94-2.06-.94 2.06-2.06.94z\"/><path d=\"M17.41 7.96l-1.37-1.37c-.4-.4-.92-.59-1.43-.59-.52 0-1.04.2-1.43.59L10.3 9.45l-7.72 7.72c-.78.78-.78 2.05 0 2.83L4 21.41c.39.39.9.59 1.41.59.51 0 1.02-.2 1.41-.59l7.78-7.78 2.81-2.81c.8-.78.8-2.07 0-2.86zM5.41 20L4 18.59l7.72-7.72 1.47 1.35L5.41 20z\"/>\n",
              "  </svg>\n",
              "      </button>\n",
              "      \n",
              "  <style>\n",
              "    .colab-df-container {\n",
              "      display:flex;\n",
              "      flex-wrap:wrap;\n",
              "      gap: 12px;\n",
              "    }\n",
              "\n",
              "    .colab-df-convert {\n",
              "      background-color: #E8F0FE;\n",
              "      border: none;\n",
              "      border-radius: 50%;\n",
              "      cursor: pointer;\n",
              "      display: none;\n",
              "      fill: #1967D2;\n",
              "      height: 32px;\n",
              "      padding: 0 0 0 0;\n",
              "      width: 32px;\n",
              "    }\n",
              "\n",
              "    .colab-df-convert:hover {\n",
              "      background-color: #E2EBFA;\n",
              "      box-shadow: 0px 1px 2px rgba(60, 64, 67, 0.3), 0px 1px 3px 1px rgba(60, 64, 67, 0.15);\n",
              "      fill: #174EA6;\n",
              "    }\n",
              "\n",
              "    [theme=dark] .colab-df-convert {\n",
              "      background-color: #3B4455;\n",
              "      fill: #D2E3FC;\n",
              "    }\n",
              "\n",
              "    [theme=dark] .colab-df-convert:hover {\n",
              "      background-color: #434B5C;\n",
              "      box-shadow: 0px 1px 3px 1px rgba(0, 0, 0, 0.15);\n",
              "      filter: drop-shadow(0px 1px 2px rgba(0, 0, 0, 0.3));\n",
              "      fill: #FFFFFF;\n",
              "    }\n",
              "  </style>\n",
              "\n",
              "      <script>\n",
              "        const buttonEl =\n",
              "          document.querySelector('#df-c3320ad3-7f0e-4d9f-9259-1695a67d58f9 button.colab-df-convert');\n",
              "        buttonEl.style.display =\n",
              "          google.colab.kernel.accessAllowed ? 'block' : 'none';\n",
              "\n",
              "        async function convertToInteractive(key) {\n",
              "          const element = document.querySelector('#df-c3320ad3-7f0e-4d9f-9259-1695a67d58f9');\n",
              "          const dataTable =\n",
              "            await google.colab.kernel.invokeFunction('convertToInteractive',\n",
              "                                                     [key], {});\n",
              "          if (!dataTable) return;\n",
              "\n",
              "          const docLinkHtml = 'Like what you see? Visit the ' +\n",
              "            '<a target=\"_blank\" href=https://colab.research.google.com/notebooks/data_table.ipynb>data table notebook</a>'\n",
              "            + ' to learn more about interactive tables.';\n",
              "          element.innerHTML = '';\n",
              "          dataTable['output_type'] = 'display_data';\n",
              "          await google.colab.output.renderOutput(dataTable, element);\n",
              "          const docLink = document.createElement('div');\n",
              "          docLink.innerHTML = docLinkHtml;\n",
              "          element.appendChild(docLink);\n",
              "        }\n",
              "      </script>\n",
              "    </div>\n",
              "  </div>\n",
              "  "
            ]
          },
          "metadata": {},
          "execution_count": 4
        }
      ],
      "source": [
        "data.head()"
      ]
    },
    {
      "cell_type": "code",
      "execution_count": null,
      "metadata": {
        "colab": {
          "base_uri": "https://localhost:8080/"
        },
        "id": "uvBLpbmpfKib",
        "outputId": "adb33c47-63dd-4255-d477-801bb1d4ae68"
      },
      "outputs": [
        {
          "output_type": "execute_result",
          "data": {
            "text/plain": [
              "(799, 15)"
            ]
          },
          "metadata": {},
          "execution_count": 5
        }
      ],
      "source": [
        "data.shape"
      ]
    },
    {
      "cell_type": "code",
      "execution_count": null,
      "metadata": {
        "colab": {
          "base_uri": "https://localhost:8080/"
        },
        "id": "EB0nihc8fMNK",
        "outputId": "0604c02c-1aa5-4efb-8342-16c851be683a"
      },
      "outputs": [
        {
          "output_type": "stream",
          "name": "stdout",
          "text": [
            "<class 'pandas.core.frame.DataFrame'>\n",
            "RangeIndex: 799 entries, 0 to 798\n",
            "Data columns (total 15 columns):\n",
            " #   Column      Non-Null Count  Dtype  \n",
            "---  ------      --------------  -----  \n",
            " 0   Subject ID  429 non-null    object \n",
            " 1   MRI ID      799 non-null    object \n",
            " 2   Group       383 non-null    object \n",
            " 3   Visit       798 non-null    float64\n",
            " 4   MR Delay    798 non-null    float64\n",
            " 5   M/F         799 non-null    object \n",
            " 6   Hand        799 non-null    object \n",
            " 7   Age         799 non-null    int64  \n",
            " 8   EDUC        618 non-null    float64\n",
            " 9   SES         579 non-null    float64\n",
            " 10  MMSE        616 non-null    float64\n",
            " 11  CDR         618 non-null    float64\n",
            " 12  eTIV        799 non-null    int64  \n",
            " 13  nWBV        799 non-null    float64\n",
            " 14  ASF         799 non-null    float64\n",
            "dtypes: float64(8), int64(2), object(5)\n",
            "memory usage: 93.8+ KB\n"
          ]
        }
      ],
      "source": [
        "data.info()"
      ]
    },
    {
      "cell_type": "code",
      "execution_count": null,
      "metadata": {
        "colab": {
          "base_uri": "https://localhost:8080/"
        },
        "id": "5nAy1on5fRcq",
        "outputId": "800c82f4-554d-4c57-f85f-d7548fc51ad1"
      },
      "outputs": [
        {
          "output_type": "stream",
          "name": "stdout",
          "text": [
            "<class 'pandas.core.frame.DataFrame'>\n",
            "RangeIndex: 799 entries, 0 to 798\n",
            "Data columns (total 15 columns):\n",
            " #   Column      Non-Null Count  Dtype  \n",
            "---  ------      --------------  -----  \n",
            " 0   Subject ID  429 non-null    object \n",
            " 1   MRI ID      799 non-null    object \n",
            " 2   Group       799 non-null    int64  \n",
            " 3   Visit       798 non-null    float64\n",
            " 4   MR Delay    798 non-null    float64\n",
            " 5   M/F         799 non-null    int64  \n",
            " 6   Hand        799 non-null    object \n",
            " 7   Age         799 non-null    int64  \n",
            " 8   EDUC        618 non-null    float64\n",
            " 9   SES         579 non-null    float64\n",
            " 10  MMSE        616 non-null    float64\n",
            " 11  CDR         618 non-null    float64\n",
            " 12  eTIV        799 non-null    int64  \n",
            " 13  nWBV        799 non-null    float64\n",
            " 14  ASF         799 non-null    float64\n",
            "dtypes: float64(8), int64(4), object(3)\n",
            "memory usage: 93.8+ KB\n"
          ]
        }
      ],
      "source": [
        "data['M/F'] = [1 if each == \"M\" else 0 for each in data['M/F']]\n",
        "data['Group'] = [1 if each == \"Demented\" or each == \"Converted\" else 0 for each in data['Group']]\n",
        "data.info()"
      ]
    },
    {
      "cell_type": "code",
      "execution_count": null,
      "metadata": {
        "colab": {
          "base_uri": "https://localhost:8080/"
        },
        "id": "saiwyex7fsG9",
        "outputId": "69a24a92-b492-4320-8619-500c982b7968"
      },
      "outputs": [
        {
          "output_type": "execute_result",
          "data": {
            "text/plain": [
              "Group       1.000000\n",
              "CDR         0.514553\n",
              "Age         0.313192\n",
              "EDUC        0.207263\n",
              "M/F         0.165613\n",
              "SES         0.042094\n",
              "ASF         0.005099\n",
              "eTIV       -0.005861\n",
              "Visit      -0.045012\n",
              "MR Delay   -0.061645\n",
              "MMSE       -0.329389\n",
              "nWBV       -0.399699\n",
              "Name: Group, dtype: float64"
            ]
          },
          "metadata": {},
          "execution_count": 8
        }
      ],
      "source": [
        "correlation_matrix = data.corr()\n",
        "data_corr = correlation_matrix['Group'].sort_values(ascending=False)\n",
        "data_corr"
      ]
    },
    {
      "cell_type": "code",
      "execution_count": null,
      "metadata": {
        "colab": {
          "base_uri": "https://localhost:8080/",
          "height": 1000
        },
        "id": "P0CNDcstf5ja",
        "outputId": "afae8768-b558-4471-a99f-12a29e27e61d"
      },
      "outputs": [
        {
          "output_type": "stream",
          "name": "stderr",
          "text": [
            "/usr/local/lib/python3.7/dist-packages/pandas/plotting/_matplotlib/misc.py:91: UserWarning: Attempting to set identical left == right == 0.0 results in singular transformations; automatically expanding.\n",
            "  ax.set_xlim(boundaries_list[i])\n",
            "/usr/local/lib/python3.7/dist-packages/pandas/plotting/_matplotlib/misc.py:101: UserWarning: Attempting to set identical bottom == top == 0.0 results in singular transformations; automatically expanding.\n",
            "  ax.set_ylim(boundaries_list[i])\n",
            "/usr/local/lib/python3.7/dist-packages/pandas/plotting/_matplotlib/misc.py:100: UserWarning: Attempting to set identical left == right == 0.0 results in singular transformations; automatically expanding.\n",
            "  ax.set_xlim(boundaries_list[j])\n",
            "/usr/local/lib/python3.7/dist-packages/pandas/plotting/_matplotlib/misc.py:115: RuntimeWarning: invalid value encountered in true_divide\n",
            "  adj = (locs - lim1[0]) / (lim1[1] - lim1[0])\n"
          ]
        },
        {
          "output_type": "execute_result",
          "data": {
            "text/plain": [
              "array([[<matplotlib.axes._subplots.AxesSubplot object at 0x7fc51ce2e290>,\n",
              "        <matplotlib.axes._subplots.AxesSubplot object at 0x7fc51cd55d90>,\n",
              "        <matplotlib.axes._subplots.AxesSubplot object at 0x7fc51cd1c3d0>,\n",
              "        <matplotlib.axes._subplots.AxesSubplot object at 0x7fc51ccd29d0>,\n",
              "        <matplotlib.axes._subplots.AxesSubplot object at 0x7fc51ccffb10>],\n",
              "       [<matplotlib.axes._subplots.AxesSubplot object at 0x7fc51cc4c610>,\n",
              "        <matplotlib.axes._subplots.AxesSubplot object at 0x7fc51cc81c90>,\n",
              "        <matplotlib.axes._subplots.AxesSubplot object at 0x7fc51cc45210>,\n",
              "        <matplotlib.axes._subplots.AxesSubplot object at 0x7fc51cc45250>,\n",
              "        <matplotlib.axes._subplots.AxesSubplot object at 0x7fc51cbfa950>],\n",
              "       [<matplotlib.axes._subplots.AxesSubplot object at 0x7fc51cb76490>,\n",
              "        <matplotlib.axes._subplots.AxesSubplot object at 0x7fc51cb2ba90>,\n",
              "        <matplotlib.axes._subplots.AxesSubplot object at 0x7fc51caf00d0>,\n",
              "        <matplotlib.axes._subplots.AxesSubplot object at 0x7fc51caa56d0>,\n",
              "        <matplotlib.axes._subplots.AxesSubplot object at 0x7fc51ca5acd0>],\n",
              "       [<matplotlib.axes._subplots.AxesSubplot object at 0x7fc51ca1f310>,\n",
              "        <matplotlib.axes._subplots.AxesSubplot object at 0x7fc51c9d5910>,\n",
              "        <matplotlib.axes._subplots.AxesSubplot object at 0x7fc51c98bf10>,\n",
              "        <matplotlib.axes._subplots.AxesSubplot object at 0x7fc51c94f550>,\n",
              "        <matplotlib.axes._subplots.AxesSubplot object at 0x7fc51c984b50>],\n",
              "       [<matplotlib.axes._subplots.AxesSubplot object at 0x7fc51c8c8190>,\n",
              "        <matplotlib.axes._subplots.AxesSubplot object at 0x7fc51c8fd790>,\n",
              "        <matplotlib.axes._subplots.AxesSubplot object at 0x7fc51c8b6d90>,\n",
              "        <matplotlib.axes._subplots.AxesSubplot object at 0x7fc51c8783d0>,\n",
              "        <matplotlib.axes._subplots.AxesSubplot object at 0x7fc51c82d9d0>]],\n",
              "      dtype=object)"
            ]
          },
          "metadata": {},
          "execution_count": 9
        },
        {
          "output_type": "display_data",
          "data": {
            "text/plain": [
              "<Figure size 1080x792 with 25 Axes>"
            ],
            "image/png": "[encoded data removed]"
          },
          "metadata": {
            "needs_background": "light"
          }
        }
      ],
      "source": [
        "from pandas.plotting import scatter_matrix\n",
        "\n",
        "attributes = [\"Group\", \"CDR\", \"M/F\", \"SES\", \"ASF\"]\n",
        "\n",
        "scatter_matrix(data[attributes], figsize=(15, 11), alpha=0.3)"
      ]
    },
    {
      "cell_type": "code",
      "execution_count": null,
      "metadata": {
        "colab": {
          "base_uri": "https://localhost:8080/",
          "height": 542
        },
        "id": "6HjdKTX-gK4y",
        "outputId": "1b6e79e7-a7c1-4006-abe2-f6bb61a738ac"
      },
      "outputs": [
        {
          "output_type": "display_data",
          "data": {
            "text/html": [
              "<html>\n",
              "<head><meta charset=\"utf-8\" /></head>\n",
              "<body>\n",
              "    <div>            <script src=\"https://cdnjs.cloudflare.com/ajax/libs/mathjax/2.7.5/MathJax.js?config=TeX-AMS-MML_SVG\"></script><script type=\"text/javascript\">if (window.MathJax) {MathJax.Hub.Config({SVG: {font: \"STIX-Web\"}});}</script>                <script type=\"text/javascript\">window.PlotlyConfig = {MathJaxConfig: 'local'};</script>\n",
              "        <script src=\"https://cdn.plot.ly/plotly-2.8.3.min.js\"></script>                <div id=\"46a1b513-6609-4aa9-b71e-341cc683c471\" class=\"plotly-graph-div\" style=\"height:525px; width:100%;\"></div>            <script type=\"text/javascript\">                                    window.PLOTLYENV=window.PLOTLYENV || {};                                    if (document.getElementById(\"46a1b513-6609-4aa9-b71e-341cc683c471\")) {                    Plotly.newPlot(                        \"46a1b513-6609-4aa9-b71e-341cc683c471\",                        [{\"hovertemplate\":\"Group=%{marker.color}<br>SES=%{y}<extra></extra>\",\"legendgroup\":\"\",\"marker\":{\"color\":[0,0,0,0,0,0,0,0,0,0,0,0,0,0,0,0,0,0,0,0,0,0,0,0,0,0,0,0,0,0,0,0,0,0,0,0,0,0,0,0,0,0,0,0,0,0,0,0,0,0,0,0,0,0,0,0,0,0,0,0,0,0,0,0,0,0,0,0,0,0,0,0,0,0,0,0,0,0,0,0,0,0,0,0,0,0,0,0,0,0,0,0,0,0,0,0,0,0,0,0,0,0,0,0,0,0,0,0,0,0,0,0,0,0,0,0,0,0,0,0,0,0,0,0,0,0,0,0,0,0,0,0,0,0,0,0,0,0,0,0,0,0,0,0,0,0,0,0,0,0,0,0,0,0,0,0,0,0,0,0,0,0,0,0,0,0,0,0,0,0,0,0,0,0,0,0,0,0,0,0,0,0,0,0,0,0,0,0,0,0,0,0,0,0,0,0,0,0,0,0,0,0,0,0,0,0,0,0,0,0,0,0,0,0,0,0,0,0,0,0,0,0,0,0,0,0,0,0,0,0,0,0,0,0,0,0,0,0,0,0,0,0,0,0,0,0,0,0,0,0,0,0,0,0,0,0,0,0,0,0,0,0,0,0,0,0,0,0,0,0,0,0,0,0,0,0,0,0,0,0,0,0,0,0,0,0,0,0,0,0,0,0,0,0,0,0,0,0,0,0,0,0,0,0,0,0,0,0,0,0,0,0,0,0,0,0,0,0,0,0,0,0,0,0,0,0,0,0,0,0,0,0,0,0,0,0,0,0,0,0,0,0,0,0,0,0,0,0,0,0,0,0,0,0,0,0,0,0,0,0,0,0,0,0,0,0,0,0,0,0,0,0,0,0,0,0,0,0,0,0,0,0,0,0,0,0,0,0,0,0,0,0,0,0,0,0,0,0,0,0,0,0,0,0,0,0,0,0,0,0,0,0,0,0,0,0,0,0,0,0,0,0,0,0,0,0,0,0,0,0,0,0,0,0,0,0,0,0,0,0,0,0,0,0,0,0,0,0,0,0,0,0,0,0,0,0,0,0,0,0,0,0,0,0,0,0,0,0,0,0,0,0,0,0,0,0,0,0,0,0,0,0,0,0,0,0,0,0,0,0,0,0,0,0,0,0,0,0,0,0,0,0,0,0,0,0,0,0,0,0,0,0,0,0,0,0,0,0,0,0,0,0,0,0,0,0,0,0,0,0,0,0,0,0,0,0,0,0,0,0,0,0,0,0,0,0,0,0,0,0,0,0,0,0,0,0,0,0,0,0,0,0,0,0,0,0,0,0,0,0,0,0,0,0,0,0,0,0,0,0,0,0,0,0,0,0,0,0,0,0,0,0,0,0,0,0,0,0,0,0,0,0,0,0,0,0,0,0,0,0,0,0,0,0,0,0,0,0,0,0,0,0,0,0,0,0,0,0,0,0,0,0,0,0,0,0,0,0,0,0,0,0,0,0,0,0,0,0,0,0,0,0,0,0,0,0,0,0,0,0,0,0,0,0,0,0,0,0,0,0,0,0,0,0,0,0,0,0,0,0,0,0,0,0,0,0,0,0,0,0,0,0,0,0,0,0,0,0,0,0,0,0,0,0,0,0,0,0,0,0,0,0,0,0,0,0,0,0,0,0,0,0,0,0,0,0,0,0,0,0,0,0,0,0,0,0,0,0,0,0,0,0,0,0,0,0,0,0,0,0,0,0,0,0,0,0,0,0,0,0,0,0,0,0,0,0,0,0,0,0,0,0,0,0,0,0,0,0,0,0,0,0,0,0,0,0,0,0,0,0,0,0,0,0,0,0,0,0,0],\"coloraxis\":\"coloraxis\",\"symbol\":\"circle\"},\"mode\":\"markers\",\"name\":\"\",\"orientation\":\"v\",\"showlegend\":false,\"x\":[0,0,0,0,0,0,0,0,0,0,0,0,0,0,0,0,0,0,0,0,0,0,0,0,0,0,0,0,0,0,0,0,0,0,0,0,0,0,0,0,0,0,0,0,0,0,0,0,0,0,0,0,0,0,0,0,0,0,0,0,0,0,0,0,0,0,0,0,0,0,0,0,0,0,0,0,0,0,0,0,0,0,0,0,0,0,0,0,0,0,0,0,0,0,0,0,0,0,0,0,0,0,0,0,0,0,0,0,0,0,0,0,0,0,0,0,0,0,0,0,0,0,0,0,0,0,0,0,0,0,0,0,0,0,0,0,0,0,0,0,0,0,0,0,0,0,0,0,0,0,0,0,0,0,0,0,0,0,0,0,0,0,0,0,0,0,0,0,0,0,0,0,0,0,0,0,0,0,0,0,0,0,0,0,0,0,0,0,0,0,0,0,0,0,0,0,0,0,0,0,0,0,0,0,0,0,0,0,0,0,0,0,0,0,0,0,0,0,0,0,0,0,0,0,0,0,0,0,0,0,0,0,0,0,0,0,0,0,0,0,0,0,0,0,0,0,0,0,0,0,0,0,0,0,0,0,0,0,0,0,0,0,0,0,0,0,0,0,0,0,0,0,0,0,0,0,0,0,0,0,0,0,0,0,0,0,0,0,0,0,0,0,0,0,0,0,0,0,0,0,0,0,0,0,0,0,0,0,0,0,0,0,0,0,0,0,0,0,0,0,0,0,0,0,0,0,0,0,0,0,0,0,0,0,0,0,0,0,0,0,0,0,0,0,0,0,0,0,0,0,0,0,0,0,0,0,0,0,0,0,0,0,0,0,0,0,0,0,0,0,0,0,0,0,0,0,0,0,0,0,0,0,0,0,0,0,0,0,0,0,0,0,0,0,0,0,0,0,0,0,0,0,0,0,0,0,0,0,0,0,0,0,0,0,0,0,0,0,0,0,0,0,0,0,0,0,0,0,0,0,0,0,0,0,0,0,0,0,0,0,0,0,0,0,0,0,0,0,0,0,0,0,0,0,0,0,0,0,0,0,0,0,0,0,0,0,0,0,0,0,0,0,0,0,0,0,0,0,0,0,0,0,0,0,0,0,0,0,0,0,0,0,0,0,0,0,0,0,0,0,0,0,0,0,0,0,0,0,0,0,0,0,0,0,0,0,0,0,0,0,0,0,0,0,0,0,0,0,0,0,0,0,0,0,0,0,0,0,0,0,0,0,0,0,0,0,0,0,0,0,0,0,0,0,0,0,0,0,0,0,0,0,0,0,0,0,0,0,0,0,0,0,0,0,0,0,0,0,0,0,0,0,0,0,0,0,0,0,0,0,0,0,0,0,0,0,0,0,0,0,0,0,0,0,0,0,0,0,0,0,0,0,0,0,0,0,0,0,0,0,0,0,0,0,0,0,0,0,0,0,0,0,0,0,0,0,0,0,0,0,0,0,0,0,0,0,0,0,0,0,0,0,0,0,0,0,0,0,0,0,0,0,0,0,0,0,0,0,0,0,0,0,0,0,0,0,0,0,0,0,0,0,0,0,0,0,0,0,0,0,0,0,0,0,0,0,0,0,0,0,0,0,0,0,0,0,0,0,0,0,0,0,0,0,0,0,0,0,0,0,0,0,0,0,0,0,0,0,0,0,0,0,0,0,0,0,0,0,0,0,0,0,0,0,0,0,0,0,0,0,0,0,0,0,0,0,0,0,0,0,0,0,0,0,0,0,0,0,0,0,0,0,0,0,0,0,0,0,0,0,0,0,0,0,0,0,0,0,0,0,0,0,0,0,0,0,0,0,0],\"xaxis\":\"x\",\"y\":[2.0,2.0,null,null,null,3.0,3.0,4.0,4.0,4.0,null,null,null,2.0,2.0,2.0,2.0,3.0,3.0,2.0,2.0,2.0,4.0,4.0,4.0,3.0,3.0,4.0,4.0,3.0,3.0,3.0,3.0,1.0,1.0,1.0,1.0,1.0,1.0,1.0,1.0,3.0,3.0,4.0,4.0,3.0,3.0,3.0,3.0,3.0,3.0,2.0,2.0,4.0,4.0,1.0,1.0,3.0,3.0,3.0,3.0,3.0,1.0,1.0,1.0,1.0,4.0,4.0,4.0,4.0,4.0,4.0,4.0,4.0,4.0,4.0,2.0,2.0,4.0,4.0,4.0,1.0,1.0,1.0,3.0,3.0,4.0,4.0,4.0,4.0,4.0,1.0,1.0,2.0,2.0,2.0,2.0,1.0,1.0,1.0,1.0,1.0,3.0,3.0,3.0,4.0,4.0,1.0,1.0,1.0,2.0,2.0,3.0,3.0,1.0,1.0,3.0,3.0,2.0,2.0,2.0,2.0,2.0,3.0,3.0,3.0,4.0,4.0,1.0,1.0,1.0,2.0,2.0,2.0,null,null,5.0,5.0,5.0,1.0,1.0,4.0,4.0,4.0,4.0,3.0,3.0,2.0,2.0,1.0,1.0,1.0,1.0,1.0,2.0,2.0,3.0,3.0,3.0,3.0,3.0,5.0,5.0,2.0,2.0,2.0,2.0,2.0,1.0,1.0,1.0,4.0,4.0,4.0,2.0,2.0,2.0,4.0,4.0,5.0,5.0,2.0,2.0,1.0,1.0,4.0,4.0,2.0,2.0,2.0,2.0,2.0,4.0,4.0,2.0,2.0,1.0,1.0,1.0,1.0,1.0,3.0,3.0,2.0,2.0,4.0,4.0,null,null,4.0,4.0,4.0,2.0,2.0,2.0,3.0,3.0,3.0,1.0,1.0,1.0,1.0,1.0,4.0,4.0,4.0,4.0,1.0,1.0,4.0,4.0,4.0,4.0,3.0,3.0,2.0,2.0,null,null,3.0,3.0,2.0,2.0,2.0,2.0,4.0,4.0,2.0,2.0,2.0,3.0,3.0,4.0,4.0,3.0,3.0,3.0,3.0,3.0,3.0,3.0,1.0,1.0,1.0,1.0,1.0,1.0,1.0,1.0,1.0,1.0,2.0,2.0,3.0,3.0,4.0,4.0,2.0,2.0,2.0,2.0,2.0,2.0,1.0,1.0,3.0,3.0,3.0,2.0,2.0,3.0,3.0,2.0,2.0,2.0,1.0,1.0,3.0,3.0,2.0,2.0,2.0,2.0,2.0,2.0,2.0,2.0,3.0,3.0,2.0,2.0,2.0,1.0,1.0,1.0,1.0,2.0,2.0,4.0,4.0,3.0,3.0,null,null,1.0,1.0,1.0,2.0,2.0,1.0,1.0,3.0,3.0,1.0,1.0,3.0,3.0,3.0,1.0,1.0,4.0,4.0,4.0,4.0,4.0,4.0,2.0,2.0,2.0,3.0,3.0,2.0,2.0,2.0,1.0,1.0,null,null,null,null,null,2.0,2.0,2.0,2.0,3.0,3.0,1.0,1.0,1.0,2.0,2.0,2.0,3.0,3.0,4.0,1.0,2.0,3.0,null,1.0,5.0,1.0,3.0,1.0,3.0,null,null,null,null,null,2.0,2.0,null,2.0,null,null,4.0,null,4.0,1.0,2.0,3.0,4.0,3.0,null,1.0,null,4.0,null,3.0,4.0,1.0,2.0,1.0,2.0,null,null,3.0,null,null,2.0,null,2.0,null,null,null,null,null,null,5.0,4.0,null,null,3.0,null,1.0,null,null,null,2.0,null,4.0,3.0,4.0,1.0,4.0,1.0,2.0,1.0,1.0,4.0,null,2.0,null,null,2.0,null,null,null,3.0,3.0,null,3.0,1.0,null,null,null,null,null,3.0,null,2.0,null,null,null,null,null,null,null,null,4.0,null,null,3.0,4.0,null,2.0,2.0,4.0,1.0,1.0,null,null,4.0,null,2.0,4.0,null,null,null,null,null,3.0,null,null,2.0,4.0,4.0,null,3.0,4.0,3.0,null,null,1.0,4.0,null,null,1.0,null,null,null,null,null,null,null,null,3.0,1.0,null,null,2.0,null,null,3.0,3.0,null,null,null,3.0,4.0,null,null,1.0,1.0,null,4.0,2.0,2.0,null,null,null,4.0,1.0,2.0,null,null,null,null,null,1.0,3.0,null,1.0,4.0,1.0,null,3.0,1.0,1.0,1.0,2.0,1.0,null,1.0,null,null,null,null,3.0,3.0,null,1.0,1.0,null,null,null,4.0,null,2.0,3.0,null,null,null,4.0,2.0,null,null,2.0,3.0,null,null,2.0,2.0,2.0,null,3.0,null,null,null,1.0,1.0,1.0,null,2.0,4.0,null,3.0,1.0,null,null,1.0,2.0,3.0,4.0,2.0,4.0,2.0,4.0,3.0,null,null,1.0,4.0,1.0,null,null,null,2.0,null,2.0,3.0,4.0,2.0,2.0,2.0,2.0,2.0,null,null,null,3.0,3.0,2.0,2.0,null,4.0,3.0,null,2.0,3.0,2.0,null,null,null,null,null,1.0,2.0,1.0,null,null,null,4.0,1.0,null,4.0,null,null,3.0,5.0,null,3.0,null,4.0,null,4.0,1.0,null,null,4.0,3.0,3.0,null,2.0,null,null,null,null,4.0,2.0,null,3.0,2.0,2.0,3.0,3.0,null,null,null,2.0,2.0,2.0,2.0,null,1.0,null,4.0,2.0,2.0,3.0,null,null,null,2.0,null,5.0,2.0,null,null,null,null,null,null,4.0,null,2.0,null,null,null,null,null,1.0,null,1.0,3.0,2.0,null,2.0,1.0,null,null,null,null,null,1.0,null,null,null,null,2.0,null,null,null,3.0,4.0,1.0,4.0,2.0,3.0,null,1.0,null,4.0,1.0,null,null,null,2.0,null,4.0,1.0,null,3.0,null,2.0,4.0,1.0,null,4.0,null,3.0,4.0,4.0,2.0,4.0,2.0,3.0],\"yaxis\":\"y\",\"type\":\"scatter\"}],                        {\"template\":{\"data\":{\"bar\":[{\"error_x\":{\"color\":\"#2a3f5f\"},\"error_y\":{\"color\":\"#2a3f5f\"},\"marker\":{\"line\":{\"color\":\"#E5ECF6\",\"width\":0.5},\"pattern\":{\"fillmode\":\"overlay\",\"size\":10,\"solidity\":0.2}},\"type\":\"bar\"}],\"barpolar\":[{\"marker\":{\"line\":{\"color\":\"#E5ECF6\",\"width\":0.5},\"pattern\":{\"fillmode\":\"overlay\",\"size\":10,\"solidity\":0.2}},\"type\":\"barpolar\"}],\"carpet\":[{\"aaxis\":{\"endlinecolor\":\"#2a3f5f\",\"gridcolor\":\"white\",\"linecolor\":\"white\",\"minorgridcolor\":\"white\",\"startlinecolor\":\"#2a3f5f\"},\"baxis\":{\"endlinecolor\":\"#2a3f5f\",\"gridcolor\":\"white\",\"linecolor\":\"white\",\"minorgridcolor\":\"white\",\"startlinecolor\":\"#2a3f5f\"},\"type\":\"carpet\"}],\"choropleth\":[{\"colorbar\":{\"outlinewidth\":0,\"ticks\":\"\"},\"type\":\"choropleth\"}],\"contour\":[{\"colorbar\":{\"outlinewidth\":0,\"ticks\":\"\"},\"colorscale\":[[0.0,\"#0d0887\"],[0.1111111111111111,\"#46039f\"],[0.2222222222222222,\"#7201a8\"],[0.3333333333333333,\"#9c179e\"],[0.4444444444444444,\"#bd3786\"],[0.5555555555555556,\"#d8576b\"],[0.6666666666666666,\"#ed7953\"],[0.7777777777777778,\"#fb9f3a\"],[0.8888888888888888,\"#fdca26\"],[1.0,\"#f0f921\"]],\"type\":\"contour\"}],\"contourcarpet\":[{\"colorbar\":{\"outlinewidth\":0,\"ticks\":\"\"},\"type\":\"contourcarpet\"}],\"heatmap\":[{\"colorbar\":{\"outlinewidth\":0,\"ticks\":\"\"},\"colorscale\":[[0.0,\"#0d0887\"],[0.1111111111111111,\"#46039f\"],[0.2222222222222222,\"#7201a8\"],[0.3333333333333333,\"#9c179e\"],[0.4444444444444444,\"#bd3786\"],[0.5555555555555556,\"#d8576b\"],[0.6666666666666666,\"#ed7953\"],[0.7777777777777778,\"#fb9f3a\"],[0.8888888888888888,\"#fdca26\"],[1.0,\"#f0f921\"]],\"type\":\"heatmap\"}],\"heatmapgl\":[{\"colorbar\":{\"outlinewidth\":0,\"ticks\":\"\"},\"colorscale\":[[0.0,\"#0d0887\"],[0.1111111111111111,\"#46039f\"],[0.2222222222222222,\"#7201a8\"],[0.3333333333333333,\"#9c179e\"],[0.4444444444444444,\"#bd3786\"],[0.5555555555555556,\"#d8576b\"],[0.6666666666666666,\"#ed7953\"],[0.7777777777777778,\"#fb9f3a\"],[0.8888888888888888,\"#fdca26\"],[1.0,\"#f0f921\"]],\"type\":\"heatmapgl\"}],\"histogram\":[{\"marker\":{\"pattern\":{\"fillmode\":\"overlay\",\"size\":10,\"solidity\":0.2}},\"type\":\"histogram\"}],\"histogram2d\":[{\"colorbar\":{\"outlinewidth\":0,\"ticks\":\"\"},\"colorscale\":[[0.0,\"#0d0887\"],[0.1111111111111111,\"#46039f\"],[0.2222222222222222,\"#7201a8\"],[0.3333333333333333,\"#9c179e\"],[0.4444444444444444,\"#bd3786\"],[0.5555555555555556,\"#d8576b\"],[0.6666666666666666,\"#ed7953\"],[0.7777777777777778,\"#fb9f3a\"],[0.8888888888888888,\"#fdca26\"],[1.0,\"#f0f921\"]],\"type\":\"histogram2d\"}],\"histogram2dcontour\":[{\"colorbar\":{\"outlinewidth\":0,\"ticks\":\"\"},\"colorscale\":[[0.0,\"#0d0887\"],[0.1111111111111111,\"#46039f\"],[0.2222222222222222,\"#7201a8\"],[0.3333333333333333,\"#9c179e\"],[0.4444444444444444,\"#bd3786\"],[0.5555555555555556,\"#d8576b\"],[0.6666666666666666,\"#ed7953\"],[0.7777777777777778,\"#fb9f3a\"],[0.8888888888888888,\"#fdca26\"],[1.0,\"#f0f921\"]],\"type\":\"histogram2dcontour\"}],\"mesh3d\":[{\"colorbar\":{\"outlinewidth\":0,\"ticks\":\"\"},\"type\":\"mesh3d\"}],\"parcoords\":[{\"line\":{\"colorbar\":{\"outlinewidth\":0,\"ticks\":\"\"}},\"type\":\"parcoords\"}],\"pie\":[{\"automargin\":true,\"type\":\"pie\"}],\"scatter\":[{\"marker\":{\"colorbar\":{\"outlinewidth\":0,\"ticks\":\"\"}},\"type\":\"scatter\"}],\"scatter3d\":[{\"line\":{\"colorbar\":{\"outlinewidth\":0,\"ticks\":\"\"}},\"marker\":{\"colorbar\":{\"outlinewidth\":0,\"ticks\":\"\"}},\"type\":\"scatter3d\"}],\"scattercarpet\":[{\"marker\":{\"colorbar\":{\"outlinewidth\":0,\"ticks\":\"\"}},\"type\":\"scattercarpet\"}],\"scattergeo\":[{\"marker\":{\"colorbar\":{\"outlinewidth\":0,\"ticks\":\"\"}},\"type\":\"scattergeo\"}],\"scattergl\":[{\"marker\":{\"colorbar\":{\"outlinewidth\":0,\"ticks\":\"\"}},\"type\":\"scattergl\"}],\"scattermapbox\":[{\"marker\":{\"colorbar\":{\"outlinewidth\":0,\"ticks\":\"\"}},\"type\":\"scattermapbox\"}],\"scatterpolar\":[{\"marker\":{\"colorbar\":{\"outlinewidth\":0,\"ticks\":\"\"}},\"type\":\"scatterpolar\"}],\"scatterpolargl\":[{\"marker\":{\"colorbar\":{\"outlinewidth\":0,\"ticks\":\"\"}},\"type\":\"scatterpolargl\"}],\"scatterternary\":[{\"marker\":{\"colorbar\":{\"outlinewidth\":0,\"ticks\":\"\"}},\"type\":\"scatterternary\"}],\"surface\":[{\"colorbar\":{\"outlinewidth\":0,\"ticks\":\"\"},\"colorscale\":[[0.0,\"#0d0887\"],[0.1111111111111111,\"#46039f\"],[0.2222222222222222,\"#7201a8\"],[0.3333333333333333,\"#9c179e\"],[0.4444444444444444,\"#bd3786\"],[0.5555555555555556,\"#d8576b\"],[0.6666666666666666,\"#ed7953\"],[0.7777777777777778,\"#fb9f3a\"],[0.8888888888888888,\"#fdca26\"],[1.0,\"#f0f921\"]],\"type\":\"surface\"}],\"table\":[{\"cells\":{\"fill\":{\"color\":\"#EBF0F8\"},\"line\":{\"color\":\"white\"}},\"header\":{\"fill\":{\"color\":\"#C8D4E3\"},\"line\":{\"color\":\"white\"}},\"type\":\"table\"}]},\"layout\":{\"annotationdefaults\":{\"arrowcolor\":\"#2a3f5f\",\"arrowhead\":0,\"arrowwidth\":1},\"autotypenumbers\":\"strict\",\"coloraxis\":{\"colorbar\":{\"outlinewidth\":0,\"ticks\":\"\"}},\"colorscale\":{\"diverging\":[[0,\"#8e0152\"],[0.1,\"#c51b7d\"],[0.2,\"#de77ae\"],[0.3,\"#f1b6da\"],[0.4,\"#fde0ef\"],[0.5,\"#f7f7f7\"],[0.6,\"#e6f5d0\"],[0.7,\"#b8e186\"],[0.8,\"#7fbc41\"],[0.9,\"#4d9221\"],[1,\"#276419\"]],\"sequential\":[[0.0,\"#0d0887\"],[0.1111111111111111,\"#46039f\"],[0.2222222222222222,\"#7201a8\"],[0.3333333333333333,\"#9c179e\"],[0.4444444444444444,\"#bd3786\"],[0.5555555555555556,\"#d8576b\"],[0.6666666666666666,\"#ed7953\"],[0.7777777777777778,\"#fb9f3a\"],[0.8888888888888888,\"#fdca26\"],[1.0,\"#f0f921\"]],\"sequentialminus\":[[0.0,\"#0d0887\"],[0.1111111111111111,\"#46039f\"],[0.2222222222222222,\"#7201a8\"],[0.3333333333333333,\"#9c179e\"],[0.4444444444444444,\"#bd3786\"],[0.5555555555555556,\"#d8576b\"],[0.6666666666666666,\"#ed7953\"],[0.7777777777777778,\"#fb9f3a\"],[0.8888888888888888,\"#fdca26\"],[1.0,\"#f0f921\"]]},\"colorway\":[\"#636efa\",\"#EF553B\",\"#00cc96\",\"#ab63fa\",\"#FFA15A\",\"#19d3f3\",\"#FF6692\",\"#B6E880\",\"#FF97FF\",\"#FECB52\"],\"font\":{\"color\":\"#2a3f5f\"},\"geo\":{\"bgcolor\":\"white\",\"lakecolor\":\"white\",\"landcolor\":\"#E5ECF6\",\"showlakes\":true,\"showland\":true,\"subunitcolor\":\"white\"},\"hoverlabel\":{\"align\":\"left\"},\"hovermode\":\"closest\",\"mapbox\":{\"style\":\"light\"},\"paper_bgcolor\":\"white\",\"plot_bgcolor\":\"#E5ECF6\",\"polar\":{\"angularaxis\":{\"gridcolor\":\"white\",\"linecolor\":\"white\",\"ticks\":\"\"},\"bgcolor\":\"#E5ECF6\",\"radialaxis\":{\"gridcolor\":\"white\",\"linecolor\":\"white\",\"ticks\":\"\"}},\"scene\":{\"xaxis\":{\"backgroundcolor\":\"#E5ECF6\",\"gridcolor\":\"white\",\"gridwidth\":2,\"linecolor\":\"white\",\"showbackground\":true,\"ticks\":\"\",\"zerolinecolor\":\"white\"},\"yaxis\":{\"backgroundcolor\":\"#E5ECF6\",\"gridcolor\":\"white\",\"gridwidth\":2,\"linecolor\":\"white\",\"showbackground\":true,\"ticks\":\"\",\"zerolinecolor\":\"white\"},\"zaxis\":{\"backgroundcolor\":\"#E5ECF6\",\"gridcolor\":\"white\",\"gridwidth\":2,\"linecolor\":\"white\",\"showbackground\":true,\"ticks\":\"\",\"zerolinecolor\":\"white\"}},\"shapedefaults\":{\"line\":{\"color\":\"#2a3f5f\"}},\"ternary\":{\"aaxis\":{\"gridcolor\":\"white\",\"linecolor\":\"white\",\"ticks\":\"\"},\"baxis\":{\"gridcolor\":\"white\",\"linecolor\":\"white\",\"ticks\":\"\"},\"bgcolor\":\"#E5ECF6\",\"caxis\":{\"gridcolor\":\"white\",\"linecolor\":\"white\",\"ticks\":\"\"}},\"title\":{\"x\":0.05},\"xaxis\":{\"automargin\":true,\"gridcolor\":\"white\",\"linecolor\":\"white\",\"ticks\":\"\",\"title\":{\"standoff\":15},\"zerolinecolor\":\"white\",\"zerolinewidth\":2},\"yaxis\":{\"automargin\":true,\"gridcolor\":\"white\",\"linecolor\":\"white\",\"ticks\":\"\",\"title\":{\"standoff\":15},\"zerolinecolor\":\"white\",\"zerolinewidth\":2}}},\"xaxis\":{\"anchor\":\"y\",\"domain\":[0.0,1.0],\"title\":{\"text\":\"Group\"}},\"yaxis\":{\"anchor\":\"x\",\"domain\":[0.0,1.0],\"title\":{\"text\":\"SES\"}},\"coloraxis\":{\"colorbar\":{\"title\":{\"text\":\"Group\"}},\"colorscale\":[[0.0,\"#0d0887\"],[0.1111111111111111,\"#46039f\"],[0.2222222222222222,\"#7201a8\"],[0.3333333333333333,\"#9c179e\"],[0.4444444444444444,\"#bd3786\"],[0.5555555555555556,\"#d8576b\"],[0.6666666666666666,\"#ed7953\"],[0.7777777777777778,\"#fb9f3a\"],[0.8888888888888888,\"#fdca26\"],[1.0,\"#f0f921\"]]},\"legend\":{\"tracegroupgap\":0},\"margin\":{\"t\":60}},                        {\"responsive\": true}                    ).then(function(){\n",
              "                            \n",
              "var gd = document.getElementById('46a1b513-6609-4aa9-b71e-341cc683c471');\n",
              "var x = new MutationObserver(function (mutations, observer) {{\n",
              "        var display = window.getComputedStyle(gd).display;\n",
              "        if (!display || display === 'none') {{\n",
              "            console.log([gd, 'removed!']);\n",
              "            Plotly.purge(gd);\n",
              "            observer.disconnect();\n",
              "        }}\n",
              "}});\n",
              "\n",
              "// Listen for the removal of the full notebook cells\n",
              "var notebookContainer = gd.closest('#notebook-container');\n",
              "if (notebookContainer) {{\n",
              "    x.observe(notebookContainer, {childList: true});\n",
              "}}\n",
              "\n",
              "// Listen for the clearing of the current output cell\n",
              "var outputEl = gd.closest('.output');\n",
              "if (outputEl) {{\n",
              "    x.observe(outputEl, {childList: true});\n",
              "}}\n",
              "\n",
              "                        })                };                            </script>        </div>\n",
              "</body>\n",
              "</html>"
            ]
          },
          "metadata": {}
        }
      ],
      "source": [
        "import plotly.express as px\n",
        "fig = px.scatter(data, x='Group', y='SES', color='Group')\n",
        "fig.show()"
      ]
    },
    {
      "cell_type": "code",
      "execution_count": null,
      "metadata": {
        "colab": {
          "base_uri": "https://localhost:8080/",
          "height": 542
        },
        "id": "txXQ3iikgXux",
        "outputId": "ce642dbb-836e-4ce0-e390-6acbb116eb47"
      },
      "outputs": [
        {
          "output_type": "display_data",
          "data": {
            "text/html": [
              "<html>\n",
              "<head><meta charset=\"utf-8\" /></head>\n",
              "<body>\n",
              "    <div>            <script src=\"https://cdnjs.cloudflare.com/ajax/libs/mathjax/2.7.5/MathJax.js?config=TeX-AMS-MML_SVG\"></script><script type=\"text/javascript\">if (window.MathJax) {MathJax.Hub.Config({SVG: {font: \"STIX-Web\"}});}</script>                <script type=\"text/javascript\">window.PlotlyConfig = {MathJaxConfig: 'local'};</script>\n",
              "        <script src=\"https://cdn.plot.ly/plotly-2.8.3.min.js\"></script>                <div id=\"9c16bdce-f0ff-41b3-b8ad-e49402e38c7e\" class=\"plotly-graph-div\" style=\"height:525px; width:100%;\"></div>            <script type=\"text/javascript\">                                    window.PLOTLYENV=window.PLOTLYENV || {};                                    if (document.getElementById(\"9c16bdce-f0ff-41b3-b8ad-e49402e38c7e\")) {                    Plotly.newPlot(                        \"9c16bdce-f0ff-41b3-b8ad-e49402e38c7e\",                        [{\"hovertemplate\":\"Group=%{marker.color}<br>Age=%{y}<extra></extra>\",\"legendgroup\":\"\",\"marker\":{\"color\":[0,0,0,0,0,0,0,0,0,0,0,0,0,0,0,0,0,0,0,0,0,0,0,0,0,0,0,0,0,0,0,0,0,0,0,0,0,0,0,0,0,0,0,0,0,0,0,0,0,0,0,0,0,0,0,0,0,0,0,0,0,0,0,0,0,0,0,0,0,0,0,0,0,0,0,0,0,0,0,0,0,0,0,0,0,0,0,0,0,0,0,0,0,0,0,0,0,0,0,0,0,0,0,0,0,0,0,0,0,0,0,0,0,0,0,0,0,0,0,0,0,0,0,0,0,0,0,0,0,0,0,0,0,0,0,0,0,0,0,0,0,0,0,0,0,0,0,0,0,0,0,0,0,0,0,0,0,0,0,0,0,0,0,0,0,0,0,0,0,0,0,0,0,0,0,0,0,0,0,0,0,0,0,0,0,0,0,0,0,0,0,0,0,0,0,0,0,0,0,0,0,0,0,0,0,0,0,0,0,0,0,0,0,0,0,0,0,0,0,0,0,0,0,0,0,0,0,0,0,0,0,0,0,0,0,0,0,0,0,0,0,0,0,0,0,0,0,0,0,0,0,0,0,0,0,0,0,0,0,0,0,0,0,0,0,0,0,0,0,0,0,0,0,0,0,0,0,0,0,0,0,0,0,0,0,0,0,0,0,0,0,0,0,0,0,0,0,0,0,0,0,0,0,0,0,0,0,0,0,0,0,0,0,0,0,0,0,0,0,0,0,0,0,0,0,0,0,0,0,0,0,0,0,0,0,0,0,0,0,0,0,0,0,0,0,0,0,0,0,0,0,0,0,0,0,0,0,0,0,0,0,0,0,0,0,0,0,0,0,0,0,0,0,0,0,0,0,0,0,0,0,0,0,0,0,0,0,0,0,0,0,0,0,0,0,0,0,0,0,0,0,0,0,0,0,0,0,0,0,0,0,0,0,0,0,0,0,0,0,0,0,0,0,0,0,0,0,0,0,0,0,0,0,0,0,0,0,0,0,0,0,0,0,0,0,0,0,0,0,0,0,0,0,0,0,0,0,0,0,0,0,0,0,0,0,0,0,0,0,0,0,0,0,0,0,0,0,0,0,0,0,0,0,0,0,0,0,0,0,0,0,0,0,0,0,0,0,0,0,0,0,0,0,0,0,0,0,0,0,0,0,0,0,0,0,0,0,0,0,0,0,0,0,0,0,0,0,0,0,0,0,0,0,0,0,0,0,0,0,0,0,0,0,0,0,0,0,0,0,0,0,0,0,0,0,0,0,0,0,0,0,0,0,0,0,0,0,0,0,0,0,0,0,0,0,0,0,0,0,0,0,0,0,0,0,0,0,0,0,0,0,0,0,0,0,0,0,0,0,0,0,0,0,0,0,0,0,0,0,0,0,0,0,0,0,0,0,0,0,0,0,0,0,0,0,0,0,0,0,0,0,0,0,0,0,0,0,0,0,0,0,0,0,0,0,0,0,0,0,0,0,0,0,0,0,0,0,0,0,0,0,0,0,0,0,0,0,0,0,0,0,0,0,0,0,0,0,0,0,0,0,0,0,0,0,0,0,0,0,0,0,0,0,0,0,0,0,0,0,0,0,0,0,0,0,0,0,0,0,0,0,0,0,0,0,0,0,0,0,0,0,0,0,0,0,0,0,0,0,0,0,0,0,0,0,0,0,0,0,0,0,0,0,0,0,0,0,0,0,0,0,0,0,0,0,0,0,0,0,0,0,0,0,0,0,0,0,0,0,0,0,0,0,0,0,0,0,0,0,0,0,0,0,0,0,0,0,0,0,0,0,0,0,0,0,0,0,0,0],\"coloraxis\":\"coloraxis\",\"symbol\":\"circle\"},\"mode\":\"markers\",\"name\":\"\",\"orientation\":\"v\",\"showlegend\":false,\"x\":[0,0,0,0,0,0,0,0,0,0,0,0,0,0,0,0,0,0,0,0,0,0,0,0,0,0,0,0,0,0,0,0,0,0,0,0,0,0,0,0,0,0,0,0,0,0,0,0,0,0,0,0,0,0,0,0,0,0,0,0,0,0,0,0,0,0,0,0,0,0,0,0,0,0,0,0,0,0,0,0,0,0,0,0,0,0,0,0,0,0,0,0,0,0,0,0,0,0,0,0,0,0,0,0,0,0,0,0,0,0,0,0,0,0,0,0,0,0,0,0,0,0,0,0,0,0,0,0,0,0,0,0,0,0,0,0,0,0,0,0,0,0,0,0,0,0,0,0,0,0,0,0,0,0,0,0,0,0,0,0,0,0,0,0,0,0,0,0,0,0,0,0,0,0,0,0,0,0,0,0,0,0,0,0,0,0,0,0,0,0,0,0,0,0,0,0,0,0,0,0,0,0,0,0,0,0,0,0,0,0,0,0,0,0,0,0,0,0,0,0,0,0,0,0,0,0,0,0,0,0,0,0,0,0,0,0,0,0,0,0,0,0,0,0,0,0,0,0,0,0,0,0,0,0,0,0,0,0,0,0,0,0,0,0,0,0,0,0,0,0,0,0,0,0,0,0,0,0,0,0,0,0,0,0,0,0,0,0,0,0,0,0,0,0,0,0,0,0,0,0,0,0,0,0,0,0,0,0,0,0,0,0,0,0,0,0,0,0,0,0,0,0,0,0,0,0,0,0,0,0,0,0,0,0,0,0,0,0,0,0,0,0,0,0,0,0,0,0,0,0,0,0,0,0,0,0,0,0,0,0,0,0,0,0,0,0,0,0,0,0,0,0,0,0,0,0,0,0,0,0,0,0,0,0,0,0,0,0,0,0,0,0,0,0,0,0,0,0,0,0,0,0,0,0,0,0,0,0,0,0,0,0,0,0,0,0,0,0,0,0,0,0,0,0,0,0,0,0,0,0,0,0,0,0,0,0,0,0,0,0,0,0,0,0,0,0,0,0,0,0,0,0,0,0,0,0,0,0,0,0,0,0,0,0,0,0,0,0,0,0,0,0,0,0,0,0,0,0,0,0,0,0,0,0,0,0,0,0,0,0,0,0,0,0,0,0,0,0,0,0,0,0,0,0,0,0,0,0,0,0,0,0,0,0,0,0,0,0,0,0,0,0,0,0,0,0,0,0,0,0,0,0,0,0,0,0,0,0,0,0,0,0,0,0,0,0,0,0,0,0,0,0,0,0,0,0,0,0,0,0,0,0,0,0,0,0,0,0,0,0,0,0,0,0,0,0,0,0,0,0,0,0,0,0,0,0,0,0,0,0,0,0,0,0,0,0,0,0,0,0,0,0,0,0,0,0,0,0,0,0,0,0,0,0,0,0,0,0,0,0,0,0,0,0,0,0,0,0,0,0,0,0,0,0,0,0,0,0,0,0,0,0,0,0,0,0,0,0,0,0,0,0,0,0,0,0,0,0,0,0,0,0,0,0,0,0,0,0,0,0,0,0,0,0,0,0,0,0,0,0,0,0,0,0,0,0,0,0,0,0,0,0,0,0,0,0,0,0,0,0,0,0,0,0,0,0,0,0,0,0,0,0,0,0,0,0,0,0,0,0,0,0,0,0,0,0,0,0,0,0,0,0,0,0,0,0,0,0,0,0,0,0,0,0,0,0,0,0,0,0,0,0,0,0,0,0,0,0,0,0,0,0,0,0,0,0,0,0,0,0,0,0,0,0,0,0,0,0,0,0,0,0,0,0,0,0,0,0,0,0,0,0,0,0,0,0,0,0,0],\"xaxis\":\"x\",\"y\":[87,88,75,76,80,88,90,80,83,85,71,73,75,93,95,68,69,66,68,78,80,83,81,82,85,76,77,88,90,80,81,85,86,87,88,92,80,82,84,72,76,61,64,86,87,82,84,69,71,73,74,64,66,77,80,60,62,86,88,91,90,92,79,80,82,84,88,89,69,70,73,75,82,85,88,89,81,83,84,86,88,71,73,75,70,73,72,73,68,69,71,75,77,83,85,77,78,66,66,68,68,69,69,70,71,71,72,92,94,97,74,78,82,84,85,87,65,67,71,73,81,83,85,78,79,80,75,78,68,70,72,79,81,83,80,81,78,81,82,61,62,67,68,71,73,88,90,81,82,80,82,84,85,86,83,84,70,72,75,76,77,73,75,66,69,71,69,73,89,91,92,69,71,73,66,68,69,82,84,78,80,63,65,96,98,78,80,70,72,73,75,76,75,78,83,84,61,63,71,72,74,89,91,74,77,66,67,80,83,77,80,82,71,74,76,82,84,86,69,74,75,70,71,86,87,70,72,77,79,81,83,62,65,76,78,73,75,76,78,73,75,73,74,76,78,67,71,81,83,85,76,78,73,74,86,88,70,71,74,75,77,79,81,81,84,86,76,79,78,80,82,65,67,78,81,70,71,74,78,74,75,73,75,67,68,76,78,81,65,68,69,71,89,91,93,77,79,68,73,80,82,77,78,80,82,81,83,73,75,66,68,69,75,77,78,81,73,75,73,76,73,76,76,78,77,79,80,82,84,77,79,78,80,71,73,76,77,81,75,79,60,62,64,70,72,73,84,87,89,68,70,89,90,93,79,81,74,75,77,73,75,66,66,68,72,72,73,80,82,86,61,63,65,71,82,75,63,73,76,70,85,67,69,74,55,73,28,18,24,21,20,74,52,30,81,19,76,82,21,39,89,48,80,69,82,24,58,43,86,21,65,88,89,80,51,84,27,23,70,38,62,80,21,47,29,64,57,20,48,24,78,83,21,20,72,21,46,20,79,20,73,48,77,90,66,71,67,33,63,49,60,69,43,83,18,20,64,25,25,18,75,90,81,70,47,21,40,20,18,22,66,28,47,23,67,19,29,18,19,24,20,81,20,25,61,84,23,69,83,62,72,52,25,19,70,26,83,83,73,22,21,30,18,68,24,22,65,80,64,24,87,80,72,23,24,70,66,22,34,82,25,23,20,25,23,23,71,20,86,81,40,57,84,20,18,81,74,80,41,50,88,71,35,23,88,54,44,87,80,49,48,44,65,78,84,48,22,43,21,31,23,76,89,21,69,60,85,23,71,48,75,78,51,55,22,73,20,74,48,18,71,78,26,75,94,49,84,22,90,26,81,55,19,20,22,77,75,37,20,72,77,29,74,74,64,80,22,90,28,21,20,85,71,70,21,78,87,28,46,79,24,54,51,80,78,72,93,89,75,89,58,50,22,96,73,78,28,45,18,91,20,83,78,71,59,83,73,64,69,20,20,28,72,90,68,90,22,67,84,48,67,78,54,20,22,73,20,27,77,72,86,33,31,19,65,50,27,73,50,19,80,80,54,72,26,80,41,81,77,79,19,71,88,68,20,54,23,22,43,21,86,81,22,74,73,68,55,65,21,20,63,87,74,45,46,22,73,23,70,59,80,73,46,31,25,58,20,83,59,67,58,38,22,26,26,77,55,69,24,22,26,25,20,71,78,92,54,76,19,73,77,25,55,22,34,23,71,25,21,23,30,74,21,22,22,69,75,75,78,82,84,45,71,22,72,58,50,23,22,66,21,86,81,23,52,30,90,80,92,22,71,19,73,75,70,73,61,61,62],\"yaxis\":\"y\",\"type\":\"scatter\"}],                        {\"template\":{\"data\":{\"bar\":[{\"error_x\":{\"color\":\"#2a3f5f\"},\"error_y\":{\"color\":\"#2a3f5f\"},\"marker\":{\"line\":{\"color\":\"#E5ECF6\",\"width\":0.5},\"pattern\":{\"fillmode\":\"overlay\",\"size\":10,\"solidity\":0.2}},\"type\":\"bar\"}],\"barpolar\":[{\"marker\":{\"line\":{\"color\":\"#E5ECF6\",\"width\":0.5},\"pattern\":{\"fillmode\":\"overlay\",\"size\":10,\"solidity\":0.2}},\"type\":\"barpolar\"}],\"carpet\":[{\"aaxis\":{\"endlinecolor\":\"#2a3f5f\",\"gridcolor\":\"white\",\"linecolor\":\"white\",\"minorgridcolor\":\"white\",\"startlinecolor\":\"#2a3f5f\"},\"baxis\":{\"endlinecolor\":\"#2a3f5f\",\"gridcolor\":\"white\",\"linecolor\":\"white\",\"minorgridcolor\":\"white\",\"startlinecolor\":\"#2a3f5f\"},\"type\":\"carpet\"}],\"choropleth\":[{\"colorbar\":{\"outlinewidth\":0,\"ticks\":\"\"},\"type\":\"choropleth\"}],\"contour\":[{\"colorbar\":{\"outlinewidth\":0,\"ticks\":\"\"},\"colorscale\":[[0.0,\"#0d0887\"],[0.1111111111111111,\"#46039f\"],[0.2222222222222222,\"#7201a8\"],[0.3333333333333333,\"#9c179e\"],[0.4444444444444444,\"#bd3786\"],[0.5555555555555556,\"#d8576b\"],[0.6666666666666666,\"#ed7953\"],[0.7777777777777778,\"#fb9f3a\"],[0.8888888888888888,\"#fdca26\"],[1.0,\"#f0f921\"]],\"type\":\"contour\"}],\"contourcarpet\":[{\"colorbar\":{\"outlinewidth\":0,\"ticks\":\"\"},\"type\":\"contourcarpet\"}],\"heatmap\":[{\"colorbar\":{\"outlinewidth\":0,\"ticks\":\"\"},\"colorscale\":[[0.0,\"#0d0887\"],[0.1111111111111111,\"#46039f\"],[0.2222222222222222,\"#7201a8\"],[0.3333333333333333,\"#9c179e\"],[0.4444444444444444,\"#bd3786\"],[0.5555555555555556,\"#d8576b\"],[0.6666666666666666,\"#ed7953\"],[0.7777777777777778,\"#fb9f3a\"],[0.8888888888888888,\"#fdca26\"],[1.0,\"#f0f921\"]],\"type\":\"heatmap\"}],\"heatmapgl\":[{\"colorbar\":{\"outlinewidth\":0,\"ticks\":\"\"},\"colorscale\":[[0.0,\"#0d0887\"],[0.1111111111111111,\"#46039f\"],[0.2222222222222222,\"#7201a8\"],[0.3333333333333333,\"#9c179e\"],[0.4444444444444444,\"#bd3786\"],[0.5555555555555556,\"#d8576b\"],[0.6666666666666666,\"#ed7953\"],[0.7777777777777778,\"#fb9f3a\"],[0.8888888888888888,\"#fdca26\"],[1.0,\"#f0f921\"]],\"type\":\"heatmapgl\"}],\"histogram\":[{\"marker\":{\"pattern\":{\"fillmode\":\"overlay\",\"size\":10,\"solidity\":0.2}},\"type\":\"histogram\"}],\"histogram2d\":[{\"colorbar\":{\"outlinewidth\":0,\"ticks\":\"\"},\"colorscale\":[[0.0,\"#0d0887\"],[0.1111111111111111,\"#46039f\"],[0.2222222222222222,\"#7201a8\"],[0.3333333333333333,\"#9c179e\"],[0.4444444444444444,\"#bd3786\"],[0.5555555555555556,\"#d8576b\"],[0.6666666666666666,\"#ed7953\"],[0.7777777777777778,\"#fb9f3a\"],[0.8888888888888888,\"#fdca26\"],[1.0,\"#f0f921\"]],\"type\":\"histogram2d\"}],\"histogram2dcontour\":[{\"colorbar\":{\"outlinewidth\":0,\"ticks\":\"\"},\"colorscale\":[[0.0,\"#0d0887\"],[0.1111111111111111,\"#46039f\"],[0.2222222222222222,\"#7201a8\"],[0.3333333333333333,\"#9c179e\"],[0.4444444444444444,\"#bd3786\"],[0.5555555555555556,\"#d8576b\"],[0.6666666666666666,\"#ed7953\"],[0.7777777777777778,\"#fb9f3a\"],[0.8888888888888888,\"#fdca26\"],[1.0,\"#f0f921\"]],\"type\":\"histogram2dcontour\"}],\"mesh3d\":[{\"colorbar\":{\"outlinewidth\":0,\"ticks\":\"\"},\"type\":\"mesh3d\"}],\"parcoords\":[{\"line\":{\"colorbar\":{\"outlinewidth\":0,\"ticks\":\"\"}},\"type\":\"parcoords\"}],\"pie\":[{\"automargin\":true,\"type\":\"pie\"}],\"scatter\":[{\"marker\":{\"colorbar\":{\"outlinewidth\":0,\"ticks\":\"\"}},\"type\":\"scatter\"}],\"scatter3d\":[{\"line\":{\"colorbar\":{\"outlinewidth\":0,\"ticks\":\"\"}},\"marker\":{\"colorbar\":{\"outlinewidth\":0,\"ticks\":\"\"}},\"type\":\"scatter3d\"}],\"scattercarpet\":[{\"marker\":{\"colorbar\":{\"outlinewidth\":0,\"ticks\":\"\"}},\"type\":\"scattercarpet\"}],\"scattergeo\":[{\"marker\":{\"colorbar\":{\"outlinewidth\":0,\"ticks\":\"\"}},\"type\":\"scattergeo\"}],\"scattergl\":[{\"marker\":{\"colorbar\":{\"outlinewidth\":0,\"ticks\":\"\"}},\"type\":\"scattergl\"}],\"scattermapbox\":[{\"marker\":{\"colorbar\":{\"outlinewidth\":0,\"ticks\":\"\"}},\"type\":\"scattermapbox\"}],\"scatterpolar\":[{\"marker\":{\"colorbar\":{\"outlinewidth\":0,\"ticks\":\"\"}},\"type\":\"scatterpolar\"}],\"scatterpolargl\":[{\"marker\":{\"colorbar\":{\"outlinewidth\":0,\"ticks\":\"\"}},\"type\":\"scatterpolargl\"}],\"scatterternary\":[{\"marker\":{\"colorbar\":{\"outlinewidth\":0,\"ticks\":\"\"}},\"type\":\"scatterternary\"}],\"surface\":[{\"colorbar\":{\"outlinewidth\":0,\"ticks\":\"\"},\"colorscale\":[[0.0,\"#0d0887\"],[0.1111111111111111,\"#46039f\"],[0.2222222222222222,\"#7201a8\"],[0.3333333333333333,\"#9c179e\"],[0.4444444444444444,\"#bd3786\"],[0.5555555555555556,\"#d8576b\"],[0.6666666666666666,\"#ed7953\"],[0.7777777777777778,\"#fb9f3a\"],[0.8888888888888888,\"#fdca26\"],[1.0,\"#f0f921\"]],\"type\":\"surface\"}],\"table\":[{\"cells\":{\"fill\":{\"color\":\"#EBF0F8\"},\"line\":{\"color\":\"white\"}},\"header\":{\"fill\":{\"color\":\"#C8D4E3\"},\"line\":{\"color\":\"white\"}},\"type\":\"table\"}]},\"layout\":{\"annotationdefaults\":{\"arrowcolor\":\"#2a3f5f\",\"arrowhead\":0,\"arrowwidth\":1},\"autotypenumbers\":\"strict\",\"coloraxis\":{\"colorbar\":{\"outlinewidth\":0,\"ticks\":\"\"}},\"colorscale\":{\"diverging\":[[0,\"#8e0152\"],[0.1,\"#c51b7d\"],[0.2,\"#de77ae\"],[0.3,\"#f1b6da\"],[0.4,\"#fde0ef\"],[0.5,\"#f7f7f7\"],[0.6,\"#e6f5d0\"],[0.7,\"#b8e186\"],[0.8,\"#7fbc41\"],[0.9,\"#4d9221\"],[1,\"#276419\"]],\"sequential\":[[0.0,\"#0d0887\"],[0.1111111111111111,\"#46039f\"],[0.2222222222222222,\"#7201a8\"],[0.3333333333333333,\"#9c179e\"],[0.4444444444444444,\"#bd3786\"],[0.5555555555555556,\"#d8576b\"],[0.6666666666666666,\"#ed7953\"],[0.7777777777777778,\"#fb9f3a\"],[0.8888888888888888,\"#fdca26\"],[1.0,\"#f0f921\"]],\"sequentialminus\":[[0.0,\"#0d0887\"],[0.1111111111111111,\"#46039f\"],[0.2222222222222222,\"#7201a8\"],[0.3333333333333333,\"#9c179e\"],[0.4444444444444444,\"#bd3786\"],[0.5555555555555556,\"#d8576b\"],[0.6666666666666666,\"#ed7953\"],[0.7777777777777778,\"#fb9f3a\"],[0.8888888888888888,\"#fdca26\"],[1.0,\"#f0f921\"]]},\"colorway\":[\"#636efa\",\"#EF553B\",\"#00cc96\",\"#ab63fa\",\"#FFA15A\",\"#19d3f3\",\"#FF6692\",\"#B6E880\",\"#FF97FF\",\"#FECB52\"],\"font\":{\"color\":\"#2a3f5f\"},\"geo\":{\"bgcolor\":\"white\",\"lakecolor\":\"white\",\"landcolor\":\"#E5ECF6\",\"showlakes\":true,\"showland\":true,\"subunitcolor\":\"white\"},\"hoverlabel\":{\"align\":\"left\"},\"hovermode\":\"closest\",\"mapbox\":{\"style\":\"light\"},\"paper_bgcolor\":\"white\",\"plot_bgcolor\":\"#E5ECF6\",\"polar\":{\"angularaxis\":{\"gridcolor\":\"white\",\"linecolor\":\"white\",\"ticks\":\"\"},\"bgcolor\":\"#E5ECF6\",\"radialaxis\":{\"gridcolor\":\"white\",\"linecolor\":\"white\",\"ticks\":\"\"}},\"scene\":{\"xaxis\":{\"backgroundcolor\":\"#E5ECF6\",\"gridcolor\":\"white\",\"gridwidth\":2,\"linecolor\":\"white\",\"showbackground\":true,\"ticks\":\"\",\"zerolinecolor\":\"white\"},\"yaxis\":{\"backgroundcolor\":\"#E5ECF6\",\"gridcolor\":\"white\",\"gridwidth\":2,\"linecolor\":\"white\",\"showbackground\":true,\"ticks\":\"\",\"zerolinecolor\":\"white\"},\"zaxis\":{\"backgroundcolor\":\"#E5ECF6\",\"gridcolor\":\"white\",\"gridwidth\":2,\"linecolor\":\"white\",\"showbackground\":true,\"ticks\":\"\",\"zerolinecolor\":\"white\"}},\"shapedefaults\":{\"line\":{\"color\":\"#2a3f5f\"}},\"ternary\":{\"aaxis\":{\"gridcolor\":\"white\",\"linecolor\":\"white\",\"ticks\":\"\"},\"baxis\":{\"gridcolor\":\"white\",\"linecolor\":\"white\",\"ticks\":\"\"},\"bgcolor\":\"#E5ECF6\",\"caxis\":{\"gridcolor\":\"white\",\"linecolor\":\"white\",\"ticks\":\"\"}},\"title\":{\"x\":0.05},\"xaxis\":{\"automargin\":true,\"gridcolor\":\"white\",\"linecolor\":\"white\",\"ticks\":\"\",\"title\":{\"standoff\":15},\"zerolinecolor\":\"white\",\"zerolinewidth\":2},\"yaxis\":{\"automargin\":true,\"gridcolor\":\"white\",\"linecolor\":\"white\",\"ticks\":\"\",\"title\":{\"standoff\":15},\"zerolinecolor\":\"white\",\"zerolinewidth\":2}}},\"xaxis\":{\"anchor\":\"y\",\"domain\":[0.0,1.0],\"title\":{\"text\":\"Group\"}},\"yaxis\":{\"anchor\":\"x\",\"domain\":[0.0,1.0],\"title\":{\"text\":\"Age\"}},\"coloraxis\":{\"colorbar\":{\"title\":{\"text\":\"Group\"}},\"colorscale\":[[0.0,\"#0d0887\"],[0.1111111111111111,\"#46039f\"],[0.2222222222222222,\"#7201a8\"],[0.3333333333333333,\"#9c179e\"],[0.4444444444444444,\"#bd3786\"],[0.5555555555555556,\"#d8576b\"],[0.6666666666666666,\"#ed7953\"],[0.7777777777777778,\"#fb9f3a\"],[0.8888888888888888,\"#fdca26\"],[1.0,\"#f0f921\"]]},\"legend\":{\"tracegroupgap\":0},\"margin\":{\"t\":60}},                        {\"responsive\": true}                    ).then(function(){\n",
              "                            \n",
              "var gd = document.getElementById('9c16bdce-f0ff-41b3-b8ad-e49402e38c7e');\n",
              "var x = new MutationObserver(function (mutations, observer) {{\n",
              "        var display = window.getComputedStyle(gd).display;\n",
              "        if (!display || display === 'none') {{\n",
              "            console.log([gd, 'removed!']);\n",
              "            Plotly.purge(gd);\n",
              "            observer.disconnect();\n",
              "        }}\n",
              "}});\n",
              "\n",
              "// Listen for the removal of the full notebook cells\n",
              "var notebookContainer = gd.closest('#notebook-container');\n",
              "if (notebookContainer) {{\n",
              "    x.observe(notebookContainer, {childList: true});\n",
              "}}\n",
              "\n",
              "// Listen for the clearing of the current output cell\n",
              "var outputEl = gd.closest('.output');\n",
              "if (outputEl) {{\n",
              "    x.observe(outputEl, {childList: true});\n",
              "}}\n",
              "\n",
              "                        })                };                            </script>        </div>\n",
              "</body>\n",
              "</html>"
            ]
          },
          "metadata": {}
        }
      ],
      "source": [
        "import plotly.express as px\n",
        "fig = px.scatter(data, x='Group', y='Age', color='Group')\n",
        "fig.show()"
      ]
    },
    {
      "cell_type": "code",
      "execution_count": null,
      "metadata": {
        "colab": {
          "base_uri": "https://localhost:8080/",
          "height": 542
        },
        "id": "_V11R2POgbJx",
        "outputId": "1503e106-7f3c-4f38-e5be-9ed71bcb7f8f"
      },
      "outputs": [
        {
          "output_type": "display_data",
          "data": {
            "text/html": [
              "<html>\n",
              "<head><meta charset=\"utf-8\" /></head>\n",
              "<body>\n",
              "    <div>            <script src=\"https://cdnjs.cloudflare.com/ajax/libs/mathjax/2.7.5/MathJax.js?config=TeX-AMS-MML_SVG\"></script><script type=\"text/javascript\">if (window.MathJax) {MathJax.Hub.Config({SVG: {font: \"STIX-Web\"}});}</script>                <script type=\"text/javascript\">window.PlotlyConfig = {MathJaxConfig: 'local'};</script>\n",
              "        <script src=\"https://cdn.plot.ly/plotly-2.8.3.min.js\"></script>                <div id=\"1bb481aa-c286-4f5e-81d6-b60586ecf0b6\" class=\"plotly-graph-div\" style=\"height:525px; width:100%;\"></div>            <script type=\"text/javascript\">                                    window.PLOTLYENV=window.PLOTLYENV || {};                                    if (document.getElementById(\"1bb481aa-c286-4f5e-81d6-b60586ecf0b6\")) {                    Plotly.newPlot(                        \"1bb481aa-c286-4f5e-81d6-b60586ecf0b6\",                        [{\"hovertemplate\":\"Group=%{marker.color}<br>ASF=%{y}<extra></extra>\",\"legendgroup\":\"\",\"marker\":{\"color\":[0,0,0,0,0,0,0,0,0,0,0,0,0,0,0,0,0,0,0,0,0,0,0,0,0,0,0,0,0,0,0,0,0,0,0,0,0,0,0,0,0,0,0,0,0,0,0,0,0,0,0,0,0,0,0,0,0,0,0,0,0,0,0,0,0,0,0,0,0,0,0,0,0,0,0,0,0,0,0,0,0,0,0,0,0,0,0,0,0,0,0,0,0,0,0,0,0,0,0,0,0,0,0,0,0,0,0,0,0,0,0,0,0,0,0,0,0,0,0,0,0,0,0,0,0,0,0,0,0,0,0,0,0,0,0,0,0,0,0,0,0,0,0,0,0,0,0,0,0,0,0,0,0,0,0,0,0,0,0,0,0,0,0,0,0,0,0,0,0,0,0,0,0,0,0,0,0,0,0,0,0,0,0,0,0,0,0,0,0,0,0,0,0,0,0,0,0,0,0,0,0,0,0,0,0,0,0,0,0,0,0,0,0,0,0,0,0,0,0,0,0,0,0,0,0,0,0,0,0,0,0,0,0,0,0,0,0,0,0,0,0,0,0,0,0,0,0,0,0,0,0,0,0,0,0,0,0,0,0,0,0,0,0,0,0,0,0,0,0,0,0,0,0,0,0,0,0,0,0,0,0,0,0,0,0,0,0,0,0,0,0,0,0,0,0,0,0,0,0,0,0,0,0,0,0,0,0,0,0,0,0,0,0,0,0,0,0,0,0,0,0,0,0,0,0,0,0,0,0,0,0,0,0,0,0,0,0,0,0,0,0,0,0,0,0,0,0,0,0,0,0,0,0,0,0,0,0,0,0,0,0,0,0,0,0,0,0,0,0,0,0,0,0,0,0,0,0,0,0,0,0,0,0,0,0,0,0,0,0,0,0,0,0,0,0,0,0,0,0,0,0,0,0,0,0,0,0,0,0,0,0,0,0,0,0,0,0,0,0,0,0,0,0,0,0,0,0,0,0,0,0,0,0,0,0,0,0,0,0,0,0,0,0,0,0,0,0,0,0,0,0,0,0,0,0,0,0,0,0,0,0,0,0,0,0,0,0,0,0,0,0,0,0,0,0,0,0,0,0,0,0,0,0,0,0,0,0,0,0,0,0,0,0,0,0,0,0,0,0,0,0,0,0,0,0,0,0,0,0,0,0,0,0,0,0,0,0,0,0,0,0,0,0,0,0,0,0,0,0,0,0,0,0,0,0,0,0,0,0,0,0,0,0,0,0,0,0,0,0,0,0,0,0,0,0,0,0,0,0,0,0,0,0,0,0,0,0,0,0,0,0,0,0,0,0,0,0,0,0,0,0,0,0,0,0,0,0,0,0,0,0,0,0,0,0,0,0,0,0,0,0,0,0,0,0,0,0,0,0,0,0,0,0,0,0,0,0,0,0,0,0,0,0,0,0,0,0,0,0,0,0,0,0,0,0,0,0,0,0,0,0,0,0,0,0,0,0,0,0,0,0,0,0,0,0,0,0,0,0,0,0,0,0,0,0,0,0,0,0,0,0,0,0,0,0,0,0,0,0,0,0,0,0,0,0,0,0,0,0,0,0,0,0,0,0,0,0,0,0,0,0,0,0,0,0,0,0,0,0,0,0,0,0,0,0,0,0,0,0,0,0,0,0,0,0,0,0,0,0,0,0,0,0,0,0,0,0,0,0,0,0,0,0,0,0,0,0,0,0,0,0,0,0,0,0,0,0,0,0,0,0,0,0,0,0,0,0,0,0,0,0,0,0,0,0,0,0,0,0,0,0,0,0,0,0,0,0,0,0,0,0,0,0,0,0,0,0,0,0],\"coloraxis\":\"coloraxis\",\"symbol\":\"circle\"},\"mode\":\"markers\",\"name\":\"\",\"orientation\":\"v\",\"showlegend\":false,\"x\":[0,0,0,0,0,0,0,0,0,0,0,0,0,0,0,0,0,0,0,0,0,0,0,0,0,0,0,0,0,0,0,0,0,0,0,0,0,0,0,0,0,0,0,0,0,0,0,0,0,0,0,0,0,0,0,0,0,0,0,0,0,0,0,0,0,0,0,0,0,0,0,0,0,0,0,0,0,0,0,0,0,0,0,0,0,0,0,0,0,0,0,0,0,0,0,0,0,0,0,0,0,0,0,0,0,0,0,0,0,0,0,0,0,0,0,0,0,0,0,0,0,0,0,0,0,0,0,0,0,0,0,0,0,0,0,0,0,0,0,0,0,0,0,0,0,0,0,0,0,0,0,0,0,0,0,0,0,0,0,0,0,0,0,0,0,0,0,0,0,0,0,0,0,0,0,0,0,0,0,0,0,0,0,0,0,0,0,0,0,0,0,0,0,0,0,0,0,0,0,0,0,0,0,0,0,0,0,0,0,0,0,0,0,0,0,0,0,0,0,0,0,0,0,0,0,0,0,0,0,0,0,0,0,0,0,0,0,0,0,0,0,0,0,0,0,0,0,0,0,0,0,0,0,0,0,0,0,0,0,0,0,0,0,0,0,0,0,0,0,0,0,0,0,0,0,0,0,0,0,0,0,0,0,0,0,0,0,0,0,0,0,0,0,0,0,0,0,0,0,0,0,0,0,0,0,0,0,0,0,0,0,0,0,0,0,0,0,0,0,0,0,0,0,0,0,0,0,0,0,0,0,0,0,0,0,0,0,0,0,0,0,0,0,0,0,0,0,0,0,0,0,0,0,0,0,0,0,0,0,0,0,0,0,0,0,0,0,0,0,0,0,0,0,0,0,0,0,0,0,0,0,0,0,0,0,0,0,0,0,0,0,0,0,0,0,0,0,0,0,0,0,0,0,0,0,0,0,0,0,0,0,0,0,0,0,0,0,0,0,0,0,0,0,0,0,0,0,0,0,0,0,0,0,0,0,0,0,0,0,0,0,0,0,0,0,0,0,0,0,0,0,0,0,0,0,0,0,0,0,0,0,0,0,0,0,0,0,0,0,0,0,0,0,0,0,0,0,0,0,0,0,0,0,0,0,0,0,0,0,0,0,0,0,0,0,0,0,0,0,0,0,0,0,0,0,0,0,0,0,0,0,0,0,0,0,0,0,0,0,0,0,0,0,0,0,0,0,0,0,0,0,0,0,0,0,0,0,0,0,0,0,0,0,0,0,0,0,0,0,0,0,0,0,0,0,0,0,0,0,0,0,0,0,0,0,0,0,0,0,0,0,0,0,0,0,0,0,0,0,0,0,0,0,0,0,0,0,0,0,0,0,0,0,0,0,0,0,0,0,0,0,0,0,0,0,0,0,0,0,0,0,0,0,0,0,0,0,0,0,0,0,0,0,0,0,0,0,0,0,0,0,0,0,0,0,0,0,0,0,0,0,0,0,0,0,0,0,0,0,0,0,0,0,0,0,0,0,0,0,0,0,0,0,0,0,0,0,0,0,0,0,0,0,0,0,0,0,0,0,0,0,0,0,0,0,0,0,0,0,0,0,0,0,0,0,0,0,0,0,0,0,0,0,0,0,0,0,0,0,0,0,0,0,0,0,0,0,0,0,0,0,0,0,0,0,0,0,0,0,0,0,0,0,0,0,0,0,0,0,0,0,0,0,0,0,0,0,0,0,0,0,0,0,0,0,0,0,0,0,0,0,0,0,0,0,0,0,0,0,0,0,0,0,0,0,0,0,0,0,0,0,0,0,0,0,0,0,0,0,0,0,0,0,0,0,0,0,0,0],\"xaxis\":\"x\",\"y\":[0.883,0.876,1.046,1.01,1.034,1.444,1.462,1.039,1.032,1.033,1.293,1.286,1.279,1.38,1.396,1.205,1.186,1.213,1.184,1.316,1.326,1.327,1.427,1.448,1.433,1.096,1.104,1.063,1.052,0.985,0.968,0.964,0.968,1.248,1.255,1.234,1.106,1.093,1.099,0.919,0.911,1.337,1.333,1.407,1.405,1.236,1.214,1.286,1.291,1.293,1.297,1.134,1.124,1.275,1.263,1.252,1.261,1.227,1.215,1.199,1.342,1.339,1.197,1.21,1.202,1.208,1.313,1.32,1.291,1.29,1.291,1.301,1.188,1.18,1.184,1.181,1.495,1.488,1.339,1.329,1.302,1.362,1.356,1.335,1.07,1.054,1.208,1.21,1.317,1.318,1.317,1.332,1.327,1.189,1.183,1.225,1.242,1.036,1.028,1.025,1.024,1.032,1.177,1.166,1.168,1.202,1.184,1.207,1.19,1.184,1.199,1.183,1.183,1.17,1.388,1.376,1.289,1.285,1.202,1.205,1.098,1.118,1.111,1.335,1.341,1.326,1.239,1.247,1.061,1.057,1.044,1.069,1.055,1.053,1.228,1.208,1.2,1.203,1.199,0.897,0.91,1.219,1.22,1.206,1.215,1.229,1.19,1.194,1.193,1.057,1.037,1.028,1.018,1.02,1.262,1.252,1.151,1.161,1.164,1.178,1.167,1.525,1.535,1.167,1.143,1.155,0.95,0.909,1.076,1.07,1.056,1.213,1.176,1.188,1.134,1.128,1.135,1.381,1.378,1.269,1.27,1.136,1.138,1.198,1.168,1.188,1.175,1.225,1.226,1.134,1.144,1.133,1.162,1.166,1.269,1.263,1.16,1.212,0.992,0.983,0.967,1.521,1.506,1.089,1.078,1.214,1.243,1.19,1.183,1.108,1.107,1.104,1.28,1.254,1.273,1.171,1.172,1.171,1.25,1.233,1.236,1.119,1.123,0.984,0.996,1.214,1.179,1.094,1.118,1.003,1.006,1.151,1.155,1.335,1.311,1.142,1.155,1.333,1.341,1.232,1.247,0.953,0.972,0.963,0.961,1.164,1.147,1.181,1.184,1.18,1.246,1.253,1.19,1.157,1.357,1.355,1.2,1.187,1.306,1.312,1.306,1.067,1.061,1.066,1.052,1.051,1.304,1.297,1.219,1.222,1.217,1.309,1.318,1.19,1.174,1.355,1.367,1.073,1.067,1.058,1.063,1.563,1.587,1.312,1.305,1.262,1.26,1.257,1.374,1.361,1.272,1.262,1.023,1.024,1.006,1.03,1.019,1.352,1.364,1.013,1.015,1.299,1.316,1.313,1.307,1.305,1.314,1.306,1.293,1.474,1.469,1.461,1.222,1.125,1.412,1.398,1.377,1.187,1.38,1.37,1.418,1.419,1.127,1.119,0.965,0.966,0.959,1.159,1.132,1.024,1.026,1.177,1.0,1.231,1.241,0.958,0.964,0.956,0.928,0.924,1.273,1.274,1.281,0.977,0.977,0.973,1.25,1.255,1.246,1.216,1.162,1.163,1.174,1.179,1.134,1.128,1.499,1.501,1.515,1.056,1.061,1.174,1.165,1.165,1.162,1.296,1.299,1.03,1.037,1.04,1.331,1.323,1.317,1.024,1.124,1.321,1.02,1.242,1.442,0.998,1.129,0.999,1.342,1.306,1.531,1.207,1.105,1.01,1.551,1.157,1.166,1.073,1.329,1.115,1.055,1.151,1.01,1.188,1.039,1.073,1.142,1.323,0.978,1.213,1.236,1.415,1.421,1.47,1.211,1.062,1.261,1.236,1.076,1.326,1.141,1.252,1.336,1.216,1.2,1.411,1.3,0.947,1.162,1.304,1.104,1.299,1.247,1.321,1.293,1.12,1.2,1.268,1.12,1.226,1.325,1.317,1.107,1.257,1.122,1.441,1.205,1.048,1.108,1.349,1.341,1.133,1.164,1.027,1.323,1.203,1.252,1.174,1.134,1.314,1.169,1.142,1.258,1.153,1.078,1.341,1.247,1.462,1.208,1.368,1.339,1.165,1.127,1.016,1.032,1.217,1.213,1.112,1.294,1.119,1.062,1.183,1.181,1.138,1.17,1.213,1.161,1.427,1.013,0.962,1.337,1.183,1.025,1.143,1.118,1.274,0.919,1.279,0.998,1.169,0.977,1.042,1.274,1.369,1.056,1.142,1.11,1.141,1.159,1.216,1.072,1.099,1.374,1.175,1.124,1.489,1.171,1.039,1.161,1.277,1.152,1.11,1.214,0.975,1.062,1.16,1.055,1.172,1.162,1.22,1.193,1.056,1.291,1.103,1.357,1.128,1.221,1.006,1.263,1.44,1.075,1.174,1.258,1.19,1.289,1.244,1.215,1.206,1.19,1.241,1.255,1.174,1.38,1.405,1.173,1.334,1.124,0.92,1.154,1.336,1.028,1.199,1.078,1.124,1.235,1.357,1.135,1.304,1.521,1.317,1.096,1.285,1.202,1.115,1.291,1.227,0.928,1.412,1.024,1.283,1.321,1.047,1.059,1.087,1.318,0.947,1.168,1.26,1.36,1.332,1.19,1.508,1.07,1.274,1.052,1.362,1.181,1.323,1.108,1.228,1.11,1.275,1.144,1.247,1.441,1.328,1.182,1.22,1.499,1.254,1.134,1.309,1.153,1.342,1.443,1.17,1.002,1.388,1.231,1.057,1.158,1.316,0.996,1.238,1.094,1.019,1.103,1.245,0.979,1.166,1.177,1.179,1.38,1.32,1.296,1.186,1.278,1.073,0.917,1.198,1.19,1.219,1.141,1.188,1.112,1.024,1.194,1.189,1.47,1.202,1.316,0.881,1.377,1.24,1.268,1.22,1.243,1.229,1.296,1.19,1.128,1.174,1.118,1.438,1.172,1.207,1.255,1.253,1.218,1.265,1.285,1.339,1.158,1.02,1.094,1.176,1.169,1.074,1.149,1.187,1.315,1.281,1.234,1.38,1.008,1.208,1.451,1.27,1.196,1.012,1.092,1.061,1.149,1.003,0.965,1.449,1.063,1.187,1.281,1.217,1.163,1.264,1.181,1.191,1.43,1.113,1.161,1.495,1.044,1.284,1.563,1.165,1.21,1.289,1.024,1.182,1.219,1.255,0.972,1.133,1.511,1.116,1.356,1.012,1.29,1.1,1.013,1.418,1.086,1.111,1.12,1.238,1.398,1.337,0.978,1.362,1.104,1.123,1.068,1.178,1.527,1.3,1.046,1.186,1.218,1.307,1.356,1.048,1.387,0.992,1.119,0.989,1.364,1.3,1.102,1.198,1.024,1.303,1.224,1.156,1.118,1.165,1.304,1.213,1.138,1.12,1.132,1.058,1.191,1.013,1.061,1.272,1.162,1.088,1.201,1.334,1.17,1.267,1.123,1.249,1.208,1.093,1.267,0.994,1.216,1.474,1.221,1.329,1.066,1.227,1.226,1.404,1.289,1.263,1.264,1.152,1.388,1.188,1.04,1.06,1.355,1.142,1.297,1.072,1.279],\"yaxis\":\"y\",\"type\":\"scatter\"}],                        {\"template\":{\"data\":{\"bar\":[{\"error_x\":{\"color\":\"#2a3f5f\"},\"error_y\":{\"color\":\"#2a3f5f\"},\"marker\":{\"line\":{\"color\":\"#E5ECF6\",\"width\":0.5},\"pattern\":{\"fillmode\":\"overlay\",\"size\":10,\"solidity\":0.2}},\"type\":\"bar\"}],\"barpolar\":[{\"marker\":{\"line\":{\"color\":\"#E5ECF6\",\"width\":0.5},\"pattern\":{\"fillmode\":\"overlay\",\"size\":10,\"solidity\":0.2}},\"type\":\"barpolar\"}],\"carpet\":[{\"aaxis\":{\"endlinecolor\":\"#2a3f5f\",\"gridcolor\":\"white\",\"linecolor\":\"white\",\"minorgridcolor\":\"white\",\"startlinecolor\":\"#2a3f5f\"},\"baxis\":{\"endlinecolor\":\"#2a3f5f\",\"gridcolor\":\"white\",\"linecolor\":\"white\",\"minorgridcolor\":\"white\",\"startlinecolor\":\"#2a3f5f\"},\"type\":\"carpet\"}],\"choropleth\":[{\"colorbar\":{\"outlinewidth\":0,\"ticks\":\"\"},\"type\":\"choropleth\"}],\"contour\":[{\"colorbar\":{\"outlinewidth\":0,\"ticks\":\"\"},\"colorscale\":[[0.0,\"#0d0887\"],[0.1111111111111111,\"#46039f\"],[0.2222222222222222,\"#7201a8\"],[0.3333333333333333,\"#9c179e\"],[0.4444444444444444,\"#bd3786\"],[0.5555555555555556,\"#d8576b\"],[0.6666666666666666,\"#ed7953\"],[0.7777777777777778,\"#fb9f3a\"],[0.8888888888888888,\"#fdca26\"],[1.0,\"#f0f921\"]],\"type\":\"contour\"}],\"contourcarpet\":[{\"colorbar\":{\"outlinewidth\":0,\"ticks\":\"\"},\"type\":\"contourcarpet\"}],\"heatmap\":[{\"colorbar\":{\"outlinewidth\":0,\"ticks\":\"\"},\"colorscale\":[[0.0,\"#0d0887\"],[0.1111111111111111,\"#46039f\"],[0.2222222222222222,\"#7201a8\"],[0.3333333333333333,\"#9c179e\"],[0.4444444444444444,\"#bd3786\"],[0.5555555555555556,\"#d8576b\"],[0.6666666666666666,\"#ed7953\"],[0.7777777777777778,\"#fb9f3a\"],[0.8888888888888888,\"#fdca26\"],[1.0,\"#f0f921\"]],\"type\":\"heatmap\"}],\"heatmapgl\":[{\"colorbar\":{\"outlinewidth\":0,\"ticks\":\"\"},\"colorscale\":[[0.0,\"#0d0887\"],[0.1111111111111111,\"#46039f\"],[0.2222222222222222,\"#7201a8\"],[0.3333333333333333,\"#9c179e\"],[0.4444444444444444,\"#bd3786\"],[0.5555555555555556,\"#d8576b\"],[0.6666666666666666,\"#ed7953\"],[0.7777777777777778,\"#fb9f3a\"],[0.8888888888888888,\"#fdca26\"],[1.0,\"#f0f921\"]],\"type\":\"heatmapgl\"}],\"histogram\":[{\"marker\":{\"pattern\":{\"fillmode\":\"overlay\",\"size\":10,\"solidity\":0.2}},\"type\":\"histogram\"}],\"histogram2d\":[{\"colorbar\":{\"outlinewidth\":0,\"ticks\":\"\"},\"colorscale\":[[0.0,\"#0d0887\"],[0.1111111111111111,\"#46039f\"],[0.2222222222222222,\"#7201a8\"],[0.3333333333333333,\"#9c179e\"],[0.4444444444444444,\"#bd3786\"],[0.5555555555555556,\"#d8576b\"],[0.6666666666666666,\"#ed7953\"],[0.7777777777777778,\"#fb9f3a\"],[0.8888888888888888,\"#fdca26\"],[1.0,\"#f0f921\"]],\"type\":\"histogram2d\"}],\"histogram2dcontour\":[{\"colorbar\":{\"outlinewidth\":0,\"ticks\":\"\"},\"colorscale\":[[0.0,\"#0d0887\"],[0.1111111111111111,\"#46039f\"],[0.2222222222222222,\"#7201a8\"],[0.3333333333333333,\"#9c179e\"],[0.4444444444444444,\"#bd3786\"],[0.5555555555555556,\"#d8576b\"],[0.6666666666666666,\"#ed7953\"],[0.7777777777777778,\"#fb9f3a\"],[0.8888888888888888,\"#fdca26\"],[1.0,\"#f0f921\"]],\"type\":\"histogram2dcontour\"}],\"mesh3d\":[{\"colorbar\":{\"outlinewidth\":0,\"ticks\":\"\"},\"type\":\"mesh3d\"}],\"parcoords\":[{\"line\":{\"colorbar\":{\"outlinewidth\":0,\"ticks\":\"\"}},\"type\":\"parcoords\"}],\"pie\":[{\"automargin\":true,\"type\":\"pie\"}],\"scatter\":[{\"marker\":{\"colorbar\":{\"outlinewidth\":0,\"ticks\":\"\"}},\"type\":\"scatter\"}],\"scatter3d\":[{\"line\":{\"colorbar\":{\"outlinewidth\":0,\"ticks\":\"\"}},\"marker\":{\"colorbar\":{\"outlinewidth\":0,\"ticks\":\"\"}},\"type\":\"scatter3d\"}],\"scattercarpet\":[{\"marker\":{\"colorbar\":{\"outlinewidth\":0,\"ticks\":\"\"}},\"type\":\"scattercarpet\"}],\"scattergeo\":[{\"marker\":{\"colorbar\":{\"outlinewidth\":0,\"ticks\":\"\"}},\"type\":\"scattergeo\"}],\"scattergl\":[{\"marker\":{\"colorbar\":{\"outlinewidth\":0,\"ticks\":\"\"}},\"type\":\"scattergl\"}],\"scattermapbox\":[{\"marker\":{\"colorbar\":{\"outlinewidth\":0,\"ticks\":\"\"}},\"type\":\"scattermapbox\"}],\"scatterpolar\":[{\"marker\":{\"colorbar\":{\"outlinewidth\":0,\"ticks\":\"\"}},\"type\":\"scatterpolar\"}],\"scatterpolargl\":[{\"marker\":{\"colorbar\":{\"outlinewidth\":0,\"ticks\":\"\"}},\"type\":\"scatterpolargl\"}],\"scatterternary\":[{\"marker\":{\"colorbar\":{\"outlinewidth\":0,\"ticks\":\"\"}},\"type\":\"scatterternary\"}],\"surface\":[{\"colorbar\":{\"outlinewidth\":0,\"ticks\":\"\"},\"colorscale\":[[0.0,\"#0d0887\"],[0.1111111111111111,\"#46039f\"],[0.2222222222222222,\"#7201a8\"],[0.3333333333333333,\"#9c179e\"],[0.4444444444444444,\"#bd3786\"],[0.5555555555555556,\"#d8576b\"],[0.6666666666666666,\"#ed7953\"],[0.7777777777777778,\"#fb9f3a\"],[0.8888888888888888,\"#fdca26\"],[1.0,\"#f0f921\"]],\"type\":\"surface\"}],\"table\":[{\"cells\":{\"fill\":{\"color\":\"#EBF0F8\"},\"line\":{\"color\":\"white\"}},\"header\":{\"fill\":{\"color\":\"#C8D4E3\"},\"line\":{\"color\":\"white\"}},\"type\":\"table\"}]},\"layout\":{\"annotationdefaults\":{\"arrowcolor\":\"#2a3f5f\",\"arrowhead\":0,\"arrowwidth\":1},\"autotypenumbers\":\"strict\",\"coloraxis\":{\"colorbar\":{\"outlinewidth\":0,\"ticks\":\"\"}},\"colorscale\":{\"diverging\":[[0,\"#8e0152\"],[0.1,\"#c51b7d\"],[0.2,\"#de77ae\"],[0.3,\"#f1b6da\"],[0.4,\"#fde0ef\"],[0.5,\"#f7f7f7\"],[0.6,\"#e6f5d0\"],[0.7,\"#b8e186\"],[0.8,\"#7fbc41\"],[0.9,\"#4d9221\"],[1,\"#276419\"]],\"sequential\":[[0.0,\"#0d0887\"],[0.1111111111111111,\"#46039f\"],[0.2222222222222222,\"#7201a8\"],[0.3333333333333333,\"#9c179e\"],[0.4444444444444444,\"#bd3786\"],[0.5555555555555556,\"#d8576b\"],[0.6666666666666666,\"#ed7953\"],[0.7777777777777778,\"#fb9f3a\"],[0.8888888888888888,\"#fdca26\"],[1.0,\"#f0f921\"]],\"sequentialminus\":[[0.0,\"#0d0887\"],[0.1111111111111111,\"#46039f\"],[0.2222222222222222,\"#7201a8\"],[0.3333333333333333,\"#9c179e\"],[0.4444444444444444,\"#bd3786\"],[0.5555555555555556,\"#d8576b\"],[0.6666666666666666,\"#ed7953\"],[0.7777777777777778,\"#fb9f3a\"],[0.8888888888888888,\"#fdca26\"],[1.0,\"#f0f921\"]]},\"colorway\":[\"#636efa\",\"#EF553B\",\"#00cc96\",\"#ab63fa\",\"#FFA15A\",\"#19d3f3\",\"#FF6692\",\"#B6E880\",\"#FF97FF\",\"#FECB52\"],\"font\":{\"color\":\"#2a3f5f\"},\"geo\":{\"bgcolor\":\"white\",\"lakecolor\":\"white\",\"landcolor\":\"#E5ECF6\",\"showlakes\":true,\"showland\":true,\"subunitcolor\":\"white\"},\"hoverlabel\":{\"align\":\"left\"},\"hovermode\":\"closest\",\"mapbox\":{\"style\":\"light\"},\"paper_bgcolor\":\"white\",\"plot_bgcolor\":\"#E5ECF6\",\"polar\":{\"angularaxis\":{\"gridcolor\":\"white\",\"linecolor\":\"white\",\"ticks\":\"\"},\"bgcolor\":\"#E5ECF6\",\"radialaxis\":{\"gridcolor\":\"white\",\"linecolor\":\"white\",\"ticks\":\"\"}},\"scene\":{\"xaxis\":{\"backgroundcolor\":\"#E5ECF6\",\"gridcolor\":\"white\",\"gridwidth\":2,\"linecolor\":\"white\",\"showbackground\":true,\"ticks\":\"\",\"zerolinecolor\":\"white\"},\"yaxis\":{\"backgroundcolor\":\"#E5ECF6\",\"gridcolor\":\"white\",\"gridwidth\":2,\"linecolor\":\"white\",\"showbackground\":true,\"ticks\":\"\",\"zerolinecolor\":\"white\"},\"zaxis\":{\"backgroundcolor\":\"#E5ECF6\",\"gridcolor\":\"white\",\"gridwidth\":2,\"linecolor\":\"white\",\"showbackground\":true,\"ticks\":\"\",\"zerolinecolor\":\"white\"}},\"shapedefaults\":{\"line\":{\"color\":\"#2a3f5f\"}},\"ternary\":{\"aaxis\":{\"gridcolor\":\"white\",\"linecolor\":\"white\",\"ticks\":\"\"},\"baxis\":{\"gridcolor\":\"white\",\"linecolor\":\"white\",\"ticks\":\"\"},\"bgcolor\":\"#E5ECF6\",\"caxis\":{\"gridcolor\":\"white\",\"linecolor\":\"white\",\"ticks\":\"\"}},\"title\":{\"x\":0.05},\"xaxis\":{\"automargin\":true,\"gridcolor\":\"white\",\"linecolor\":\"white\",\"ticks\":\"\",\"title\":{\"standoff\":15},\"zerolinecolor\":\"white\",\"zerolinewidth\":2},\"yaxis\":{\"automargin\":true,\"gridcolor\":\"white\",\"linecolor\":\"white\",\"ticks\":\"\",\"title\":{\"standoff\":15},\"zerolinecolor\":\"white\",\"zerolinewidth\":2}}},\"xaxis\":{\"anchor\":\"y\",\"domain\":[0.0,1.0],\"title\":{\"text\":\"Group\"}},\"yaxis\":{\"anchor\":\"x\",\"domain\":[0.0,1.0],\"title\":{\"text\":\"ASF\"}},\"coloraxis\":{\"colorbar\":{\"title\":{\"text\":\"Group\"}},\"colorscale\":[[0.0,\"#0d0887\"],[0.1111111111111111,\"#46039f\"],[0.2222222222222222,\"#7201a8\"],[0.3333333333333333,\"#9c179e\"],[0.4444444444444444,\"#bd3786\"],[0.5555555555555556,\"#d8576b\"],[0.6666666666666666,\"#ed7953\"],[0.7777777777777778,\"#fb9f3a\"],[0.8888888888888888,\"#fdca26\"],[1.0,\"#f0f921\"]]},\"legend\":{\"tracegroupgap\":0},\"margin\":{\"t\":60}},                        {\"responsive\": true}                    ).then(function(){\n",
              "                            \n",
              "var gd = document.getElementById('1bb481aa-c286-4f5e-81d6-b60586ecf0b6');\n",
              "var x = new MutationObserver(function (mutations, observer) {{\n",
              "        var display = window.getComputedStyle(gd).display;\n",
              "        if (!display || display === 'none') {{\n",
              "            console.log([gd, 'removed!']);\n",
              "            Plotly.purge(gd);\n",
              "            observer.disconnect();\n",
              "        }}\n",
              "}});\n",
              "\n",
              "// Listen for the removal of the full notebook cells\n",
              "var notebookContainer = gd.closest('#notebook-container');\n",
              "if (notebookContainer) {{\n",
              "    x.observe(notebookContainer, {childList: true});\n",
              "}}\n",
              "\n",
              "// Listen for the clearing of the current output cell\n",
              "var outputEl = gd.closest('.output');\n",
              "if (outputEl) {{\n",
              "    x.observe(outputEl, {childList: true});\n",
              "}}\n",
              "\n",
              "                        })                };                            </script>        </div>\n",
              "</body>\n",
              "</html>"
            ]
          },
          "metadata": {}
        }
      ],
      "source": [
        "import plotly.express as px\n",
        "fig = px.scatter(data, x='Group', y='ASF', color='Group')\n",
        "fig.show()"
      ]
    },
    {
      "cell_type": "code",
      "execution_count": null,
      "metadata": {
        "colab": {
          "base_uri": "https://localhost:8080/"
        },
        "id": "1R8jO6p6gmUy",
        "outputId": "da809604-2ebc-483b-8de8-c6300c30f6e8"
      },
      "outputs": [
        {
          "output_type": "execute_result",
          "data": {
            "text/plain": [
              "Subject ID    370\n",
              "MRI ID          0\n",
              "Group           0\n",
              "Visit           1\n",
              "MR Delay        1\n",
              "M/F             0\n",
              "Hand            0\n",
              "Age             0\n",
              "EDUC          181\n",
              "SES           220\n",
              "MMSE          183\n",
              "CDR           181\n",
              "eTIV            0\n",
              "nWBV            0\n",
              "ASF             0\n",
              "dtype: int64"
            ]
          },
          "metadata": {},
          "execution_count": 13
        }
      ],
      "source": [
        "data.isnull().sum()"
      ]
    },
    {
      "cell_type": "code",
      "execution_count": null,
      "metadata": {
        "colab": {
          "base_uri": "https://localhost:8080/"
        },
        "id": "H2GkQowNgqai",
        "outputId": "e9e95fc6-4358-4970-910c-8c000a3ed7af"
      },
      "outputs": [
        {
          "output_type": "execute_result",
          "data": {
            "text/plain": [
              "Subject ID    370\n",
              "MRI ID          0\n",
              "Group           0\n",
              "Visit           0\n",
              "MR Delay        0\n",
              "M/F             0\n",
              "Hand            0\n",
              "Age             0\n",
              "EDUC            0\n",
              "SES             0\n",
              "MMSE            0\n",
              "CDR             0\n",
              "eTIV            0\n",
              "nWBV            0\n",
              "ASF             0\n",
              "dtype: int64"
            ]
          },
          "metadata": {},
          "execution_count": 14
        }
      ],
      "source": [
        "median = data['MMSE'].median()\n",
        "data['MMSE'].fillna(median, inplace=True)\n",
        "data.isnull().sum()\n",
        "\n",
        "median = data['EDUC'].median()\n",
        "data['EDUC'].fillna(median, inplace=True)\n",
        "data.isnull().sum()\n",
        "\n",
        "median = data['CDR'].median()\n",
        "data['CDR'].fillna(median, inplace=True)\n",
        "data.isnull().sum()\n",
        "\n",
        "median = data['Visit'].median()\n",
        "data['Visit'].fillna(median, inplace=True)\n",
        "data.isnull().sum()\n",
        "\n",
        "median = data['MR Delay'].median()\n",
        "data['MR Delay'].fillna(median, inplace=True)\n",
        "data.isnull().sum()\n",
        "\n",
        "median = data['SES'].median()\n",
        "data['SES'].fillna(median, inplace=True)\n",
        "data.isnull().sum()"
      ]
    },
    {
      "cell_type": "code",
      "execution_count": null,
      "metadata": {
        "id": "st4I07OlhJwp"
      },
      "outputs": [],
      "source": [
        "y = data['Group'].values\n",
        "X = data[['M/F', 'Age', 'EDUC', 'SES', 'MMSE', 'eTIV', 'nWBV', 'ASF']]"
      ]
    },
    {
      "cell_type": "code",
      "execution_count": null,
      "metadata": {
        "colab": {
          "base_uri": "https://localhost:8080/"
        },
        "id": "a3Qh76QYhPeb",
        "outputId": "c05ce786-a83e-4977-e697-e2d0bc3a3198"
      },
      "outputs": [
        {
          "output_type": "stream",
          "name": "stdout",
          "text": [
            "In Training Split:\n",
            "0    559\n",
            "Name: 0, dtype: int64\n",
            "\n",
            "In Testing Split:\n",
            "0    240\n",
            "Name: 0, dtype: int64\n"
          ]
        }
      ],
      "source": [
        "X_train, X_test, y_train, y_test = train_test_split(X, y, test_size= 0.30, random_state=2)\n",
        "\n",
        "df_ytrain = pd.DataFrame(y_train)\n",
        "df_ytest = pd.DataFrame(y_test)\n",
        "\n",
        "print('In Training Split:')\n",
        "print(df_ytrain[0].value_counts())\n",
        "\n",
        "print('\\nIn Testing Split:')\n",
        "print(df_ytest[0].value_counts())"
      ]
    },
    {
      "cell_type": "code",
      "execution_count": null,
      "metadata": {
        "colab": {
          "base_uri": "https://localhost:8080/"
        },
        "id": "8DUpS81MhoMz",
        "outputId": "260a5ea2-f45b-4258-8dfa-e8e483b563df"
      },
      "outputs": [
        {
          "output_type": "stream",
          "name": "stdout",
          "text": [
            "In Training Split:\n",
            "0    639\n",
            "Name: 0, dtype: int64\n",
            "\n",
            "In Testing Split:\n",
            "0    160\n",
            "Name: 0, dtype: int64\n"
          ]
        }
      ],
      "source": [
        "X_train, X_test, y_train, y_test = train_test_split(X, y, test_size= 0.20, random_state=50, stratify=y)\n",
        "\n",
        "df_ytrain = pd.DataFrame(y_train)\n",
        "df_ytest = pd.DataFrame(y_test)\n",
        "\n",
        "print('In Training Split:')\n",
        "print(df_ytrain[0].value_counts())\n",
        "\n",
        "print('\\nIn Testing Split:')\n",
        "print(df_ytest[0].value_counts())"
      ]
    },
    {
      "cell_type": "code",
      "execution_count": null,
      "metadata": {
        "id": "wNh2Tk2ch0ep"
      },
      "outputs": [],
      "source": [
        "scaler = StandardScaler().fit(X_train)\n",
        "#scaler = MinMaxScaler().fit(X_train)\n",
        "X_train_scaled = scaler.transform(X_train)\n",
        "X_test_scaled = scaler.transform(X_test)"
      ]
    },
    {
      "cell_type": "code",
      "execution_count": null,
      "metadata": {
        "colab": {
          "base_uri": "https://localhost:8080/"
        },
        "id": "wyKcp7kCiCui",
        "outputId": "5c9e7ae7-fb36-4850-85ed-09fdeda537f2"
      },
      "outputs": [
        {
          "output_type": "execute_result",
          "data": {
            "text/plain": [
              "array([[-0.82022855,  0.40818865,  0.06380094, ...,  0.30008944,\n",
              "        -0.63100297, -0.40514452],\n",
              "       [-0.82022855, -0.70230415,  0.06380094, ..., -0.76059338,\n",
              "         1.36858935,  0.71893144],\n",
              "       [ 1.21917239,  0.36376894,  0.77488468, ...,  1.84940144,\n",
              "        -0.51033791, -1.63343944],\n",
              "       ...,\n",
              "       [ 1.21917239,  0.98564491, -2.78053402, ..., -0.98703129,\n",
              "        -0.6654787 ,  0.98692306],\n",
              "       [ 1.21917239, -0.92440271,  0.06380094, ...,  0.44906175,\n",
              "         0.88592914, -0.53914033],\n",
              "       [-0.82022855,  1.25216318, -2.06945028, ..., -0.58182662,\n",
              "        -0.38967286,  0.5030493 ]])"
            ]
          },
          "metadata": {},
          "execution_count": 19
        }
      ],
      "source": [
        "X_train_scaled"
      ]
    },
    {
      "cell_type": "code",
      "execution_count": null,
      "metadata": {
        "colab": {
          "base_uri": "https://localhost:8080/",
          "height": 300
        },
        "id": "brIjwmBGiJ56",
        "outputId": "c30c7370-3868-4e65-9e07-799d442cd485"
      },
      "outputs": [
        {
          "output_type": "execute_result",
          "data": {
            "text/plain": [
              "         M/F         Age        EDUC         SES        MMSE         eTIV  \\\n",
              "count  639.0  639.000000  639.000000  639.000000  639.000000   639.000000   \n",
              "mean     0.0   63.724570   12.649452    2.333333   27.607199  1487.278560   \n",
              "std      0.0   22.983282    4.160472    0.977810    3.239259   167.554756   \n",
              "min      0.0   18.000000    1.000000    1.000000    7.000000  1106.000000   \n",
              "25%      0.0   50.000000   12.000000    2.000000   27.000000  1361.000000   \n",
              "50%      0.0   73.000000   13.000000    2.000000   29.000000  1476.000000   \n",
              "75%      0.0   80.000000   15.000000    3.000000   29.000000  1584.500000   \n",
              "max      0.0   98.000000   23.000000    5.000000   30.000000  2004.000000   \n",
              "\n",
              "             nWBV         ASF  \n",
              "count  639.000000  639.000000  \n",
              "mean     0.761512    1.195817  \n",
              "std      0.058977    0.133382  \n",
              "min      0.644000    0.876000  \n",
              "25%      0.715000    1.107500  \n",
              "50%      0.752000    1.190000  \n",
              "75%      0.813500    1.291000  \n",
              "max      0.893000    1.587000  "
            ],
            "text/html": [
              "\n",
              "  <div id=\"df-9a262482-ec4f-4ec0-9b25-a2987a40fb8c\">\n",
              "    <div class=\"colab-df-container\">\n",
              "      <div>\n",
              "<style scoped>\n",
              "    .dataframe tbody tr th:only-of-type {\n",
              "        vertical-align: middle;\n",
              "    }\n",
              "\n",
              "    .dataframe tbody tr th {\n",
              "        vertical-align: top;\n",
              "    }\n",
              "\n",
              "    .dataframe thead th {\n",
              "        text-align: right;\n",
              "    }\n",
              "</style>\n",
              "<table border=\"1\" class=\"dataframe\">\n",
              "  <thead>\n",
              "    <tr style=\"text-align: right;\">\n",
              "      <th></th>\n",
              "      <th>M/F</th>\n",
              "      <th>Age</th>\n",
              "      <th>EDUC</th>\n",
              "      <th>SES</th>\n",
              "      <th>MMSE</th>\n",
              "      <th>eTIV</th>\n",
              "      <th>nWBV</th>\n",
              "      <th>ASF</th>\n",
              "    </tr>\n",
              "  </thead>\n",
              "  <tbody>\n",
              "    <tr>\n",
              "      <th>count</th>\n",
              "      <td>639.0</td>\n",
              "      <td>639.000000</td>\n",
              "      <td>639.000000</td>\n",
              "      <td>639.000000</td>\n",
              "      <td>639.000000</td>\n",
              "      <td>639.000000</td>\n",
              "      <td>639.000000</td>\n",
              "      <td>639.000000</td>\n",
              "    </tr>\n",
              "    <tr>\n",
              "      <th>mean</th>\n",
              "      <td>0.0</td>\n",
              "      <td>63.724570</td>\n",
              "      <td>12.649452</td>\n",
              "      <td>2.333333</td>\n",
              "      <td>27.607199</td>\n",
              "      <td>1487.278560</td>\n",
              "      <td>0.761512</td>\n",
              "      <td>1.195817</td>\n",
              "    </tr>\n",
              "    <tr>\n",
              "      <th>std</th>\n",
              "      <td>0.0</td>\n",
              "      <td>22.983282</td>\n",
              "      <td>4.160472</td>\n",
              "      <td>0.977810</td>\n",
              "      <td>3.239259</td>\n",
              "      <td>167.554756</td>\n",
              "      <td>0.058977</td>\n",
              "      <td>0.133382</td>\n",
              "    </tr>\n",
              "    <tr>\n",
              "      <th>min</th>\n",
              "      <td>0.0</td>\n",
              "      <td>18.000000</td>\n",
              "      <td>1.000000</td>\n",
              "      <td>1.000000</td>\n",
              "      <td>7.000000</td>\n",
              "      <td>1106.000000</td>\n",
              "      <td>0.644000</td>\n",
              "      <td>0.876000</td>\n",
              "    </tr>\n",
              "    <tr>\n",
              "      <th>25%</th>\n",
              "      <td>0.0</td>\n",
              "      <td>50.000000</td>\n",
              "      <td>12.000000</td>\n",
              "      <td>2.000000</td>\n",
              "      <td>27.000000</td>\n",
              "      <td>1361.000000</td>\n",
              "      <td>0.715000</td>\n",
              "      <td>1.107500</td>\n",
              "    </tr>\n",
              "    <tr>\n",
              "      <th>50%</th>\n",
              "      <td>0.0</td>\n",
              "      <td>73.000000</td>\n",
              "      <td>13.000000</td>\n",
              "      <td>2.000000</td>\n",
              "      <td>29.000000</td>\n",
              "      <td>1476.000000</td>\n",
              "      <td>0.752000</td>\n",
              "      <td>1.190000</td>\n",
              "    </tr>\n",
              "    <tr>\n",
              "      <th>75%</th>\n",
              "      <td>0.0</td>\n",
              "      <td>80.000000</td>\n",
              "      <td>15.000000</td>\n",
              "      <td>3.000000</td>\n",
              "      <td>29.000000</td>\n",
              "      <td>1584.500000</td>\n",
              "      <td>0.813500</td>\n",
              "      <td>1.291000</td>\n",
              "    </tr>\n",
              "    <tr>\n",
              "      <th>max</th>\n",
              "      <td>0.0</td>\n",
              "      <td>98.000000</td>\n",
              "      <td>23.000000</td>\n",
              "      <td>5.000000</td>\n",
              "      <td>30.000000</td>\n",
              "      <td>2004.000000</td>\n",
              "      <td>0.893000</td>\n",
              "      <td>1.587000</td>\n",
              "    </tr>\n",
              "  </tbody>\n",
              "</table>\n",
              "</div>\n",
              "      <button class=\"colab-df-convert\" onclick=\"convertToInteractive('df-9a262482-ec4f-4ec0-9b25-a2987a40fb8c')\"\n",
              "              title=\"Convert this dataframe to an interactive table.\"\n",
              "              style=\"display:none;\">\n",
              "        \n",
              "  <svg xmlns=\"http://www.w3.org/2000/svg\" height=\"24px\"viewBox=\"0 0 24 24\"\n",
              "       width=\"24px\">\n",
              "    <path d=\"M0 0h24v24H0V0z\" fill=\"none\"/>\n",
              "    <path d=\"M18.56 5.44l.94 2.06.94-2.06 2.06-.94-2.06-.94-.94-2.06-.94 2.06-2.06.94zm-11 1L8.5 8.5l.94-2.06 2.06-.94-2.06-.94L8.5 2.5l-.94 2.06-2.06.94zm10 10l.94 2.06.94-2.06 2.06-.94-2.06-.94-.94-2.06-.94 2.06-2.06.94z\"/><path d=\"M17.41 7.96l-1.37-1.37c-.4-.4-.92-.59-1.43-.59-.52 0-1.04.2-1.43.59L10.3 9.45l-7.72 7.72c-.78.78-.78 2.05 0 2.83L4 21.41c.39.39.9.59 1.41.59.51 0 1.02-.2 1.41-.59l7.78-7.78 2.81-2.81c.8-.78.8-2.07 0-2.86zM5.41 20L4 18.59l7.72-7.72 1.47 1.35L5.41 20z\"/>\n",
              "  </svg>\n",
              "      </button>\n",
              "      \n",
              "  <style>\n",
              "    .colab-df-container {\n",
              "      display:flex;\n",
              "      flex-wrap:wrap;\n",
              "      gap: 12px;\n",
              "    }\n",
              "\n",
              "    .colab-df-convert {\n",
              "      background-color: #E8F0FE;\n",
              "      border: none;\n",
              "      border-radius: 50%;\n",
              "      cursor: pointer;\n",
              "      display: none;\n",
              "      fill: #1967D2;\n",
              "      height: 32px;\n",
              "      padding: 0 0 0 0;\n",
              "      width: 32px;\n",
              "    }\n",
              "\n",
              "    .colab-df-convert:hover {\n",
              "      background-color: #E2EBFA;\n",
              "      box-shadow: 0px 1px 2px rgba(60, 64, 67, 0.3), 0px 1px 3px 1px rgba(60, 64, 67, 0.15);\n",
              "      fill: #174EA6;\n",
              "    }\n",
              "\n",
              "    [theme=dark] .colab-df-convert {\n",
              "      background-color: #3B4455;\n",
              "      fill: #D2E3FC;\n",
              "    }\n",
              "\n",
              "    [theme=dark] .colab-df-convert:hover {\n",
              "      background-color: #434B5C;\n",
              "      box-shadow: 0px 1px 3px 1px rgba(0, 0, 0, 0.15);\n",
              "      filter: drop-shadow(0px 1px 2px rgba(0, 0, 0, 0.3));\n",
              "      fill: #FFFFFF;\n",
              "    }\n",
              "  </style>\n",
              "\n",
              "      <script>\n",
              "        const buttonEl =\n",
              "          document.querySelector('#df-9a262482-ec4f-4ec0-9b25-a2987a40fb8c button.colab-df-convert');\n",
              "        buttonEl.style.display =\n",
              "          google.colab.kernel.accessAllowed ? 'block' : 'none';\n",
              "\n",
              "        async function convertToInteractive(key) {\n",
              "          const element = document.querySelector('#df-9a262482-ec4f-4ec0-9b25-a2987a40fb8c');\n",
              "          const dataTable =\n",
              "            await google.colab.kernel.invokeFunction('convertToInteractive',\n",
              "                                                     [key], {});\n",
              "          if (!dataTable) return;\n",
              "\n",
              "          const docLinkHtml = 'Like what you see? Visit the ' +\n",
              "            '<a target=\"_blank\" href=https://colab.research.google.com/notebooks/data_table.ipynb>data table notebook</a>'\n",
              "            + ' to learn more about interactive tables.';\n",
              "          element.innerHTML = '';\n",
              "          dataTable['output_type'] = 'display_data';\n",
              "          await google.colab.output.renderOutput(dataTable, element);\n",
              "          const docLink = document.createElement('div');\n",
              "          docLink.innerHTML = docLinkHtml;\n",
              "          element.appendChild(docLink);\n",
              "        }\n",
              "      </script>\n",
              "    </div>\n",
              "  </div>\n",
              "  "
            ]
          },
          "metadata": {},
          "execution_count": 26
        }
      ],
      "source": [
        "X_train.describe()"
      ]
    },
    {
      "cell_type": "code",
      "execution_count": null,
      "metadata": {
        "id": "yRGOF2u_iT9Z"
      },
      "outputs": [],
      "source": [
        "X_train.hist(bins=25, figsize=(15,15))\n",
        "plt.show()"
      ]
    },
    {
      "cell_type": "code",
      "execution_count": null,
      "metadata": {
        "colab": {
          "base_uri": "https://localhost:8080/",
          "height": 542
        },
        "id": "OI-A44DsiYxJ",
        "outputId": "8423cbbb-b0d6-4c63-ef59-f185ea8555e5"
      },
      "outputs": [
        {
          "output_type": "display_data",
          "data": {
            "text/html": [
              "<html>\n",
              "<head><meta charset=\"utf-8\" /></head>\n",
              "<body>\n",
              "    <div>            <script src=\"https://cdnjs.cloudflare.com/ajax/libs/mathjax/2.7.5/MathJax.js?config=TeX-AMS-MML_SVG\"></script><script type=\"text/javascript\">if (window.MathJax) {MathJax.Hub.Config({SVG: {font: \"STIX-Web\"}});}</script>                <script type=\"text/javascript\">window.PlotlyConfig = {MathJaxConfig: 'local'};</script>\n",
              "        <script src=\"https://cdn.plot.ly/plotly-2.8.3.min.js\"></script>                <div id=\"e9e65ac9-1477-4bd9-a623-d35f3fe0e48a\" class=\"plotly-graph-div\" style=\"height:525px; width:100%;\"></div>            <script type=\"text/javascript\">                                    window.PLOTLYENV=window.PLOTLYENV || {};                                    if (document.getElementById(\"e9e65ac9-1477-4bd9-a623-d35f3fe0e48a\")) {                    Plotly.newPlot(                        \"e9e65ac9-1477-4bd9-a623-d35f3fe0e48a\",                        [{\"alignmentgroup\":\"True\",\"bingroup\":\"x\",\"hovertemplate\":\"eTIV=%{x}<br>count=%{y}<extra></extra>\",\"legendgroup\":\"\",\"marker\":{\"color\":\"#636efa\",\"pattern\":{\"shape\":\"\"}},\"name\":\"\",\"nbinsx\":10,\"offsetgroup\":\"\",\"orientation\":\"v\",\"showlegend\":false,\"x\":[1275,1569,1631,1482,1783,1636,1814,1484,1256,1335,1569,1538,1315,1480,1548,1337,1559,1450,1385,1820,1376,1464,1479,1668,1492,1357,1699,1361,1358,1483,1522,1313,1591,1371,1398,1751,1453,1432,1640,1561,1745,1693,1345,1926,1335,1154,1498,1473,1362,1551,1434,1200,1495,1641,1384,1497,1211,1399,1534,1471,1506,1274,1588,1298,1396,1911,1311,1536,1405,1247,1439,1722,1513,1164,1507,1662,1346,1514,1401,1335,1512,1569,1568,1633,1265,1366,1505,1323,1444,1527,1607,1567,1425,1520,1255,1393,1418,1445,1485,1695,1562,1501,1661,1445,1508,1238,1341,1518,1564,1713,1346,1464,1334,1324,1408,1714,1412,1732,1444,1769,1732,1676,1287,1577,1194,1453,1660,1307,1506,1422,1342,1542,1654,1817,1283,1309,1510,1493,1578,1273,1333,2004,1507,1820,1475,1444,1402,1445,1309,1755,1165,1494,1507,1489,1395,1401,1569,1567,1744,1550,1416,1500,1848,1657,1332,1441,1440,1484,1392,1353,1344,1475,1474,1556,1503,1396,1243,1604,1230,1740,1336,1709,1272,1209,1562,1465,1225,1582,1391,1517,1544,1678,1450,1314,1488,1720,1538,1806,1511,1327,1179,1329,1398,1712,1708,1331,1477,1324,1123,1327,1423,1689,1333,1360,1783,1738,1744,1891,1631,1604,1281,1734,1617,1428,1474,1366,1373,1221,1453,1295,1500,1524,1463,1650,1316,1257,1441,1149,1720,1293,1475,1514,1463,1440,1678,1536,1272,1331,1529,1333,1854,1553,1169,1547,1596,1557,1659,1402,1684,1446,1447,1578,1437,1484,1467,1321,1602,1449,1911,1419,1412,1549,1313,1332,1665,1510,1375,1431,1644,1913,1486,1806,1362,1200,1523,1308,1390,1500,1320,1647,1556,1497,1354,1440,1534,1411,1430,1388,1174,1106,1759,1635,1354,1737,1383,1333,1334,1227,1377,1215,1766,1637,1453,1461,1590,1660,1274,1899,1475,1243,1536,1154,1908,1796,1505,1689,1497,1264,1379,1710,1668,1388,1520,1438,1611,1425,1670,1510,1313,1236,1454,1499,1291,1407,1591,1483,1417,1597,1640,1664,1338,1381,1628,1486,1485,1516,1360,1362,1390,1344,1561,1660,1428,1272,1570,1171,1307,1501,1734,1272,1525,1738,1316,1475,1722,1549,1512,1590,1674,1218,1337,1582,1504,1314,1322,1813,1692,1818,1654,1407,1415,1442,1495,1542,1628,1316,1653,1334,1361,1483,1477,1733,1556,1715,1832,1289,1628,1495,1358,1489,1455,1264,1750,1478,1455,1350,1441,1288,1436,1704,1663,1484,1680,1454,1485,1323,1592,1446,1462,1520,1319,1503,1714,1147,1569,1432,1380,1329,1378,1604,1355,1461,1217,1406,1194,1479,1491,1295,1431,1393,1354,1796,1295,1383,1309,1284,1687,1516,1655,1453,1470,1443,1348,1250,1689,1510,1380,1367,1803,1562,1372,1414,1795,1143,1480,1537,1389,1512,1668,1161,1653,1556,1313,1361,1460,1415,1491,1487,1439,1785,1250,1476,1429,1854,1410,1488,1456,1583,1707,1654,1586,1525,1400,1463,1390,1459,1478,1343,1340,1372,1323,1662,1567,1580,1484,1992,1643,1423,1462,1151,1444,1426,1271,1482,1701,1581,1350,1475,1408,1688,1891,1536,1827,1365,1461,1447,1499,1546,1346,1230,1339,1599,1365,1465,1343,1495,1288,1457,1796,1842,1328,1506,1475,1836,1453,1583,1561,1614,1219,1421,1511,1707,1370,1490,1351,1528,1557,1517,1357,1477,1931,1439,1311,1332,1354,1675,1212,1769,1714,1606,1928,1613,1606,1350,1471,1368,1398,1493,1480,1636,1830,1171,1728,1381,1490,1479,1634,1664,1826,1377,1475,1701,1459,1579,1551,1432,1823,1326,1659,1714,1442,1574,1732,1502,1572,1351,1344,1301,1499,1264,1562,1346,1384,1550,1287,1426,1521,1651,1491,1240,1159,1567,1277,1451,1713,1311,1825,1647,1542],\"xaxis\":\"x\",\"yaxis\":\"y\",\"type\":\"histogram\"}],                        {\"template\":{\"data\":{\"bar\":[{\"error_x\":{\"color\":\"#2a3f5f\"},\"error_y\":{\"color\":\"#2a3f5f\"},\"marker\":{\"line\":{\"color\":\"#E5ECF6\",\"width\":0.5},\"pattern\":{\"fillmode\":\"overlay\",\"size\":10,\"solidity\":0.2}},\"type\":\"bar\"}],\"barpolar\":[{\"marker\":{\"line\":{\"color\":\"#E5ECF6\",\"width\":0.5},\"pattern\":{\"fillmode\":\"overlay\",\"size\":10,\"solidity\":0.2}},\"type\":\"barpolar\"}],\"carpet\":[{\"aaxis\":{\"endlinecolor\":\"#2a3f5f\",\"gridcolor\":\"white\",\"linecolor\":\"white\",\"minorgridcolor\":\"white\",\"startlinecolor\":\"#2a3f5f\"},\"baxis\":{\"endlinecolor\":\"#2a3f5f\",\"gridcolor\":\"white\",\"linecolor\":\"white\",\"minorgridcolor\":\"white\",\"startlinecolor\":\"#2a3f5f\"},\"type\":\"carpet\"}],\"choropleth\":[{\"colorbar\":{\"outlinewidth\":0,\"ticks\":\"\"},\"type\":\"choropleth\"}],\"contour\":[{\"colorbar\":{\"outlinewidth\":0,\"ticks\":\"\"},\"colorscale\":[[0.0,\"#0d0887\"],[0.1111111111111111,\"#46039f\"],[0.2222222222222222,\"#7201a8\"],[0.3333333333333333,\"#9c179e\"],[0.4444444444444444,\"#bd3786\"],[0.5555555555555556,\"#d8576b\"],[0.6666666666666666,\"#ed7953\"],[0.7777777777777778,\"#fb9f3a\"],[0.8888888888888888,\"#fdca26\"],[1.0,\"#f0f921\"]],\"type\":\"contour\"}],\"contourcarpet\":[{\"colorbar\":{\"outlinewidth\":0,\"ticks\":\"\"},\"type\":\"contourcarpet\"}],\"heatmap\":[{\"colorbar\":{\"outlinewidth\":0,\"ticks\":\"\"},\"colorscale\":[[0.0,\"#0d0887\"],[0.1111111111111111,\"#46039f\"],[0.2222222222222222,\"#7201a8\"],[0.3333333333333333,\"#9c179e\"],[0.4444444444444444,\"#bd3786\"],[0.5555555555555556,\"#d8576b\"],[0.6666666666666666,\"#ed7953\"],[0.7777777777777778,\"#fb9f3a\"],[0.8888888888888888,\"#fdca26\"],[1.0,\"#f0f921\"]],\"type\":\"heatmap\"}],\"heatmapgl\":[{\"colorbar\":{\"outlinewidth\":0,\"ticks\":\"\"},\"colorscale\":[[0.0,\"#0d0887\"],[0.1111111111111111,\"#46039f\"],[0.2222222222222222,\"#7201a8\"],[0.3333333333333333,\"#9c179e\"],[0.4444444444444444,\"#bd3786\"],[0.5555555555555556,\"#d8576b\"],[0.6666666666666666,\"#ed7953\"],[0.7777777777777778,\"#fb9f3a\"],[0.8888888888888888,\"#fdca26\"],[1.0,\"#f0f921\"]],\"type\":\"heatmapgl\"}],\"histogram\":[{\"marker\":{\"pattern\":{\"fillmode\":\"overlay\",\"size\":10,\"solidity\":0.2}},\"type\":\"histogram\"}],\"histogram2d\":[{\"colorbar\":{\"outlinewidth\":0,\"ticks\":\"\"},\"colorscale\":[[0.0,\"#0d0887\"],[0.1111111111111111,\"#46039f\"],[0.2222222222222222,\"#7201a8\"],[0.3333333333333333,\"#9c179e\"],[0.4444444444444444,\"#bd3786\"],[0.5555555555555556,\"#d8576b\"],[0.6666666666666666,\"#ed7953\"],[0.7777777777777778,\"#fb9f3a\"],[0.8888888888888888,\"#fdca26\"],[1.0,\"#f0f921\"]],\"type\":\"histogram2d\"}],\"histogram2dcontour\":[{\"colorbar\":{\"outlinewidth\":0,\"ticks\":\"\"},\"colorscale\":[[0.0,\"#0d0887\"],[0.1111111111111111,\"#46039f\"],[0.2222222222222222,\"#7201a8\"],[0.3333333333333333,\"#9c179e\"],[0.4444444444444444,\"#bd3786\"],[0.5555555555555556,\"#d8576b\"],[0.6666666666666666,\"#ed7953\"],[0.7777777777777778,\"#fb9f3a\"],[0.8888888888888888,\"#fdca26\"],[1.0,\"#f0f921\"]],\"type\":\"histogram2dcontour\"}],\"mesh3d\":[{\"colorbar\":{\"outlinewidth\":0,\"ticks\":\"\"},\"type\":\"mesh3d\"}],\"parcoords\":[{\"line\":{\"colorbar\":{\"outlinewidth\":0,\"ticks\":\"\"}},\"type\":\"parcoords\"}],\"pie\":[{\"automargin\":true,\"type\":\"pie\"}],\"scatter\":[{\"marker\":{\"colorbar\":{\"outlinewidth\":0,\"ticks\":\"\"}},\"type\":\"scatter\"}],\"scatter3d\":[{\"line\":{\"colorbar\":{\"outlinewidth\":0,\"ticks\":\"\"}},\"marker\":{\"colorbar\":{\"outlinewidth\":0,\"ticks\":\"\"}},\"type\":\"scatter3d\"}],\"scattercarpet\":[{\"marker\":{\"colorbar\":{\"outlinewidth\":0,\"ticks\":\"\"}},\"type\":\"scattercarpet\"}],\"scattergeo\":[{\"marker\":{\"colorbar\":{\"outlinewidth\":0,\"ticks\":\"\"}},\"type\":\"scattergeo\"}],\"scattergl\":[{\"marker\":{\"colorbar\":{\"outlinewidth\":0,\"ticks\":\"\"}},\"type\":\"scattergl\"}],\"scattermapbox\":[{\"marker\":{\"colorbar\":{\"outlinewidth\":0,\"ticks\":\"\"}},\"type\":\"scattermapbox\"}],\"scatterpolar\":[{\"marker\":{\"colorbar\":{\"outlinewidth\":0,\"ticks\":\"\"}},\"type\":\"scatterpolar\"}],\"scatterpolargl\":[{\"marker\":{\"colorbar\":{\"outlinewidth\":0,\"ticks\":\"\"}},\"type\":\"scatterpolargl\"}],\"scatterternary\":[{\"marker\":{\"colorbar\":{\"outlinewidth\":0,\"ticks\":\"\"}},\"type\":\"scatterternary\"}],\"surface\":[{\"colorbar\":{\"outlinewidth\":0,\"ticks\":\"\"},\"colorscale\":[[0.0,\"#0d0887\"],[0.1111111111111111,\"#46039f\"],[0.2222222222222222,\"#7201a8\"],[0.3333333333333333,\"#9c179e\"],[0.4444444444444444,\"#bd3786\"],[0.5555555555555556,\"#d8576b\"],[0.6666666666666666,\"#ed7953\"],[0.7777777777777778,\"#fb9f3a\"],[0.8888888888888888,\"#fdca26\"],[1.0,\"#f0f921\"]],\"type\":\"surface\"}],\"table\":[{\"cells\":{\"fill\":{\"color\":\"#EBF0F8\"},\"line\":{\"color\":\"white\"}},\"header\":{\"fill\":{\"color\":\"#C8D4E3\"},\"line\":{\"color\":\"white\"}},\"type\":\"table\"}]},\"layout\":{\"annotationdefaults\":{\"arrowcolor\":\"#2a3f5f\",\"arrowhead\":0,\"arrowwidth\":1},\"autotypenumbers\":\"strict\",\"coloraxis\":{\"colorbar\":{\"outlinewidth\":0,\"ticks\":\"\"}},\"colorscale\":{\"diverging\":[[0,\"#8e0152\"],[0.1,\"#c51b7d\"],[0.2,\"#de77ae\"],[0.3,\"#f1b6da\"],[0.4,\"#fde0ef\"],[0.5,\"#f7f7f7\"],[0.6,\"#e6f5d0\"],[0.7,\"#b8e186\"],[0.8,\"#7fbc41\"],[0.9,\"#4d9221\"],[1,\"#276419\"]],\"sequential\":[[0.0,\"#0d0887\"],[0.1111111111111111,\"#46039f\"],[0.2222222222222222,\"#7201a8\"],[0.3333333333333333,\"#9c179e\"],[0.4444444444444444,\"#bd3786\"],[0.5555555555555556,\"#d8576b\"],[0.6666666666666666,\"#ed7953\"],[0.7777777777777778,\"#fb9f3a\"],[0.8888888888888888,\"#fdca26\"],[1.0,\"#f0f921\"]],\"sequentialminus\":[[0.0,\"#0d0887\"],[0.1111111111111111,\"#46039f\"],[0.2222222222222222,\"#7201a8\"],[0.3333333333333333,\"#9c179e\"],[0.4444444444444444,\"#bd3786\"],[0.5555555555555556,\"#d8576b\"],[0.6666666666666666,\"#ed7953\"],[0.7777777777777778,\"#fb9f3a\"],[0.8888888888888888,\"#fdca26\"],[1.0,\"#f0f921\"]]},\"colorway\":[\"#636efa\",\"#EF553B\",\"#00cc96\",\"#ab63fa\",\"#FFA15A\",\"#19d3f3\",\"#FF6692\",\"#B6E880\",\"#FF97FF\",\"#FECB52\"],\"font\":{\"color\":\"#2a3f5f\"},\"geo\":{\"bgcolor\":\"white\",\"lakecolor\":\"white\",\"landcolor\":\"#E5ECF6\",\"showlakes\":true,\"showland\":true,\"subunitcolor\":\"white\"},\"hoverlabel\":{\"align\":\"left\"},\"hovermode\":\"closest\",\"mapbox\":{\"style\":\"light\"},\"paper_bgcolor\":\"white\",\"plot_bgcolor\":\"#E5ECF6\",\"polar\":{\"angularaxis\":{\"gridcolor\":\"white\",\"linecolor\":\"white\",\"ticks\":\"\"},\"bgcolor\":\"#E5ECF6\",\"radialaxis\":{\"gridcolor\":\"white\",\"linecolor\":\"white\",\"ticks\":\"\"}},\"scene\":{\"xaxis\":{\"backgroundcolor\":\"#E5ECF6\",\"gridcolor\":\"white\",\"gridwidth\":2,\"linecolor\":\"white\",\"showbackground\":true,\"ticks\":\"\",\"zerolinecolor\":\"white\"},\"yaxis\":{\"backgroundcolor\":\"#E5ECF6\",\"gridcolor\":\"white\",\"gridwidth\":2,\"linecolor\":\"white\",\"showbackground\":true,\"ticks\":\"\",\"zerolinecolor\":\"white\"},\"zaxis\":{\"backgroundcolor\":\"#E5ECF6\",\"gridcolor\":\"white\",\"gridwidth\":2,\"linecolor\":\"white\",\"showbackground\":true,\"ticks\":\"\",\"zerolinecolor\":\"white\"}},\"shapedefaults\":{\"line\":{\"color\":\"#2a3f5f\"}},\"ternary\":{\"aaxis\":{\"gridcolor\":\"white\",\"linecolor\":\"white\",\"ticks\":\"\"},\"baxis\":{\"gridcolor\":\"white\",\"linecolor\":\"white\",\"ticks\":\"\"},\"bgcolor\":\"#E5ECF6\",\"caxis\":{\"gridcolor\":\"white\",\"linecolor\":\"white\",\"ticks\":\"\"}},\"title\":{\"x\":0.05},\"xaxis\":{\"automargin\":true,\"gridcolor\":\"white\",\"linecolor\":\"white\",\"ticks\":\"\",\"title\":{\"standoff\":15},\"zerolinecolor\":\"white\",\"zerolinewidth\":2},\"yaxis\":{\"automargin\":true,\"gridcolor\":\"white\",\"linecolor\":\"white\",\"ticks\":\"\",\"title\":{\"standoff\":15},\"zerolinecolor\":\"white\",\"zerolinewidth\":2}}},\"xaxis\":{\"anchor\":\"y\",\"domain\":[0.0,1.0],\"title\":{\"text\":\"eTIV\"}},\"yaxis\":{\"anchor\":\"x\",\"domain\":[0.0,1.0],\"title\":{\"text\":\"count\"}},\"legend\":{\"tracegroupgap\":0},\"margin\":{\"t\":60},\"barmode\":\"relative\"},                        {\"responsive\": true}                    ).then(function(){\n",
              "                            \n",
              "var gd = document.getElementById('e9e65ac9-1477-4bd9-a623-d35f3fe0e48a');\n",
              "var x = new MutationObserver(function (mutations, observer) {{\n",
              "        var display = window.getComputedStyle(gd).display;\n",
              "        if (!display || display === 'none') {{\n",
              "            console.log([gd, 'removed!']);\n",
              "            Plotly.purge(gd);\n",
              "            observer.disconnect();\n",
              "        }}\n",
              "}});\n",
              "\n",
              "// Listen for the removal of the full notebook cells\n",
              "var notebookContainer = gd.closest('#notebook-container');\n",
              "if (notebookContainer) {{\n",
              "    x.observe(notebookContainer, {childList: true});\n",
              "}}\n",
              "\n",
              "// Listen for the clearing of the current output cell\n",
              "var outputEl = gd.closest('.output');\n",
              "if (outputEl) {{\n",
              "    x.observe(outputEl, {childList: true});\n",
              "}}\n",
              "\n",
              "                        })                };                            </script>        </div>\n",
              "</body>\n",
              "</html>"
            ]
          },
          "metadata": {}
        }
      ],
      "source": [
        "import plotly.express as px\n",
        "\n",
        "x = ['M/F', 'Age', 'EDUC', 'SES', 'MMSE', 'eTIV', 'nWBV', 'ASF']\n",
        "fig = px.histogram(X_train, x='eTIV', nbins=10)\n",
        "fig.show()"
      ]
    },
    {
      "cell_type": "code",
      "execution_count": null,
      "metadata": {
        "colab": {
          "base_uri": "https://localhost:8080/",
          "height": 542
        },
        "id": "xS8AnFTRihl5",
        "outputId": "2b1930df-404f-461f-ce1b-313da311c2ed"
      },
      "outputs": [
        {
          "output_type": "display_data",
          "data": {
            "text/html": [
              "<html>\n",
              "<head><meta charset=\"utf-8\" /></head>\n",
              "<body>\n",
              "    <div>            <script src=\"https://cdnjs.cloudflare.com/ajax/libs/mathjax/2.7.5/MathJax.js?config=TeX-AMS-MML_SVG\"></script><script type=\"text/javascript\">if (window.MathJax) {MathJax.Hub.Config({SVG: {font: \"STIX-Web\"}});}</script>                <script type=\"text/javascript\">window.PlotlyConfig = {MathJaxConfig: 'local'};</script>\n",
              "        <script src=\"https://cdn.plot.ly/plotly-2.8.3.min.js\"></script>                <div id=\"8816b874-e2ed-4e0a-b54b-c865e4385d0f\" class=\"plotly-graph-div\" style=\"height:525px; width:100%;\"></div>            <script type=\"text/javascript\">                                    window.PLOTLYENV=window.PLOTLYENV || {};                                    if (document.getElementById(\"8816b874-e2ed-4e0a-b54b-c865e4385d0f\")) {                    Plotly.newPlot(                        \"8816b874-e2ed-4e0a-b54b-c865e4385d0f\",                        [{\"hovertemplate\":\"eTIV=%{x}<br>index=%{y}<extra></extra>\",\"legendgroup\":\"\",\"marker\":{\"color\":\"#636efa\",\"symbol\":\"circle\"},\"mode\":\"markers\",\"name\":\"\",\"orientation\":\"h\",\"showlegend\":false,\"x\":[1275,1569,1631,1482,1783,1636,1814,1484,1256,1335,1569,1538,1315,1480,1548,1337,1559,1450,1385,1820,1376,1464,1479,1668,1492,1357,1699,1361,1358,1483,1522,1313,1591,1371,1398,1751,1453,1432,1640,1561,1745,1693,1345,1926,1335,1154,1498,1473,1362,1551,1434,1200,1495,1641,1384,1497,1211,1399,1534,1471,1506,1274,1588,1298,1396,1911,1311,1536,1405,1247,1439,1722,1513,1164,1507,1662,1346,1514,1401,1335,1512,1569,1568,1633,1265,1366,1505,1323,1444,1527,1607,1567,1425,1520,1255,1393,1418,1445,1485,1695,1562,1501,1661,1445,1508,1238,1341,1518,1564,1713,1346,1464,1334,1324,1408,1714,1412,1732,1444,1769,1732,1676,1287,1577,1194,1453,1660,1307,1506,1422,1342,1542,1654,1817,1283,1309,1510,1493,1578,1273,1333,2004,1507,1820,1475,1444,1402,1445,1309,1755,1165,1494,1507,1489,1395,1401,1569,1567,1744,1550,1416,1500,1848,1657,1332,1441,1440,1484,1392,1353,1344,1475,1474,1556,1503,1396,1243,1604,1230,1740,1336,1709,1272,1209,1562,1465,1225,1582,1391,1517,1544,1678,1450,1314,1488,1720,1538,1806,1511,1327,1179,1329,1398,1712,1708,1331,1477,1324,1123,1327,1423,1689,1333,1360,1783,1738,1744,1891,1631,1604,1281,1734,1617,1428,1474,1366,1373,1221,1453,1295,1500,1524,1463,1650,1316,1257,1441,1149,1720,1293,1475,1514,1463,1440,1678,1536,1272,1331,1529,1333,1854,1553,1169,1547,1596,1557,1659,1402,1684,1446,1447,1578,1437,1484,1467,1321,1602,1449,1911,1419,1412,1549,1313,1332,1665,1510,1375,1431,1644,1913,1486,1806,1362,1200,1523,1308,1390,1500,1320,1647,1556,1497,1354,1440,1534,1411,1430,1388,1174,1106,1759,1635,1354,1737,1383,1333,1334,1227,1377,1215,1766,1637,1453,1461,1590,1660,1274,1899,1475,1243,1536,1154,1908,1796,1505,1689,1497,1264,1379,1710,1668,1388,1520,1438,1611,1425,1670,1510,1313,1236,1454,1499,1291,1407,1591,1483,1417,1597,1640,1664,1338,1381,1628,1486,1485,1516,1360,1362,1390,1344,1561,1660,1428,1272,1570,1171,1307,1501,1734,1272,1525,1738,1316,1475,1722,1549,1512,1590,1674,1218,1337,1582,1504,1314,1322,1813,1692,1818,1654,1407,1415,1442,1495,1542,1628,1316,1653,1334,1361,1483,1477,1733,1556,1715,1832,1289,1628,1495,1358,1489,1455,1264,1750,1478,1455,1350,1441,1288,1436,1704,1663,1484,1680,1454,1485,1323,1592,1446,1462,1520,1319,1503,1714,1147,1569,1432,1380,1329,1378,1604,1355,1461,1217,1406,1194,1479,1491,1295,1431,1393,1354,1796,1295,1383,1309,1284,1687,1516,1655,1453,1470,1443,1348,1250,1689,1510,1380,1367,1803,1562,1372,1414,1795,1143,1480,1537,1389,1512,1668,1161,1653,1556,1313,1361,1460,1415,1491,1487,1439,1785,1250,1476,1429,1854,1410,1488,1456,1583,1707,1654,1586,1525,1400,1463,1390,1459,1478,1343,1340,1372,1323,1662,1567,1580,1484,1992,1643,1423,1462,1151,1444,1426,1271,1482,1701,1581,1350,1475,1408,1688,1891,1536,1827,1365,1461,1447,1499,1546,1346,1230,1339,1599,1365,1465,1343,1495,1288,1457,1796,1842,1328,1506,1475,1836,1453,1583,1561,1614,1219,1421,1511,1707,1370,1490,1351,1528,1557,1517,1357,1477,1931,1439,1311,1332,1354,1675,1212,1769,1714,1606,1928,1613,1606,1350,1471,1368,1398,1493,1480,1636,1830,1171,1728,1381,1490,1479,1634,1664,1826,1377,1475,1701,1459,1579,1551,1432,1823,1326,1659,1714,1442,1574,1732,1502,1572,1351,1344,1301,1499,1264,1562,1346,1384,1550,1287,1426,1521,1651,1491,1240,1159,1567,1277,1451,1713,1311,1825,1647,1542],\"xaxis\":\"x\",\"y\":[115,228,412,248,223,391,200,600,315,306,754,501,123,16,354,303,313,63,776,336,595,138,257,28,172,10,9,718,428,94,457,41,620,212,544,610,679,433,84,550,531,368,305,40,674,562,217,697,707,377,752,6,352,586,648,521,689,660,596,148,705,316,386,297,437,490,665,400,773,43,649,296,196,585,465,525,751,502,251,453,512,488,473,534,742,565,390,413,144,672,684,429,239,232,726,286,725,225,75,97,52,454,359,540,245,721,605,753,438,750,266,555,615,434,348,639,650,720,503,743,299,575,298,699,407,462,149,60,363,676,304,758,262,325,463,238,522,669,638,178,372,1,755,31,146,349,450,46,444,332,202,545,158,625,536,661,121,724,230,328,126,770,166,576,90,693,635,111,410,50,383,252,108,529,104,287,571,668,481,678,66,447,626,680,731,183,24,594,285,378,181,2,706,83,249,153,636,712,422,448,77,67,347,99,98,89,72,125,281,591,219,7,19,568,29,3,294,338,168,227,319,717,722,145,584,664,491,657,774,255,609,789,110,690,549,14,662,734,667,528,653,327,59,141,736,795,318,272,246,88,579,373,357,604,505,322,761,55,495,516,479,471,530,208,682,392,25,408,39,220,206,445,416,563,85,364,513,783,261,632,247,242,786,461,514,124,195,113,781,263,654,216,365,268,190,539,569,663,76,282,492,631,652,387,194,435,302,698,53,5,777,797,86,643,424,129,646,339,273,314,235,201,551,375,103,398,658,790,214,330,588,788,236,780,203,382,265,694,727,321,107,215,582,597,527,74,617,38,169,394,259,180,556,476,709,389,48,116,532,260,557,613,651,677,656,602,607,670,683,546,395,396,237,634,619,713,157,730,741,598,283,500,160,553,599,32,150,324,360,460,647,270,274,477,458,42,409,644,538,485,185,482,175,292,335,81,204,361,49,226,143,611,687,637,541,420,738,729,269,295,520,112,702,659,696,20,748,205,136,165,370,184,100,384,323,187,290,627,489,618,628,768,608,33,310,691,102,716,784,581,267,494,82,179,459,276,792,614,764,65,640,417,80,44,511,350,765,703,345,222,798,96,728,162,737,455,695,700,264,714,474,355,484,69,566,543,624,73,601,199,547,641,593,421,621,353,119,442,151,685,210,231,213,418,54,137,673,307,271,12,21,170,432,122,475,645,732,35,430,161,778,333,177,18,468,515,747,207,127,369,570,487,380,47,118,470,478,560,423,22,234,120,11,633,739,535,589,15,344,241,574,362,542,337,135,209,508,577,533,558,192,554,692,376,301,686,466,253,472,397,167,523,464,578,796,441,23,198,708,775,140,767,37,735,524,573,34,374,629,399,326,356,467,681,159,317,671,379,244,496,537,8,449,723,760,188,243,401,279,293,469,567,763,493,715,366,284,443,510,114,772,756,431,191,746,612,552,280,331,405,358,759,506,87,329,61,483,782,182],\"yaxis\":\"y\",\"type\":\"scatter\"}],                        {\"template\":{\"data\":{\"bar\":[{\"error_x\":{\"color\":\"#2a3f5f\"},\"error_y\":{\"color\":\"#2a3f5f\"},\"marker\":{\"line\":{\"color\":\"#E5ECF6\",\"width\":0.5},\"pattern\":{\"fillmode\":\"overlay\",\"size\":10,\"solidity\":0.2}},\"type\":\"bar\"}],\"barpolar\":[{\"marker\":{\"line\":{\"color\":\"#E5ECF6\",\"width\":0.5},\"pattern\":{\"fillmode\":\"overlay\",\"size\":10,\"solidity\":0.2}},\"type\":\"barpolar\"}],\"carpet\":[{\"aaxis\":{\"endlinecolor\":\"#2a3f5f\",\"gridcolor\":\"white\",\"linecolor\":\"white\",\"minorgridcolor\":\"white\",\"startlinecolor\":\"#2a3f5f\"},\"baxis\":{\"endlinecolor\":\"#2a3f5f\",\"gridcolor\":\"white\",\"linecolor\":\"white\",\"minorgridcolor\":\"white\",\"startlinecolor\":\"#2a3f5f\"},\"type\":\"carpet\"}],\"choropleth\":[{\"colorbar\":{\"outlinewidth\":0,\"ticks\":\"\"},\"type\":\"choropleth\"}],\"contour\":[{\"colorbar\":{\"outlinewidth\":0,\"ticks\":\"\"},\"colorscale\":[[0.0,\"#0d0887\"],[0.1111111111111111,\"#46039f\"],[0.2222222222222222,\"#7201a8\"],[0.3333333333333333,\"#9c179e\"],[0.4444444444444444,\"#bd3786\"],[0.5555555555555556,\"#d8576b\"],[0.6666666666666666,\"#ed7953\"],[0.7777777777777778,\"#fb9f3a\"],[0.8888888888888888,\"#fdca26\"],[1.0,\"#f0f921\"]],\"type\":\"contour\"}],\"contourcarpet\":[{\"colorbar\":{\"outlinewidth\":0,\"ticks\":\"\"},\"type\":\"contourcarpet\"}],\"heatmap\":[{\"colorbar\":{\"outlinewidth\":0,\"ticks\":\"\"},\"colorscale\":[[0.0,\"#0d0887\"],[0.1111111111111111,\"#46039f\"],[0.2222222222222222,\"#7201a8\"],[0.3333333333333333,\"#9c179e\"],[0.4444444444444444,\"#bd3786\"],[0.5555555555555556,\"#d8576b\"],[0.6666666666666666,\"#ed7953\"],[0.7777777777777778,\"#fb9f3a\"],[0.8888888888888888,\"#fdca26\"],[1.0,\"#f0f921\"]],\"type\":\"heatmap\"}],\"heatmapgl\":[{\"colorbar\":{\"outlinewidth\":0,\"ticks\":\"\"},\"colorscale\":[[0.0,\"#0d0887\"],[0.1111111111111111,\"#46039f\"],[0.2222222222222222,\"#7201a8\"],[0.3333333333333333,\"#9c179e\"],[0.4444444444444444,\"#bd3786\"],[0.5555555555555556,\"#d8576b\"],[0.6666666666666666,\"#ed7953\"],[0.7777777777777778,\"#fb9f3a\"],[0.8888888888888888,\"#fdca26\"],[1.0,\"#f0f921\"]],\"type\":\"heatmapgl\"}],\"histogram\":[{\"marker\":{\"pattern\":{\"fillmode\":\"overlay\",\"size\":10,\"solidity\":0.2}},\"type\":\"histogram\"}],\"histogram2d\":[{\"colorbar\":{\"outlinewidth\":0,\"ticks\":\"\"},\"colorscale\":[[0.0,\"#0d0887\"],[0.1111111111111111,\"#46039f\"],[0.2222222222222222,\"#7201a8\"],[0.3333333333333333,\"#9c179e\"],[0.4444444444444444,\"#bd3786\"],[0.5555555555555556,\"#d8576b\"],[0.6666666666666666,\"#ed7953\"],[0.7777777777777778,\"#fb9f3a\"],[0.8888888888888888,\"#fdca26\"],[1.0,\"#f0f921\"]],\"type\":\"histogram2d\"}],\"histogram2dcontour\":[{\"colorbar\":{\"outlinewidth\":0,\"ticks\":\"\"},\"colorscale\":[[0.0,\"#0d0887\"],[0.1111111111111111,\"#46039f\"],[0.2222222222222222,\"#7201a8\"],[0.3333333333333333,\"#9c179e\"],[0.4444444444444444,\"#bd3786\"],[0.5555555555555556,\"#d8576b\"],[0.6666666666666666,\"#ed7953\"],[0.7777777777777778,\"#fb9f3a\"],[0.8888888888888888,\"#fdca26\"],[1.0,\"#f0f921\"]],\"type\":\"histogram2dcontour\"}],\"mesh3d\":[{\"colorbar\":{\"outlinewidth\":0,\"ticks\":\"\"},\"type\":\"mesh3d\"}],\"parcoords\":[{\"line\":{\"colorbar\":{\"outlinewidth\":0,\"ticks\":\"\"}},\"type\":\"parcoords\"}],\"pie\":[{\"automargin\":true,\"type\":\"pie\"}],\"scatter\":[{\"marker\":{\"colorbar\":{\"outlinewidth\":0,\"ticks\":\"\"}},\"type\":\"scatter\"}],\"scatter3d\":[{\"line\":{\"colorbar\":{\"outlinewidth\":0,\"ticks\":\"\"}},\"marker\":{\"colorbar\":{\"outlinewidth\":0,\"ticks\":\"\"}},\"type\":\"scatter3d\"}],\"scattercarpet\":[{\"marker\":{\"colorbar\":{\"outlinewidth\":0,\"ticks\":\"\"}},\"type\":\"scattercarpet\"}],\"scattergeo\":[{\"marker\":{\"colorbar\":{\"outlinewidth\":0,\"ticks\":\"\"}},\"type\":\"scattergeo\"}],\"scattergl\":[{\"marker\":{\"colorbar\":{\"outlinewidth\":0,\"ticks\":\"\"}},\"type\":\"scattergl\"}],\"scattermapbox\":[{\"marker\":{\"colorbar\":{\"outlinewidth\":0,\"ticks\":\"\"}},\"type\":\"scattermapbox\"}],\"scatterpolar\":[{\"marker\":{\"colorbar\":{\"outlinewidth\":0,\"ticks\":\"\"}},\"type\":\"scatterpolar\"}],\"scatterpolargl\":[{\"marker\":{\"colorbar\":{\"outlinewidth\":0,\"ticks\":\"\"}},\"type\":\"scatterpolargl\"}],\"scatterternary\":[{\"marker\":{\"colorbar\":{\"outlinewidth\":0,\"ticks\":\"\"}},\"type\":\"scatterternary\"}],\"surface\":[{\"colorbar\":{\"outlinewidth\":0,\"ticks\":\"\"},\"colorscale\":[[0.0,\"#0d0887\"],[0.1111111111111111,\"#46039f\"],[0.2222222222222222,\"#7201a8\"],[0.3333333333333333,\"#9c179e\"],[0.4444444444444444,\"#bd3786\"],[0.5555555555555556,\"#d8576b\"],[0.6666666666666666,\"#ed7953\"],[0.7777777777777778,\"#fb9f3a\"],[0.8888888888888888,\"#fdca26\"],[1.0,\"#f0f921\"]],\"type\":\"surface\"}],\"table\":[{\"cells\":{\"fill\":{\"color\":\"#EBF0F8\"},\"line\":{\"color\":\"white\"}},\"header\":{\"fill\":{\"color\":\"#C8D4E3\"},\"line\":{\"color\":\"white\"}},\"type\":\"table\"}]},\"layout\":{\"annotationdefaults\":{\"arrowcolor\":\"#2a3f5f\",\"arrowhead\":0,\"arrowwidth\":1},\"autotypenumbers\":\"strict\",\"coloraxis\":{\"colorbar\":{\"outlinewidth\":0,\"ticks\":\"\"}},\"colorscale\":{\"diverging\":[[0,\"#8e0152\"],[0.1,\"#c51b7d\"],[0.2,\"#de77ae\"],[0.3,\"#f1b6da\"],[0.4,\"#fde0ef\"],[0.5,\"#f7f7f7\"],[0.6,\"#e6f5d0\"],[0.7,\"#b8e186\"],[0.8,\"#7fbc41\"],[0.9,\"#4d9221\"],[1,\"#276419\"]],\"sequential\":[[0.0,\"#0d0887\"],[0.1111111111111111,\"#46039f\"],[0.2222222222222222,\"#7201a8\"],[0.3333333333333333,\"#9c179e\"],[0.4444444444444444,\"#bd3786\"],[0.5555555555555556,\"#d8576b\"],[0.6666666666666666,\"#ed7953\"],[0.7777777777777778,\"#fb9f3a\"],[0.8888888888888888,\"#fdca26\"],[1.0,\"#f0f921\"]],\"sequentialminus\":[[0.0,\"#0d0887\"],[0.1111111111111111,\"#46039f\"],[0.2222222222222222,\"#7201a8\"],[0.3333333333333333,\"#9c179e\"],[0.4444444444444444,\"#bd3786\"],[0.5555555555555556,\"#d8576b\"],[0.6666666666666666,\"#ed7953\"],[0.7777777777777778,\"#fb9f3a\"],[0.8888888888888888,\"#fdca26\"],[1.0,\"#f0f921\"]]},\"colorway\":[\"#636efa\",\"#EF553B\",\"#00cc96\",\"#ab63fa\",\"#FFA15A\",\"#19d3f3\",\"#FF6692\",\"#B6E880\",\"#FF97FF\",\"#FECB52\"],\"font\":{\"color\":\"#2a3f5f\"},\"geo\":{\"bgcolor\":\"white\",\"lakecolor\":\"white\",\"landcolor\":\"#E5ECF6\",\"showlakes\":true,\"showland\":true,\"subunitcolor\":\"white\"},\"hoverlabel\":{\"align\":\"left\"},\"hovermode\":\"closest\",\"mapbox\":{\"style\":\"light\"},\"paper_bgcolor\":\"white\",\"plot_bgcolor\":\"#E5ECF6\",\"polar\":{\"angularaxis\":{\"gridcolor\":\"white\",\"linecolor\":\"white\",\"ticks\":\"\"},\"bgcolor\":\"#E5ECF6\",\"radialaxis\":{\"gridcolor\":\"white\",\"linecolor\":\"white\",\"ticks\":\"\"}},\"scene\":{\"xaxis\":{\"backgroundcolor\":\"#E5ECF6\",\"gridcolor\":\"white\",\"gridwidth\":2,\"linecolor\":\"white\",\"showbackground\":true,\"ticks\":\"\",\"zerolinecolor\":\"white\"},\"yaxis\":{\"backgroundcolor\":\"#E5ECF6\",\"gridcolor\":\"white\",\"gridwidth\":2,\"linecolor\":\"white\",\"showbackground\":true,\"ticks\":\"\",\"zerolinecolor\":\"white\"},\"zaxis\":{\"backgroundcolor\":\"#E5ECF6\",\"gridcolor\":\"white\",\"gridwidth\":2,\"linecolor\":\"white\",\"showbackground\":true,\"ticks\":\"\",\"zerolinecolor\":\"white\"}},\"shapedefaults\":{\"line\":{\"color\":\"#2a3f5f\"}},\"ternary\":{\"aaxis\":{\"gridcolor\":\"white\",\"linecolor\":\"white\",\"ticks\":\"\"},\"baxis\":{\"gridcolor\":\"white\",\"linecolor\":\"white\",\"ticks\":\"\"},\"bgcolor\":\"#E5ECF6\",\"caxis\":{\"gridcolor\":\"white\",\"linecolor\":\"white\",\"ticks\":\"\"}},\"title\":{\"x\":0.05},\"xaxis\":{\"automargin\":true,\"gridcolor\":\"white\",\"linecolor\":\"white\",\"ticks\":\"\",\"title\":{\"standoff\":15},\"zerolinecolor\":\"white\",\"zerolinewidth\":2},\"yaxis\":{\"automargin\":true,\"gridcolor\":\"white\",\"linecolor\":\"white\",\"ticks\":\"\",\"title\":{\"standoff\":15},\"zerolinecolor\":\"white\",\"zerolinewidth\":2}}},\"xaxis\":{\"anchor\":\"y\",\"domain\":[0.0,1.0],\"title\":{\"text\":\"eTIV\"}},\"yaxis\":{\"anchor\":\"x\",\"domain\":[0.0,1.0],\"title\":{\"text\":\"index\"}},\"legend\":{\"tracegroupgap\":0},\"margin\":{\"t\":60}},                        {\"responsive\": true}                    ).then(function(){\n",
              "                            \n",
              "var gd = document.getElementById('8816b874-e2ed-4e0a-b54b-c865e4385d0f');\n",
              "var x = new MutationObserver(function (mutations, observer) {{\n",
              "        var display = window.getComputedStyle(gd).display;\n",
              "        if (!display || display === 'none') {{\n",
              "            console.log([gd, 'removed!']);\n",
              "            Plotly.purge(gd);\n",
              "            observer.disconnect();\n",
              "        }}\n",
              "}});\n",
              "\n",
              "// Listen for the removal of the full notebook cells\n",
              "var notebookContainer = gd.closest('#notebook-container');\n",
              "if (notebookContainer) {{\n",
              "    x.observe(notebookContainer, {childList: true});\n",
              "}}\n",
              "\n",
              "// Listen for the clearing of the current output cell\n",
              "var outputEl = gd.closest('.output');\n",
              "if (outputEl) {{\n",
              "    x.observe(outputEl, {childList: true});\n",
              "}}\n",
              "\n",
              "                        })                };                            </script>        </div>\n",
              "</body>\n",
              "</html>"
            ]
          },
          "metadata": {}
        }
      ],
      "source": [
        "import plotly.express as px\n",
        "\n",
        "x = ['M/F', 'Age', 'EDUC', 'SES', 'MMSE', 'eTIV', 'nWBV', 'ASF']\n",
        "\n",
        "fig = px.scatter(X_train, x='eTIV')\n",
        "fig.show()"
      ]
    },
    {
      "cell_type": "code",
      "execution_count": null,
      "metadata": {
        "colab": {
          "base_uri": "https://localhost:8080/"
        },
        "id": "3-yFkE_dixWy",
        "outputId": "5ad8bb86-3589-4df4-8ffa-214f51d7fd98"
      },
      "outputs": [
        {
          "output_type": "stream",
          "name": "stdout",
          "text": [
            "Train accuracy  84.50704225352112\n",
            "Test accuracy  83.125\n",
            "Test recall 0.5263157894736842\n",
            "Test AUC 0.7262726488352027\n"
          ]
        }
      ],
      "source": [
        "train_score = 0\n",
        "test_score = 0\n",
        "test_recall = 0\n",
        "test_auc = 0\n",
        "\n",
        "train_score = svm.score(X_train_scaled, y_train)*100\n",
        "test_score = svm.score(X_test_scaled, y_test)*100\n",
        "y_predict = svm.predict(X_test_scaled)\n",
        "\n",
        "test_recall = recall_score(y_test, y_predict)\n",
        "fpr, tpr, thresholds = roc_curve(y_test, y_predict)\n",
        "test_auc = auc(fpr, tpr)\n",
        "\n",
        "\n",
        "print(\"Train accuracy \", train_score)\n",
        "print(\"Test accuracy \", test_score)\n",
        "print(\"Test recall\", test_recall)\n",
        "print(\"Test AUC\", test_auc)\n",
        "svm_fpr, svm_tpr, thresholds = roc_curve(y_test, y_predict)\n",
        "m = 'SVM'\n",
        "acc.append([m, test_score, test_recall, test_auc, fpr, tpr, thresholds])"
      ]
    },
    {
      "cell_type": "markdown",
      "metadata": {
        "id": "tM9X7I2Ejd7Q"
      },
      "source": [
        "Random Forest"
      ]
    },
    {
      "cell_type": "code",
      "execution_count": null,
      "metadata": {
        "colab": {
          "base_uri": "https://localhost:8080/",
          "height": 386
        },
        "id": "qYIumLqJjenw",
        "outputId": "b5249448-2ce9-46f4-b197-c35b42c97851"
      },
      "outputs": [
        {
          "output_type": "stream",
          "name": "stderr",
          "text": [
            "/usr/local/lib/python3.7/dist-packages/sklearn/utils/deprecation.py:87: FutureWarning:\n",
            "\n",
            "Function plot_confusion_matrix is deprecated; Function `plot_confusion_matrix` is deprecated in 1.0 and will be removed in 1.2. Use one of the class methods: ConfusionMatrixDisplay.from_predictions or ConfusionMatrixDisplay.from_estimator.\n",
            "\n"
          ]
        },
        {
          "output_type": "execute_result",
          "data": {
            "text/plain": [
              "<sklearn.metrics._plot.confusion_matrix.ConfusionMatrixDisplay at 0x7f30fe7f8250>"
            ]
          },
          "metadata": {},
          "execution_count": 26
        },
        {
          "output_type": "display_data",
          "data": {
            "text/plain": [
              "<Figure size 432x288 with 2 Axes>"
            ],
            "image/png": "[encoded data removed]"
          },
          "metadata": {
            "needs_background": "light"
          }
        }
      ],
      "source": [
        "from sklearn.ensemble import RandomForestClassifier\n",
        "\n",
        "rfc = RandomForestClassifier(random_state=42)\n",
        "rfc.fit(X_train_scaled, y_train)\n",
        "\n",
        "plot_confusion_matrix(rfc, X_test_scaled, y_test, cmap= 'Blues', values_format='d', display_labels=['Nondemented', 'Demented'])"
      ]
    },
    {
      "cell_type": "code",
      "execution_count": null,
      "metadata": {
        "colab": {
          "base_uri": "https://localhost:8080/"
        },
        "id": "hYajhUzXjnw4",
        "outputId": "5aa4c5b6-044e-4c4f-bad1-5991c5c3a24b"
      },
      "outputs": [
        {
          "output_type": "stream",
          "name": "stdout",
          "text": [
            "Train accuracy  100.0\n",
            "Test accuracy  80.625\n",
            "Test recall 0.47368421052631576\n",
            "Test AUC 0.6917601380500432\n"
          ]
        }
      ],
      "source": [
        "train_score = 0\n",
        "test_score = 0\n",
        "test_recall = 0\n",
        "test_auc = 0\n",
        "\n",
        "train_score = rfc.score(X_train_scaled, y_train)*100\n",
        "test_score = rfc.score(X_test_scaled, y_test)*100\n",
        "y_predict = rfc.predict(X_test_scaled)\n",
        "test_recall = recall_score(y_test, y_predict)\n",
        "fpr, tpr, thresholds = roc_curve(y_test, y_predict)\n",
        "test_auc = auc(fpr, tpr)\n",
        "\n",
        "print(\"Train accuracy \", train_score)\n",
        "print(\"Test accuracy \", test_score)\n",
        "print(\"Test recall\", test_recall)\n",
        "print(\"Test AUC\", test_auc)"
      ]
    },
    {
      "cell_type": "markdown",
      "metadata": {
        "id": "B5cjHuj9jzRp"
      },
      "source": [
        "Optimize parameters(Finetuning) --> GridSearchCV()"
      ]
    },
    {
      "cell_type": "code",
      "execution_count": null,
      "metadata": {
        "id": "ybUjczB5jz9Z"
      },
      "outputs": [],
      "source": [
        "n_estimators = [int(x) for x in np.linspace(start = 10, stop = 100, num = 10)]\n",
        "\n",
        "max_features = ['auto', 'sqrt', 'log2']\n",
        "\n",
        "max_depth = range(1,10)\n",
        "\n",
        "criterion = ['gini']\n",
        "bootstrap = [True, False]"
      ]
    },
    {
      "cell_type": "code",
      "execution_count": null,
      "metadata": {
        "id": "nkUuJPRMj5GQ"
      },
      "outputs": [],
      "source": [
        "param_grid = {'n_estimators': n_estimators,\n",
        "               'max_features': max_features,\n",
        "               'max_depth': max_depth,\n",
        "               'criterion': criterion,\n",
        "               'bootstrap': bootstrap}"
      ]
    },
    {
      "cell_type": "code",
      "execution_count": null,
      "metadata": {
        "colab": {
          "base_uri": "https://localhost:8080/"
        },
        "id": "_KpyhvMZj_Vp",
        "outputId": "184df58c-50de-4ea4-8d63-069c529f4a12"
      },
      "outputs": [
        {
          "output_type": "stream",
          "name": "stdout",
          "text": [
            "{'bootstrap': True, 'criterion': 'gini', 'max_depth': 9, 'max_features': 'sqrt', 'n_estimators': 60}\n"
          ]
        }
      ],
      "source": [
        "optimal_params = GridSearchCV(RandomForestClassifier(),\n",
        "                             param_grid,\n",
        "                             cv=10, # we are taking 5-fold as in k-fold cross validation\n",
        "                             scoring='accuracy', # try the other scoring if have time\n",
        "                             verbose=0,\n",
        "                             n_jobs=-1)\n",
        "\n",
        "optimal_params.fit(X_train_scaled, y_train)\n",
        "print(optimal_params.best_params_)"
      ]
    },
    {
      "cell_type": "code",
      "execution_count": null,
      "metadata": {
        "id": "1deifpXBkOAp"
      },
      "outputs": [],
      "source": [
        "bootstrap = optimal_params.best_params_['bootstrap']\n",
        "criterion = optimal_params.best_params_['criterion']\n",
        "max_depth = optimal_params.best_params_['max_depth']\n",
        "max_features = optimal_params.best_params_['max_features']\n",
        "n_estimators = optimal_params.best_params_['n_estimators']"
      ]
    },
    {
      "cell_type": "code",
      "execution_count": null,
      "metadata": {
        "colab": {
          "base_uri": "https://localhost:8080/",
          "height": 386
        },
        "id": "MSmwy0RgkpyJ",
        "outputId": "08e8ceaa-1af4-4c07-ce07-24d386585aea"
      },
      "outputs": [
        {
          "output_type": "stream",
          "name": "stderr",
          "text": [
            "/usr/local/lib/python3.7/dist-packages/sklearn/utils/deprecation.py:87: FutureWarning:\n",
            "\n",
            "Function plot_confusion_matrix is deprecated; Function `plot_confusion_matrix` is deprecated in 1.0 and will be removed in 1.2. Use one of the class methods: ConfusionMatrixDisplay.from_predictions or ConfusionMatrixDisplay.from_estimator.\n",
            "\n"
          ]
        },
        {
          "output_type": "execute_result",
          "data": {
            "text/plain": [
              "<sklearn.metrics._plot.confusion_matrix.ConfusionMatrixDisplay at 0x7f310420ded0>"
            ]
          },
          "metadata": {},
          "execution_count": 32
        },
        {
          "output_type": "display_data",
          "data": {
            "text/plain": [
              "<Figure size 432x288 with 2 Axes>"
            ],
            "image/png": "[encoded data removed]"
          },
          "metadata": {
            "needs_background": "light"
          }
        }
      ],
      "source": [
        "rfc = RandomForestClassifier(n_estimators=n_estimators, \n",
        "                             max_features=max_features, \n",
        "                             max_depth=max_depth, \n",
        "                             criterion=criterion,\n",
        "                             bootstrap=bootstrap,\n",
        "                             random_state=42)\n",
        "\n",
        "rfc.fit(X_train_scaled, y_train)\n",
        "\n",
        "# for test there are 94 cases\n",
        "plot_confusion_matrix(rfc, X_test_scaled, y_test, cmap= 'Blues', values_format='d', display_labels=['Nondemented', 'Demented'])"
      ]
    },
    {
      "cell_type": "code",
      "execution_count": null,
      "metadata": {
        "colab": {
          "base_uri": "https://localhost:8080/"
        },
        "id": "KjZZsClKktBI",
        "outputId": "f48830ad-c47b-41ea-fd7d-0008cb9554fd"
      },
      "outputs": [
        {
          "output_type": "stream",
          "name": "stdout",
          "text": [
            "Train accuracy  98.59154929577466\n",
            "Test accuracy  80.0\n",
            "Test recall 0.5\n",
            "Test AUC 0.6967213114754098\n"
          ]
        }
      ],
      "source": [
        "acc = []\n",
        "train_score = 0\n",
        "test_score = 0\n",
        "test_recall = 0\n",
        "test_auc = 0\n",
        "\n",
        "train_score = rfc.score(X_train_scaled, y_train)*100\n",
        "test_score = rfc.score(X_test_scaled, y_test)*100\n",
        "y_predict = rfc.predict(X_test_scaled)\n",
        "test_recall = recall_score(y_test, y_predict)\n",
        "rfc_fpr, rfc_tpr, thresholds = roc_curve(y_test, y_predict)\n",
        "test_auc = auc(rfc_fpr, rfc_tpr)\n",
        "\n",
        "print(\"Train accuracy \", train_score)\n",
        "print(\"Test accuracy \", test_score)\n",
        "print(\"Test recall\", test_recall)\n",
        "print(\"Test AUC\", test_auc)\n",
        "m = 'Random Forest'\n",
        "acc.append([m, test_score, test_recall, test_auc, fpr, tpr, thresholds])"
      ]
    },
    {
      "cell_type": "markdown",
      "metadata": {
        "id": "ZU0bJoBaf8PP"
      },
      "source": [
        "Aditional Work"
      ]
    },
    {
      "cell_type": "code",
      "execution_count": null,
      "metadata": {
        "colab": {
          "base_uri": "https://localhost:8080/"
        },
        "id": "T1fty7XukumZ",
        "outputId": "b0fb18d5-e291-4252-def7-23121bb553ec"
      },
      "outputs": [
        {
          "output_type": "stream",
          "name": "stdout",
          "text": [
            "Fitting 4 folds for each of 80 candidates, totalling 320 fits\n"
          ]
        },
        {
          "output_type": "execute_result",
          "data": {
            "text/plain": [
              "RandomizedSearchCV(cv=4, estimator=RandomForestClassifier(), n_iter=80,\n",
              "                   n_jobs=-1,\n",
              "                   param_distributions={'criterion': ['entropy', 'gini'],\n",
              "                                        'max_depth': [10, 142, 274, 406, 538,\n",
              "                                                      671, 803, 935, 1067, 1200,\n",
              "                                                      None],\n",
              "                                        'max_features': ['auto', 'sqrt', 'log2',\n",
              "                                                         None],\n",
              "                                        'min_samples_leaf': [4, 6, 8, 12],\n",
              "                                        'min_samples_split': [5, 7, 10, 14],\n",
              "                                        'n_estimators': [151, 267, 384, 500,\n",
              "                                                         617, 733, 850, 966,\n",
              "                                                         1083, 1200]},\n",
              "                   random_state=101, verbose=5)"
            ]
          },
          "metadata": {},
          "execution_count": 34
        }
      ],
      "source": [
        "import numpy as np \n",
        "from sklearn.model_selection import RandomizedSearchCV\n",
        "from sklearn.model_selection import cross_val_score\n",
        "\n",
        "random_search = {'criterion': ['entropy', 'gini'],\n",
        "               'max_depth': list(np.linspace(10, 1200, 10, dtype = int)) + [None],\n",
        "               'max_features': ['auto', 'sqrt','log2', None],\n",
        "               'min_samples_leaf': [4, 6, 8, 12],\n",
        "               'min_samples_split': [5, 7, 10, 14],\n",
        "               'n_estimators': list(np.linspace(151, 1200, 10, dtype = int))}\n",
        "\n",
        "clf = RandomForestClassifier()\n",
        "model = RandomizedSearchCV(estimator = clf, param_distributions = random_search, n_iter = 80, \n",
        "                               cv = 4, verbose= 5, random_state= 101, n_jobs = -1)\n",
        "model.fit(X_train_scaled, y_train)"
      ]
    },
    {
      "cell_type": "code",
      "execution_count": null,
      "metadata": {
        "colab": {
          "base_uri": "https://localhost:8080/",
          "height": 298
        },
        "id": "xEcxeQz-l2yC",
        "outputId": "c162030f-d0e9-4384-a19a-ddc21b93f0eb"
      },
      "outputs": [
        {
          "output_type": "execute_result",
          "data": {
            "text/plain": [
              "<matplotlib.axes._subplots.AxesSubplot at 0x7f30fe8aa950>"
            ]
          },
          "metadata": {},
          "execution_count": 35
        },
        {
          "output_type": "display_data",
          "data": {
            "text/plain": [
              "<Figure size 432x288 with 2 Axes>"
            ],
            "image/png": "[encoded data removed]"
          },
          "metadata": {
            "needs_background": "light"
          }
        }
      ],
      "source": [
        "import seaborn as sns\n",
        "\n",
        "table = pd.pivot_table(pd.DataFrame(model.cv_results_),\n",
        "    values='mean_test_score', index='param_n_estimators', \n",
        "                       columns='param_criterion')\n",
        "     \n",
        "sns.heatmap(table)"
      ]
    },
    {
      "cell_type": "code",
      "execution_count": null,
      "metadata": {
        "colab": {
          "base_uri": "https://localhost:8080/"
        },
        "id": "2p9Pmr4GnhsJ",
        "outputId": "a68bfe54-5a96-4ab0-b0cb-aff1ccdb8a0e"
      },
      "outputs": [
        {
          "output_type": "stream",
          "name": "stdout",
          "text": [
            "[[113   9]\n",
            " [ 19  19]]\n",
            "              precision    recall  f1-score   support\n",
            "\n",
            "           0       0.86      0.93      0.89       122\n",
            "           1       0.68      0.50      0.58        38\n",
            "\n",
            "    accuracy                           0.82       160\n",
            "   macro avg       0.77      0.71      0.73       160\n",
            "weighted avg       0.81      0.82      0.82       160\n",
            "\n"
          ]
        }
      ],
      "source": [
        "from sklearn.metrics import classification_report,confusion_matrix\n",
        "predictionforest = model.best_estimator_.predict(X_test_scaled)\n",
        "print(confusion_matrix(y_test,predictionforest))\n",
        "print(classification_report(y_test,predictionforest))\n",
        "acc3 = accuracy_score(y_test,predictionforest)"
      ]
    },
    {
      "cell_type": "markdown",
      "metadata": {
        "id": "sfkUEqXJbQhS"
      },
      "source": [
        "Linear Regression"
      ]
    },
    {
      "cell_type": "code",
      "execution_count": null,
      "metadata": {
        "colab": {
          "base_uri": "https://localhost:8080/"
        },
        "id": "syEIueTLbP86",
        "outputId": "ea64318f-3d0c-4710-a145-6e94f1cda4b9"
      },
      "outputs": [
        {
          "output_type": "stream",
          "name": "stdout",
          "text": [
            "\n",
            "Coefficient of model : [ 0.07790023  0.01704007  0.10568808  0.01719927 -0.11297964 -0.08995746\n",
            " -0.10339289 -0.03174489]\n",
            "\n",
            "Intercept of model 0.23630672926447577\n",
            "\n",
            "Item_Outlet_Sales on training data [ 3.80208622e-01  1.80215812e-02  3.72662660e-01 -6.39803267e-02\n",
            "  2.52404018e-01 -1.29828351e-01  5.23698506e-01 -4.84728739e-02\n",
            "  2.01950152e-01 -1.54086509e-01  7.72007715e-02  2.72288306e-01\n",
            "  1.22936241e-01  2.86550919e-01  1.02747639e-01 -5.22903018e-02\n",
            "  2.17357914e-01  2.77309685e-01  1.42619562e-01  3.58050823e-01\n",
            "  1.90599719e-01  1.51418327e-01  6.31324946e-02  1.66277745e-01\n",
            "  1.97443437e-01  5.99514585e-01  3.64594509e-02  2.16535316e-01\n",
            "  7.74853286e-02  1.21259726e-02 -9.16574670e-02  4.18743837e-01\n",
            "  5.65556331e-01  4.93723354e-01  3.08041482e-01  4.16152322e-01\n",
            "  4.49831786e-01  3.32436714e-02 -5.38677325e-04  2.09539824e-01\n",
            "  2.53777728e-01 -5.21357011e-02  1.91145240e-01  1.36125530e-01\n",
            "  1.45833974e-01  1.16531950e-01  2.97604965e-01  3.45117205e-01\n",
            "  2.38721780e-01 -1.49687250e-01 -2.66199413e-01  4.62314409e-01\n",
            "  3.83234621e-01  7.01221687e-01  2.19280462e-01 -1.17397762e-01\n",
            "  4.57254001e-01  3.04398237e-01  1.47828820e-01  3.99554678e-01\n",
            "  2.32466010e-01 -3.54530950e-02 -5.83995446e-02  1.97566308e-01\n",
            "  2.76001168e-01  5.15466057e-01  5.02372534e-01 -2.49369495e-03\n",
            "  1.51387273e-01  1.06153892e-01  3.76801746e-01  2.17602361e-01\n",
            "  4.96551553e-01  1.54483627e-02  4.34930862e-01  5.77423571e-01\n",
            "  4.18178341e-01  2.87673077e-01  1.35238965e-01  8.05724091e-02\n",
            "  9.74228488e-02  2.41430726e-01  1.17612506e-01  6.61330769e-01\n",
            "  4.91406552e-01 -5.14396975e-02  2.39520882e-01  1.22447468e-01\n",
            "  3.07346807e-01  2.65081187e-01  2.87626232e-01  1.41210427e-01\n",
            "  2.98253219e-01  4.74500217e-01  4.21140879e-01 -7.27471939e-02\n",
            "  1.39027730e-01  7.17390158e-01  5.29208134e-01 -1.02352489e-01\n",
            "  2.16343112e-01  2.01929118e-01  4.74225908e-02 -1.83283412e-01\n",
            "  9.12010812e-02  2.55707955e-01  1.65985923e-01  5.42960480e-01\n",
            " -1.13767704e-01  2.95446464e-01  3.20051564e-01  3.72394783e-01\n",
            "  4.21230705e-01  1.68724259e-01 -6.10548603e-02  4.68218970e-01\n",
            "  1.31374033e-01  2.73915576e-01  4.95220175e-02  1.52568045e-01\n",
            "  4.48873344e-02  5.59354242e-02  5.67966612e-01  3.18899728e-01\n",
            "  6.26317840e-02  6.48302043e-01  3.80144362e-01  3.65365863e-01\n",
            "  7.28836704e-01  2.43252467e-01  4.20684497e-01  3.00379267e-01\n",
            "  1.43106828e-01  2.31559541e-01  2.33396723e-01  1.55489438e-02\n",
            "  6.62367793e-02 -1.66213509e-02  2.84433072e-01  1.20787001e-01\n",
            "  2.27020413e-02  4.76898903e-01  1.89284315e-01  6.62764940e-01\n",
            " -1.72260256e-01 -5.06180012e-02  5.12505578e-01  1.52160708e-01\n",
            "  8.39397319e-01  3.36355420e-01  5.06144351e-01  2.60911672e-01\n",
            "  3.79335422e-01  2.77833975e-01  2.10975601e-01  4.25361838e-01\n",
            "  6.33745565e-01  2.19594885e-03  2.35281465e-01  3.54401459e-01\n",
            "  1.31341479e-01  3.77761803e-01  2.46185606e-02  3.03455135e-01\n",
            " -1.14395627e-01  3.16640211e-01 -1.21828599e-01 -8.66260368e-02\n",
            "  3.01299326e-01  1.60419074e-01  1.75377267e-01  7.67583022e-01\n",
            "  8.22309517e-02  1.13744892e-01  3.11328316e-01  2.76911174e-01\n",
            "  8.58542630e-02  3.27284248e-02  5.09844513e-01  6.30506563e-01\n",
            "  2.31410834e-02  4.01675190e-01 -3.49984600e-02  5.80455772e-01\n",
            "  4.08836903e-01  1.76671364e-01 -1.02209772e-01  1.99399530e-01\n",
            "  6.98906899e-01  5.33491723e-01  4.79789129e-01  3.22597737e-02\n",
            "  3.82621353e-01  3.27711948e-01  5.04163540e-02  2.84747437e-01\n",
            "  6.83076531e-01  8.89003690e-02  5.42361615e-03  3.68209504e-01\n",
            "  7.81821811e-01  2.38542091e-01  7.29027529e-01  4.17380971e-01\n",
            "  2.41070310e-01 -6.40742743e-02  1.21593438e-02 -1.14291074e-01\n",
            " -6.94194284e-02  2.83072789e-01  9.88636175e-02  2.03088770e-01\n",
            "  2.78874107e-01  9.55235770e-03  1.42690016e-01 -4.58864676e-02\n",
            "  1.57890820e-01  3.23503876e-01  1.93665593e-01  5.25191889e-02\n",
            "  4.06082909e-01  4.08420133e-01  3.21074203e-01  8.47114328e-02\n",
            "  4.04822745e-01  2.82448886e-01  2.00217138e-01  4.30944955e-01\n",
            "  3.22954836e-01 -2.74808566e-02  5.54096064e-02  6.21241782e-01\n",
            "  4.64372900e-01  5.27380944e-01  2.17157387e-01  6.64672916e-02\n",
            "  1.15124588e-01  2.30199280e-01  2.31570959e-01 -3.51295122e-02\n",
            "  3.13805102e-02  5.66543241e-02 -6.20696648e-03  4.29058446e-01\n",
            "  7.79201459e-01  1.74086635e-02  6.04688667e-01  6.40293382e-02\n",
            "  2.66648177e-01 -1.82790877e-02  3.55123425e-01  2.12607193e-01\n",
            "  3.51247532e-01  5.69279961e-01  3.93246084e-01  1.69890151e-02\n",
            " -4.49040841e-02  4.43201599e-02  1.12510124e+00  1.25029811e-01\n",
            "  3.85379732e-01  3.48271874e-02  2.82342342e-01  1.12100147e-01\n",
            "  3.16936108e-02  1.35994593e-01  2.66401592e-01  5.42449194e-01\n",
            "  1.87875659e-01  3.26706583e-01  2.78777796e-01  2.03039665e-01\n",
            "  1.65520380e-01  4.21396993e-01  1.43813930e-01  7.49760295e-01\n",
            "  2.79013670e-02  7.23174360e-01  4.13395883e-01  5.09925926e-01\n",
            "  3.24294085e-01 -1.23545910e-01  2.13483305e-01  5.36724291e-01\n",
            "  3.49475308e-01  9.69277110e-02 -3.58005834e-02  6.74352195e-01\n",
            "  1.25238845e-01  2.18734102e-01  8.77627177e-02  1.75055917e-01\n",
            "  4.95016940e-01  1.73174431e-01  2.41333941e-01  1.35481505e-01\n",
            "  4.75040053e-01  2.34826184e-01  3.19182719e-02  1.31074422e-01\n",
            "  2.47955280e-01  7.39751575e-02  9.73418157e-02 -1.40495995e-01\n",
            "  7.78178489e-02  4.98505132e-01 -1.99328170e-01  8.71169584e-02\n",
            "  1.60066618e-01 -1.38869229e-01 -2.19788288e-03 -1.53018117e-02\n",
            "  2.75572248e-01 -4.23229573e-02  1.36652404e-01  3.60508448e-01\n",
            "  6.86744198e-01  1.83353779e-01 -1.86503854e-02  1.94078704e-01\n",
            "  5.07526085e-01  4.10453122e-01 -7.09316677e-02  1.65217702e-01\n",
            "  1.34054761e-01  1.89263765e-01  4.11512605e-01  3.23430568e-01\n",
            "  1.02975352e-01  2.93025160e-02  3.24830475e-01  2.89856511e-01\n",
            "  1.55552816e-02 -8.76201064e-02  1.14608763e-01  1.04198071e-01\n",
            "  9.26574117e-02  9.91736613e-03  2.73296534e-01 -5.91667836e-02\n",
            "  6.13734065e-02  3.48662786e-01  1.18334716e-01 -5.55233752e-02\n",
            "  7.91657420e-01  1.79123357e-01  3.72521597e-01  3.83095351e-01\n",
            "  3.26660493e-01  4.28933961e-02  1.77076173e-01  5.18665113e-02\n",
            " -2.19552587e-01 -2.14450291e-01  3.54546918e-01  4.75257399e-01\n",
            "  9.40664155e-02  7.80895746e-01 -2.89472908e-02  1.77994933e-01\n",
            "  3.40228437e-01  3.80281605e-01 -8.21101226e-02  1.05854153e-01\n",
            " -2.02698750e-02  1.24699176e-01  5.54034854e-02  2.92912780e-01\n",
            "  4.59420075e-01 -9.64997174e-02  6.07078142e-01  4.73475200e-02\n",
            "  8.63966922e-02  1.16520302e-01  3.48257275e-01  2.96755297e-01\n",
            "  1.20596023e-03  3.86426827e-01  7.83693480e-02  1.63911109e-01\n",
            "  2.39929429e-01  3.07291873e-01  3.62303767e-01  2.39298167e-01\n",
            "  2.57081960e-01  9.33155675e-02  1.78868949e-02  3.05736144e-01\n",
            " -7.62280627e-02  3.29635559e-01  8.95734807e-01  2.22255253e-01\n",
            "  3.37989720e-01  1.29411097e-01  1.24752112e-01  4.84775610e-01\n",
            "  1.43798894e-01 -2.86270313e-02  1.98586358e-01  3.13056023e-01\n",
            "  2.28079355e-01  1.46604476e-01 -2.74941456e-02 -8.59649196e-02\n",
            "  4.55663917e-01  6.25023300e-01  2.25522161e-01  2.71224033e-01\n",
            "  5.97393581e-01  5.67180388e-01  2.86359657e-01  2.24675480e-01\n",
            "  2.28132731e-01  2.48559817e-01  4.36211667e-01  4.94822943e-01\n",
            " -2.54797451e-02  2.10269934e-01 -8.30457519e-02  6.91614171e-01\n",
            " -1.12395364e-01  2.26111516e-02 -1.16732514e-01  7.06959246e-01\n",
            "  5.43888310e-01  1.01042599e+00  6.23466074e-01  3.11933248e-01\n",
            "  2.06509512e-01  2.43374124e-01  5.10357756e-01  3.09591702e-01\n",
            "  2.74077240e-01 -1.32662836e-01 -2.93407856e-02  4.29697743e-01\n",
            " -1.43022082e-01  4.25102636e-01  2.92968408e-01  2.75931736e-01\n",
            "  1.69780214e-01 -4.57798205e-02  3.46094287e-01  1.79341621e-01\n",
            "  5.94372372e-02 -1.48447240e-01  1.05366380e-01  8.00104185e-01\n",
            "  5.81591438e-02  3.54745993e-01  5.03776579e-02  3.31278878e-01\n",
            "  2.42011449e-01  5.02422727e-01  2.05030803e-01  2.35031522e-02\n",
            "  2.13438911e-01  3.87838241e-01  2.41385468e-01  2.64286751e-01\n",
            "  3.51218478e-01  8.30902548e-01  2.90868085e-01  6.74881829e-01\n",
            "  2.97053293e-01  3.61615368e-01  9.64855058e-02  5.98618295e-02\n",
            "  6.86242549e-01  2.52811633e-01  2.33561131e-01  7.74692720e-01\n",
            " -7.07244157e-02  3.66512407e-01  1.17505486e-01 -2.57727455e-02\n",
            "  3.43815404e-01  3.20760085e-01  4.33245447e-01  6.60876836e-01\n",
            " -7.32264226e-02 -1.19136225e-01  3.45754020e-01  5.37466040e-01\n",
            "  2.61617782e-01  3.06214228e-01  1.23975647e+00  2.81835562e-01\n",
            "  1.01625690e-01 -1.88466346e-02  3.46732215e-01  6.74035417e-01\n",
            "  3.51112340e-01  3.14492630e-02  1.56306338e-01  2.76970015e-01\n",
            "  1.41942160e-01  2.57780359e-01 -1.11420218e-01 -3.91993933e-02\n",
            "  5.68716493e-01 -6.14834916e-02  9.62660198e-02  3.31677477e-01\n",
            "  6.07255625e-01  2.47000578e-01  9.83027946e-02  1.83516997e-01\n",
            "  7.82532321e-02  5.22256668e-01  4.86599847e-01  5.78191325e-01\n",
            "  6.64836924e-01  1.22145634e-01  1.71181664e-01  5.23328921e-01\n",
            " -8.16159741e-02  1.68991693e-01  4.60132362e-01  1.50061798e-01\n",
            "  2.60781273e-01 -1.64675577e-01  2.89599380e-01  1.74178866e-01\n",
            "  4.39219721e-01  5.69191614e-01  7.12476394e-03  8.47110179e-02\n",
            "  3.98679102e-01  5.82225916e-02 -1.10560544e-01  4.31063136e-01\n",
            " -7.06950601e-02  4.50137213e-01  6.30939373e-01  3.51691431e-01\n",
            "  4.30511074e-01  3.87247238e-01  2.11726606e-01  1.76482528e-01\n",
            "  3.41956668e-01  3.73449417e-01 -9.18362464e-03  6.47364751e-01\n",
            "  2.14308802e-01  4.25224090e-01  1.12068586e-01  4.88073734e-01\n",
            "  1.17405359e-02  2.95822337e-01  2.36931164e-01  1.12400069e-01\n",
            "  6.44683112e-02  1.11878275e-01  2.57981993e-01  4.66349706e-01\n",
            "  7.25109249e-01  2.37233866e-01  4.02826462e-02 -6.06019158e-02\n",
            "  3.84773589e-01  2.84509693e-01  9.16927613e-02  2.16767496e-01\n",
            "  4.00910335e-01  3.61529521e-01  3.03764945e-01  1.29860204e-01\n",
            " -2.27546598e-01  1.25613301e-01  4.42503885e-01  3.49613132e-01\n",
            " -5.47128575e-02  1.23503214e-01  6.70580689e-01  3.14184584e-01\n",
            "  2.19651749e-01  3.77989226e-01  4.13194742e-01 -1.57676124e-01\n",
            "  4.63138543e-01 -8.60422059e-02  1.62653916e-01  1.91248487e-01\n",
            "  4.07529168e-01  3.72724945e-01 -3.68656077e-02  4.79031773e-01\n",
            " -3.21132543e-02  1.64362280e-01  6.11990630e-02  9.10166736e-02\n",
            " -3.93884973e-02  9.41780432e-02  1.97385391e-01 -7.61956017e-03\n",
            "  1.29713582e-01  2.48554587e-01  3.28186349e-01  6.20419875e-01\n",
            "  5.19735529e-02 -6.81416407e-02  2.54033221e-01 -1.18013452e-02\n",
            "  4.91490225e-01  1.63052905e-01 -1.10484387e-01 -1.37544803e-02\n",
            "  3.22401324e-01 -5.09491998e-02 -1.73291769e-02  1.00019562e-01\n",
            "  1.74449546e-01  1.10491540e-01  4.29267378e-01  5.29390104e-01\n",
            "  1.79708365e-01  2.27263875e-01 -4.68112146e-02  4.03587404e-01\n",
            "  3.33533752e-01  4.38472779e-01  1.12620092e-01 -2.47044200e-02\n",
            "  9.46868454e-02  3.49766359e-02  5.48843505e-01  4.69153399e-01\n",
            "  4.74235816e-02  1.27933670e-01  4.98293357e-01  5.23401782e-01\n",
            "  1.39010358e-01  2.39569670e-01  5.39889312e-01 -5.18466026e-02\n",
            "  2.28218575e-01  1.54130288e-01  1.44180305e-01]\n",
            "\n",
            "RMSE on train dataset :  0.3580179837942\n",
            "\n",
            "Item_Outlet_Sales on test data [-0.01633292  0.18647393  0.68802482 -0.01178613  0.30053642  0.49467611\n",
            "  0.47311142 -0.10689381  0.1163827   0.36848441  0.29760497  0.25106469\n",
            "  0.27875229  0.21019321  0.10790477 -0.07738404  0.34133243 -0.0902685\n",
            "  0.19274682  0.04189955  0.41324583  0.20625704 -0.10448848  0.49454591\n",
            "  0.49586106 -0.01823802  0.12203073  0.01682994  0.26250308  0.210111\n",
            " -0.20823855  0.37130834  0.43183678  0.26717801  0.59231098  0.53891026\n",
            "  0.32940728 -0.04547945  0.11549123  0.35482213  0.65775488 -0.07475155\n",
            "  0.07613979  0.27575812  0.2539814   0.55358903  0.34484591  0.73403481\n",
            " -0.0982532   0.68945768  0.40920622  0.25529969  0.29427524  0.00602409\n",
            "  0.11279337  0.46556568  0.02178526  0.02227875  0.19892825  0.66248417\n",
            "  0.58077248  0.37295099 -0.04651749  0.01914721  0.37040859  0.21348777\n",
            "  0.09058956  0.14830122 -0.04547584  0.22228194  0.17063018  0.19934858\n",
            "  0.06527074  0.39399006  0.25839644 -0.09069591  0.53044613  0.26409617\n",
            "  0.36756331  0.13404042 -0.24595878  0.23248896  0.2893346   0.42348355\n",
            "  0.03397376 -0.06648518  0.38192663  0.21666891  0.81706549  0.09397973\n",
            " -0.04645895  0.2749417  -0.01460784 -0.02634288  0.12442453  0.29757472\n",
            "  0.48158207 -0.01044965  0.21668443  0.35494623  0.30364777  0.1892988\n",
            "  0.18384979 -0.03174023  0.1221383   0.5155851  -0.05648569  0.30858226\n",
            "  0.16935344 -0.20932829  0.23851055  0.35686477  0.325058    0.32825257\n",
            "  0.31475627  0.53606429  0.24136302  0.51631495 -0.00700655  0.85302036\n",
            "  0.18503215  0.23149519  0.31862817 -0.0405915   0.05948348  0.04591974\n",
            "  0.14002587  0.50580829  0.19866547  0.20496603  0.16344326  0.46168449\n",
            "  0.05760928  0.19685463  0.46844978  0.54875228  0.22502986  0.45923397\n",
            "  0.12182268  0.15061603  0.15020382  0.42135413  0.15924367  0.16326509\n",
            "  0.29837562  0.07279672  0.33047075  0.51459688  0.1952024   0.34581189\n",
            "  0.43560945  0.41127559  0.29205576  0.05759136  0.32429408  0.17977543\n",
            "  0.31502534  0.04911494  0.52166177  0.5005719 ]\n",
            "\n",
            "RMSE on test dataset :  0.3578066699585085\n"
          ]
        }
      ],
      "source": [
        "from sklearn.linear_model import LinearRegression\n",
        "from sklearn.metrics import mean_squared_error\n",
        "model = LinearRegression()\n",
        "\n",
        "model.fit(X_train_scaled, y_train)\n",
        "\n",
        "print('\\nCoefficient of model :', model.coef_)\n",
        "\n",
        "print('\\nIntercept of model',model.intercept_)\n",
        "\n",
        "predict_train = model.predict(X_train_scaled)\n",
        "print('\\nItem_Outlet_Sales on training data',predict_train) \n",
        "\n",
        "rmse_train = mean_squared_error(y_train,predict_train)**(0.5)\n",
        "print('\\nRMSE on train dataset : ', rmse_train)\n",
        "\n",
        "predict_test = model.predict(X_test_scaled)\n",
        "print('\\nItem_Outlet_Sales on test data',predict_test) \n",
        "\n",
        "rmse_test = mean_squared_error(y_test,predict_test)**(0.5)\n",
        "print('\\nRMSE on test dataset : ', rmse_test)"
      ]
    },
    {
      "cell_type": "markdown",
      "metadata": {
        "id": "tZ7eRBYUlINA"
      },
      "source": [
        "Logistic Regression"
      ]
    },
    {
      "cell_type": "code",
      "execution_count": null,
      "metadata": {
        "id": "Cq-WKpIwlI6N"
      },
      "outputs": [],
      "source": [
        "from sklearn.linear_model import LogisticRegression\n",
        "from sklearn.metrics import confusion_matrix, precision_score, accuracy_score, recall_score, roc_curve, auc"
      ]
    },
    {
      "cell_type": "code",
      "execution_count": null,
      "metadata": {
        "colab": {
          "base_uri": "https://localhost:8080/",
          "height": 386
        },
        "id": "7rq2wlptlO4Q",
        "outputId": "e8fa397f-2965-4dbd-d4f7-728268b604b8"
      },
      "outputs": [
        {
          "output_type": "stream",
          "name": "stderr",
          "text": [
            "/usr/local/lib/python3.7/dist-packages/sklearn/utils/deprecation.py:87: FutureWarning:\n",
            "\n",
            "Function plot_confusion_matrix is deprecated; Function `plot_confusion_matrix` is deprecated in 1.0 and will be removed in 1.2. Use one of the class methods: ConfusionMatrixDisplay.from_predictions or ConfusionMatrixDisplay.from_estimator.\n",
            "\n"
          ]
        },
        {
          "output_type": "execute_result",
          "data": {
            "text/plain": [
              "<sklearn.metrics._plot.confusion_matrix.ConfusionMatrixDisplay at 0x7f30fe9b9b90>"
            ]
          },
          "metadata": {},
          "execution_count": 39
        },
        {
          "output_type": "display_data",
          "data": {
            "text/plain": [
              "<Figure size 432x288 with 2 Axes>"
            ],
            "image/png": "[encoded data removed]"
          },
          "metadata": {
            "needs_background": "light"
          }
        }
      ],
      "source": [
        "log_reg_model = LogisticRegression().fit(X_train_scaled, y_train)\n",
        "\n",
        "# for test there are 94 cases\n",
        "plot_confusion_matrix(log_reg_model, X_test_scaled, y_test, cmap= 'Blues', values_format='d', display_labels=['Nondemented', 'Demented'])"
      ]
    },
    {
      "cell_type": "code",
      "execution_count": null,
      "metadata": {
        "colab": {
          "base_uri": "https://localhost:8080/"
        },
        "id": "FUQBRp6QlS2B",
        "outputId": "e72312e1-c74b-4315-83e4-54ecb2f1a351"
      },
      "outputs": [
        {
          "output_type": "stream",
          "name": "stdout",
          "text": [
            "Train accuracy  82.00312989045383\n",
            "Test accuracy  83.75\n",
            "Test recall 0.5\n",
            "Test AUC 0.7213114754098362\n"
          ]
        }
      ],
      "source": [
        "train_score = 0\n",
        "test_score = 0\n",
        "test_recall = 0\n",
        "test_auc = 0\n",
        "\n",
        "log_reg_model = LogisticRegression().fit(X_train_scaled, y_train)\n",
        "train_score = log_reg_model.score(X_train_scaled, y_train)*100\n",
        "test_score = log_reg_model.score(X_test_scaled, y_test)*100\n",
        "scores = log_reg_model.score(X_test_scaled, y_test)\n",
        "y_predict = log_reg_model.predict(X_test_scaled)\n",
        "test_recall = recall_score(y_test, y_predict)\n",
        "fpr, tpr, thresholds = roc_curve(y_test, y_predict)\n",
        "test_auc = auc(fpr, tpr)\n",
        "\n",
        "print(\"Train accuracy \", train_score)\n",
        "print(\"Test accuracy \", test_score)\n",
        "print(\"Test recall\", test_recall)\n",
        "print(\"Test AUC\", test_auc)\n",
        "m = 'Logistic Regression (w/ imputation)'\n",
        "acc.append([m, test_score, test_recall, test_auc, fpr, tpr, thresholds])"
      ]
    },
    {
      "cell_type": "markdown",
      "metadata": {
        "id": "mp_kBzoElZPZ"
      },
      "source": [
        "Optimize parameters(Finetuning) --> GridSearchCV()"
      ]
    },
    {
      "cell_type": "code",
      "execution_count": null,
      "metadata": {
        "id": "897D5rLWlln4"
      },
      "outputs": [],
      "source": [
        "best_C = optimal_params.best_params_['C']\n",
        "best_penalty = optimal_params.best_params_['penalty']"
      ]
    },
    {
      "cell_type": "code",
      "execution_count": null,
      "metadata": {
        "colab": {
          "base_uri": "https://localhost:8080/",
          "height": 386
        },
        "id": "_0GmkIT_lrzh",
        "outputId": "0369a479-6ea4-4bed-816c-f2683adc7b5c"
      },
      "outputs": [
        {
          "output_type": "stream",
          "name": "stderr",
          "text": [
            "/usr/local/lib/python3.7/dist-packages/sklearn/utils/deprecation.py:87: FutureWarning:\n",
            "\n",
            "Function plot_confusion_matrix is deprecated; Function `plot_confusion_matrix` is deprecated in 1.0 and will be removed in 1.2. Use one of the class methods: ConfusionMatrixDisplay.from_predictions or ConfusionMatrixDisplay.from_estimator.\n",
            "\n"
          ]
        },
        {
          "output_type": "execute_result",
          "data": {
            "text/plain": [
              "<sklearn.metrics._plot.confusion_matrix.ConfusionMatrixDisplay at 0x7f30feac7950>"
            ]
          },
          "metadata": {},
          "execution_count": 43
        },
        {
          "output_type": "display_data",
          "data": {
            "text/plain": [
              "<Figure size 432x288 with 2 Axes>"
            ],
            "image/png": "[encoded data removed]"
          },
          "metadata": {
            "needs_background": "light"
          }
        }
      ],
      "source": [
        "model = LogisticRegression(C=best_C, penalty=best_penalty).fit(X_train_scaled, y_train)\n",
        "\n",
        "# for test there are 94 cases\n",
        "plot_confusion_matrix(model, X_test_scaled, y_test, cmap= 'Blues', values_format='d', display_labels=['Nondemented', 'Demented'])"
      ]
    },
    {
      "cell_type": "code",
      "execution_count": null,
      "metadata": {
        "colab": {
          "base_uri": "https://localhost:8080/"
        },
        "id": "f3B2CuuBlvxQ",
        "outputId": "45edd4c1-cf74-4a3f-81fd-b3222b637173"
      },
      "outputs": [
        {
          "output_type": "stream",
          "name": "stdout",
          "text": [
            "Train accuracy with Logistec regression: 82.00312989045383\n",
            "Test accuracy with Logistec regression: 83.125\n",
            "Test recall with Logistec regression: 50.0\n",
            "Test AUC with Logistec regression: 71.72131147540985\n"
          ]
        }
      ],
      "source": [
        "train_score = 0\n",
        "test_score = 0\n",
        "test_recall = 0\n",
        "test_auc = 0\n",
        "\n",
        "best_log_reg_model = LogisticRegression(C=best_C, penalty=best_penalty).fit(X_train_scaled, y_train)\n",
        "train_score = best_log_reg_model.score(X_train_scaled, y_train)*100\n",
        "test_score = best_log_reg_model.score(X_test_scaled, y_test)*100\n",
        "y_predict = best_log_reg_model.predict(X_test_scaled)\n",
        "test_recall = recall_score(y_test, y_predict)*100\n",
        "lgr_fpr, lgr_tpr, thresholds = roc_curve(y_test, y_predict)\n",
        "test_auc = auc(lgr_fpr, lgr_tpr)*100\n",
        "\n",
        "print(\"Train accuracy with Logistec regression:\", train_score)\n",
        "print(\"Test accuracy with Logistec regression:\", test_score)\n",
        "print(\"Test recall with Logistec regression:\", test_recall)\n",
        "print(\"Test AUC with Logistec regression:\", test_auc)"
      ]
    },
    {
      "cell_type": "markdown",
      "metadata": {
        "id": "IxlYj5jvmAIg"
      },
      "source": [
        "Decision Tree"
      ]
    },
    {
      "cell_type": "code",
      "execution_count": null,
      "metadata": {
        "colab": {
          "base_uri": "https://localhost:8080/",
          "height": 386
        },
        "id": "ta8a7NfnmAyI",
        "outputId": "e1d6c632-775b-4a4b-8101-d2367c0a1906"
      },
      "outputs": [
        {
          "output_type": "stream",
          "name": "stderr",
          "text": [
            "/usr/local/lib/python3.7/dist-packages/sklearn/utils/deprecation.py:87: FutureWarning:\n",
            "\n",
            "Function plot_confusion_matrix is deprecated; Function `plot_confusion_matrix` is deprecated in 1.0 and will be removed in 1.2. Use one of the class methods: ConfusionMatrixDisplay.from_predictions or ConfusionMatrixDisplay.from_estimator.\n",
            "\n"
          ]
        },
        {
          "output_type": "execute_result",
          "data": {
            "text/plain": [
              "<sklearn.metrics._plot.confusion_matrix.ConfusionMatrixDisplay at 0x7f30fec14a50>"
            ]
          },
          "metadata": {},
          "execution_count": 45
        },
        {
          "output_type": "display_data",
          "data": {
            "text/plain": [
              "<Figure size 432x288 with 2 Axes>"
            ],
            "image/png": "[encoded data removed]"
          },
          "metadata": {
            "needs_background": "light"
          }
        }
      ],
      "source": [
        "from sklearn.tree import DecisionTreeClassifier\n",
        "dt_model = DecisionTreeClassifier().fit(X_train_scaled, y_train)\n",
        "\n",
        "# for test there are 94 cases\n",
        "plot_confusion_matrix(dt_model, X_test_scaled, y_test, cmap= 'Blues', values_format='d', display_labels=['Nondemented', 'Demented'])"
      ]
    },
    {
      "cell_type": "code",
      "execution_count": null,
      "metadata": {
        "colab": {
          "base_uri": "https://localhost:8080/"
        },
        "id": "E5PIAQJ5mJg6",
        "outputId": "d52201e4-677b-4251-a040-d6021154c74e"
      },
      "outputs": [
        {
          "output_type": "stream",
          "name": "stdout",
          "text": [
            "Train accuracy with DecisionTreeClassifier: 100.0\n",
            "Test accuracy with DecisionTreeClassifier: 78.75\n",
            "Test recall with DecisionTreeClassifier: 50.0\n",
            "Test AUC with DecisionTreeClassifier: 68.85245901639344\n"
          ]
        }
      ],
      "source": [
        "train_score = 0\n",
        "test_score = 0\n",
        "test_recall = 0\n",
        "test_auc = 0\n",
        "\n",
        "dt_model = DecisionTreeClassifier().fit(X_train_scaled, y_train)\n",
        "train_score = dt_model.score(X_train_scaled, y_train)*100\n",
        "test_score = dt_model.score(X_test_scaled, y_test)*100\n",
        "y_predict = dt_model.predict(X_test_scaled)\n",
        "test_recall = recall_score(y_test, y_predict)*100\n",
        "fpr, tpr, thresholds = roc_curve(y_test, y_predict)\n",
        "test_auc = auc(fpr, tpr)*100\n",
        "\n",
        "print(\"Train accuracy with DecisionTreeClassifier:\", train_score)\n",
        "print(\"Test accuracy with DecisionTreeClassifier:\", test_score)\n",
        "print(\"Test recall with DecisionTreeClassifier:\", test_recall)\n",
        "print(\"Test AUC with DecisionTreeClassifier:\", test_auc)\n",
        "m = 'Decision Tree'\n",
        "acc.append([m, test_score, test_recall, test_auc, fpr, tpr, thresholds])"
      ]
    },
    {
      "cell_type": "markdown",
      "metadata": {
        "id": "-iXWOzlbmRFg"
      },
      "source": [
        "Optimize parameters(Finetuning) --> GridSearchCV()"
      ]
    },
    {
      "cell_type": "code",
      "execution_count": null,
      "metadata": {
        "colab": {
          "base_uri": "https://localhost:8080/"
        },
        "id": "8tsOj27_mQmQ",
        "outputId": "496597ee-1c0b-4809-bea5-4ddb5b4b3ebc"
      },
      "outputs": [
        {
          "output_type": "stream",
          "name": "stdout",
          "text": [
            "{'criterion': 'gini', 'max_depth': 1}\n"
          ]
        }
      ],
      "source": [
        "param_grid = {'criterion': ['gini'], \n",
        "              'max_depth': range(1,10,100)}\n",
        "\n",
        "optimal_params = GridSearchCV(DecisionTreeClassifier(),\n",
        "                             param_grid,\n",
        "                             cv=5, # we are taking 5-fold as in k-fold cross validation\n",
        "                             scoring='accuracy', # try the other scoring if have time\n",
        "                             verbose=0,\n",
        "                             n_jobs=-1)\n",
        "\n",
        "optimal_params.fit(X_train_scaled, y_train)\n",
        "print(optimal_params.best_params_)"
      ]
    },
    {
      "cell_type": "code",
      "execution_count": null,
      "metadata": {
        "id": "IEi_VOcemYHQ"
      },
      "outputs": [],
      "source": [
        "criterion = optimal_params.best_params_['criterion']\n",
        "max_depth = optimal_params.best_params_['max_depth']"
      ]
    },
    {
      "cell_type": "code",
      "execution_count": null,
      "metadata": {
        "colab": {
          "base_uri": "https://localhost:8080/",
          "height": 386
        },
        "id": "I6iF5F0umbGB",
        "outputId": "fc97361b-9a4d-40b3-950e-2e4be8670e89"
      },
      "outputs": [
        {
          "output_type": "stream",
          "name": "stderr",
          "text": [
            "/usr/local/lib/python3.7/dist-packages/sklearn/utils/deprecation.py:87: FutureWarning:\n",
            "\n",
            "Function plot_confusion_matrix is deprecated; Function `plot_confusion_matrix` is deprecated in 1.0 and will be removed in 1.2. Use one of the class methods: ConfusionMatrixDisplay.from_predictions or ConfusionMatrixDisplay.from_estimator.\n",
            "\n"
          ]
        },
        {
          "output_type": "execute_result",
          "data": {
            "text/plain": [
              "<sklearn.metrics._plot.confusion_matrix.ConfusionMatrixDisplay at 0x7f30fef32650>"
            ]
          },
          "metadata": {},
          "execution_count": 49
        },
        {
          "output_type": "display_data",
          "data": {
            "text/plain": [
              "<Figure size 432x288 with 2 Axes>"
            ],
            "image/png": "[encoded data removed]"
          },
          "metadata": {
            "needs_background": "light"
          }
        }
      ],
      "source": [
        "dt_model = DecisionTreeClassifier(criterion=criterion, max_depth=max_depth).fit(X_train_scaled, y_train)\n",
        "\n",
        "# for test there are 94 cases\n",
        "plot_confusion_matrix(dt_model, X_test_scaled, y_test, cmap= 'Blues', values_format='d', display_labels=['Nondemented', 'Demented'])"
      ]
    },
    {
      "cell_type": "code",
      "execution_count": null,
      "metadata": {
        "colab": {
          "base_uri": "https://localhost:8080/"
        },
        "id": "KLPNrY3kmfLL",
        "outputId": "04edc000-2522-4f3b-f984-98bc4036cf91"
      },
      "outputs": [
        {
          "output_type": "stream",
          "name": "stdout",
          "text": [
            "Train accuracy with DecisionTreeClassifier: 78.24726134585289\n",
            "Test accuracy with DecisionTreeClassifier: 79.375\n",
            "Test recall with DecisionTreeClassifier: 63.1578947368421\n",
            "Test AUC with DecisionTreeClassifier: 73.79206212251941\n"
          ]
        }
      ],
      "source": [
        "train_score = 0\n",
        "test_score = 0\n",
        "test_recall = 0\n",
        "test_auc = 0\n",
        "\n",
        "dt_model = DecisionTreeClassifier(criterion=criterion, max_depth=max_depth).fit(X_train_scaled, y_train)\n",
        "train_score = dt_model.score(X_train_scaled, y_train)*100\n",
        "test_score = dt_model.score(X_test_scaled, y_test)*100\n",
        "y_predict = dt_model.predict(X_test_scaled)\n",
        "test_recall = recall_score(y_test, y_predict)*100\n",
        "dt_fpr, dt_tpr, thresholds = roc_curve(y_test, y_predict)\n",
        "test_auc = auc(dt_fpr, dt_tpr)*100\n",
        "\n",
        "print(\"Train accuracy with DecisionTreeClassifier:\", train_score)\n",
        "print(\"Test accuracy with DecisionTreeClassifier:\", test_score)\n",
        "print(\"Test recall with DecisionTreeClassifier:\", test_recall)\n",
        "print(\"Test AUC with DecisionTreeClassifier:\", test_auc)"
      ]
    },
    {
      "cell_type": "markdown",
      "metadata": {
        "id": "v3XxDWjcpQuw"
      },
      "source": [
        "k-Nearest Neighbors"
      ]
    },
    {
      "cell_type": "code",
      "execution_count": null,
      "metadata": {
        "colab": {
          "base_uri": "https://localhost:8080/",
          "height": 280
        },
        "id": "Wbs4NVR3pP2P",
        "outputId": "e56fd06b-0b2d-4ea3-b40f-897aeebb9d76"
      },
      "outputs": [
        {
          "output_type": "display_data",
          "data": {
            "text/plain": [
              "<Figure size 432x288 with 1 Axes>"
            ],
            "image/png": "[encoded data removed]"
          },
          "metadata": {
            "needs_background": "light"
          }
        }
      ],
      "source": [
        "from sklearn.neighbors import KNeighborsClassifier\n",
        "training_accuracy = []\n",
        "test_accuracy = []\n",
        "\n",
        "neighbors_settings = range(1, 11)\n",
        "for n_neighbors in neighbors_settings:\n",
        "    knn = KNeighborsClassifier(n_neighbors=n_neighbors)\n",
        "    knn.fit(X_train_scaled, y_train)\n",
        "    # training set accuracy\n",
        "    training_accuracy.append(knn.score(X_train_scaled, y_train)*100)\n",
        "    # record test set accuracy\n",
        "    test_accuracy.append(knn.score(X_test_scaled, y_test)*100)\n",
        "plt.plot(neighbors_settings, training_accuracy, label=\"training accuracy\")\n",
        "plt.plot(neighbors_settings, test_accuracy, label=\"test accuracy\")\n",
        "plt.ylabel(\"Accuracy\")\n",
        "plt.xlabel(\"n_neighbors\")\n",
        "plt.legend()\n",
        "plt.savefig('knn_compare_model')"
      ]
    },
    {
      "cell_type": "code",
      "execution_count": null,
      "metadata": {
        "id": "EKV6DHo7pcQI"
      },
      "outputs": [],
      "source": [
        "knn=KNeighborsClassifier(n_neighbors=1)"
      ]
    },
    {
      "cell_type": "code",
      "execution_count": null,
      "metadata": {
        "colab": {
          "base_uri": "https://localhost:8080/"
        },
        "id": "QLytePBUpgY3",
        "outputId": "2fba2697-46cc-4991-9766-37f5cc6415ba"
      },
      "outputs": [
        {
          "output_type": "execute_result",
          "data": {
            "text/plain": [
              "KNeighborsClassifier(n_neighbors=1)"
            ]
          },
          "metadata": {},
          "execution_count": 53
        }
      ],
      "source": [
        "knn.fit(X_train_scaled, y_train)"
      ]
    },
    {
      "cell_type": "code",
      "execution_count": null,
      "metadata": {
        "colab": {
          "base_uri": "https://localhost:8080/",
          "height": 386
        },
        "id": "oQt2T2K3lGr8",
        "outputId": "6fd4f0b0-384e-4023-9853-e62abb56ac58"
      },
      "outputs": [
        {
          "output_type": "stream",
          "name": "stderr",
          "text": [
            "/usr/local/lib/python3.7/dist-packages/sklearn/utils/deprecation.py:87: FutureWarning:\n",
            "\n",
            "Function plot_confusion_matrix is deprecated; Function `plot_confusion_matrix` is deprecated in 1.0 and will be removed in 1.2. Use one of the class methods: ConfusionMatrixDisplay.from_predictions or ConfusionMatrixDisplay.from_estimator.\n",
            "\n"
          ]
        },
        {
          "output_type": "execute_result",
          "data": {
            "text/plain": [
              "<sklearn.metrics._plot.confusion_matrix.ConfusionMatrixDisplay at 0x7f30fea18110>"
            ]
          },
          "metadata": {},
          "execution_count": 54
        },
        {
          "output_type": "display_data",
          "data": {
            "text/plain": [
              "<Figure size 432x288 with 2 Axes>"
            ],
            "image/png": "[encoded data removed]"
          },
          "metadata": {
            "needs_background": "light"
          }
        }
      ],
      "source": [
        "plot_confusion_matrix(knn, X_test_scaled, y_test, cmap= 'Blues', values_format='d', display_labels=['Nondemented', 'Demented'])"
      ]
    },
    {
      "cell_type": "code",
      "execution_count": null,
      "metadata": {
        "colab": {
          "base_uri": "https://localhost:8080/"
        },
        "id": "O8-92TTiphyI",
        "outputId": "72d284c1-c8c7-4ce5-d092-0cd9200968b3"
      },
      "outputs": [
        {
          "output_type": "stream",
          "name": "stdout",
          "text": [
            "Accuracy of K-NN classifier on training set: 100.00\n",
            "Accuracy of K-NN classifier on test set: 85.62\n"
          ]
        }
      ],
      "source": [
        "y_predict = knn.predict(X_test_scaled)\n",
        "knn_fpr, knn_tpr, thresholds = roc_curve(y_test, y_predict)\n",
        "test_auc = auc(knn_fpr, knn_tpr)\n",
        "print('Accuracy of K-NN classifier on training set: {:.2f}'.format(knn.score(X_train_scaled, y_train)*100))\n",
        "print('Accuracy of K-NN classifier on test set: {:.2f}'.format(knn.score(X_test_scaled, y_test)*100))\n",
        "m = 'k-Nearest Neighbors'\n",
        "acc.append([m, knn.score(X_test_scaled, y_test), test_recall, test_auc, fpr, tpr, thresholds])"
      ]
    },
    {
      "cell_type": "markdown",
      "metadata": {
        "id": "Pzr16dlP8dXH"
      },
      "source": [
        "Naive Bayes"
      ]
    },
    {
      "cell_type": "code",
      "execution_count": null,
      "metadata": {
        "id": "KHeVsTQG8dD3"
      },
      "outputs": [],
      "source": [
        "from sklearn.naive_bayes import GaussianNB\n",
        "from sklearn.metrics import accuracy_score"
      ]
    },
    {
      "cell_type": "code",
      "execution_count": null,
      "metadata": {
        "colab": {
          "base_uri": "https://localhost:8080/"
        },
        "id": "whcMVD0vN6HS",
        "outputId": "a19bd73b-6f93-4749-c30b-6c0aa22594d0"
      },
      "outputs": [
        {
          "output_type": "execute_result",
          "data": {
            "text/plain": [
              "GaussianNB()"
            ]
          },
          "metadata": {},
          "execution_count": 57
        }
      ],
      "source": [
        "model = GaussianNB()\n",
        "\n",
        "model.fit(X_train_scaled, y_train)"
      ]
    },
    {
      "cell_type": "code",
      "execution_count": null,
      "metadata": {
        "colab": {
          "base_uri": "https://localhost:8080/",
          "height": 386
        },
        "id": "0mBQvDK-OQw7",
        "outputId": "d0fa974c-525f-4212-f0e5-c1ea0df1658f"
      },
      "outputs": [
        {
          "output_type": "stream",
          "name": "stderr",
          "text": [
            "/usr/local/lib/python3.7/dist-packages/sklearn/utils/deprecation.py:87: FutureWarning:\n",
            "\n",
            "Function plot_confusion_matrix is deprecated; Function `plot_confusion_matrix` is deprecated in 1.0 and will be removed in 1.2. Use one of the class methods: ConfusionMatrixDisplay.from_predictions or ConfusionMatrixDisplay.from_estimator.\n",
            "\n"
          ]
        },
        {
          "output_type": "execute_result",
          "data": {
            "text/plain": [
              "<sklearn.metrics._plot.confusion_matrix.ConfusionMatrixDisplay at 0x7f30fee27fd0>"
            ]
          },
          "metadata": {},
          "execution_count": 58
        },
        {
          "output_type": "display_data",
          "data": {
            "text/plain": [
              "<Figure size 432x288 with 2 Axes>"
            ],
            "image/png": "[encoded data removed]"
          },
          "metadata": {
            "needs_background": "light"
          }
        }
      ],
      "source": [
        "plot_confusion_matrix(model, X_test_scaled, y_test, cmap= 'Blues', values_format='d', display_labels=['Nondemented', 'Demented'])"
      ]
    },
    {
      "cell_type": "code",
      "execution_count": null,
      "metadata": {
        "colab": {
          "base_uri": "https://localhost:8080/"
        },
        "id": "B9PhCUHf8n_Y",
        "outputId": "0a34532e-2a20-4491-b8bc-cd23ede703ae"
      },
      "outputs": [
        {
          "output_type": "stream",
          "name": "stdout",
          "text": [
            "Target on train data [1 0 1 0 0 0 1 0 0 0 0 0 0 0 0 0 0 1 0 1 0 0 0 0 1 1 0 0 0 0 0 1 1 1 1 1 1\n",
            " 0 0 0 1 0 0 0 0 0 1 0 0 0 0 1 1 1 0 0 1 1 0 1 1 0 0 0 0 1 1 0 0 0 1 0 1 0\n",
            " 1 1 0 0 0 0 0 0 0 1 1 0 0 0 1 1 0 0 0 1 1 0 0 1 1 0 0 0 0 0 0 1 0 1 0 1 1\n",
            " 1 1 0 0 1 0 0 0 0 0 0 1 1 0 1 1 1 1 0 1 0 0 1 0 0 0 0 0 0 0 1 0 1 0 0 1 0\n",
            " 1 1 0 0 1 1 0 1 1 0 1 0 0 0 0 0 0 0 0 0 1 0 0 1 0 0 1 1 0 0 1 1 0 1 0 1 0\n",
            " 1 0 0 1 1 1 0 1 0 0 0 1 0 0 1 1 1 1 0 0 0 0 0 0 0 0 0 1 0 0 0 0 1 1 0 1 0\n",
            " 0 0 1 0 0 1 1 0 0 1 1 1 0 0 0 0 0 0 0 0 0 1 1 0 1 0 1 0 1 0 1 1 1 0 0 0 1\n",
            " 0 1 0 1 0 0 0 1 1 0 1 1 0 0 1 0 1 0 1 1 1 1 0 0 1 1 0 0 1 0 0 0 0 1 0 1 0\n",
            " 1 0 0 0 0 0 0 0 0 0 0 0 0 0 0 0 0 0 0 1 1 0 0 0 1 1 0 1 0 0 1 1 0 0 0 0 0\n",
            " 0 0 0 0 0 0 0 0 1 0 0 1 0 1 1 0 0 0 0 0 0 1 0 0 1 0 0 1 0 0 0 0 0 0 1 1 0\n",
            " 1 0 0 0 1 0 0 0 0 0 1 0 1 0 1 0 0 0 0 0 1 0 0 0 0 0 0 0 0 0 0 0 0 0 1 1 0\n",
            " 0 1 1 1 0 0 0 1 1 0 0 0 1 0 0 0 1 1 1 1 0 0 1 1 1 0 0 0 0 0 1 0 0 0 0 1 0\n",
            " 0 0 0 1 0 1 0 1 0 0 0 0 0 1 0 0 1 1 0 1 1 1 0 0 1 0 1 1 0 1 0 0 0 0 1 1 0\n",
            " 0 1 1 0 1 1 1 0 0 1 1 1 0 1 0 0 1 0 0 1 0 0 1 1 0 0 0 0 0 1 1 1 0 0 1 0 0\n",
            " 1 0 0 0 0 0 1 1 0 0 1 0 0 0 0 1 1 0 1 0 0 0 1 0 0 1 0 0 0 1 0 1 1 0 0 0 0\n",
            " 1 1 0 0 0 1 0 0 0 1 0 1 0 0 0 1 1 0 0 1 0 0 0 1 0 1 0 0 0 1 0 0 1 0 0 0 0\n",
            " 0 0 0 0 0 0 1 1 0 0 0 0 0 0 0 0 1 0 0 0 0 0 1 1 0 1 0 1 1 1 0 0 0 0 1 1 0\n",
            " 0 1 1 0 0 1 0 0 0 0]\n",
            "accuracy_score on train dataset :  77.46478873239437\n",
            "Target on test data [0 0 1 0 0 1 1 0 0 1 1 0 0 0 0 0 0 0 0 0 0 0 0 1 1 0 0 0 0 0 0 1 1 0 1 1 0\n",
            " 0 0 1 1 0 0 0 1 1 0 1 0 1 1 1 0 0 0 1 0 0 1 1 1 1 0 0 1 0 0 0 0 0 0 0 0 1\n",
            " 1 0 1 0 1 0 0 0 0 1 0 0 1 0 1 0 0 0 0 0 0 0 0 0 0 1 0 1 0 0 0 1 0 1 0 0 1\n",
            " 1 0 1 0 1 1 1 0 1 0 0 1 0 0 0 0 1 0 0 0 1 0 0 1 1 0 0 0 0 0 1 0 0 1 0 0 1\n",
            " 1 1 1 1 1 0 1 1 1 0 1 1]\n",
            "accuracy_score on test dataset :  70.625\n"
          ]
        }
      ],
      "source": [
        "\n",
        "predict_train = model.predict(X_train_scaled)\n",
        "print('Target on train data',predict_train) \n",
        "\n",
        "accuracy_train = accuracy_score(y_train,predict_train)*100\n",
        "print('accuracy_score on train dataset : ', accuracy_train)\n",
        "\n",
        "predict_test = model.predict(X_test_scaled)\n",
        "print('Target on test data',predict_test) \n",
        "\n",
        "accuracy_test = accuracy_score(y_test,predict_test)*100\n",
        "print('accuracy_score on test dataset : ', accuracy_test)\n",
        "y_predict = model.predict(X_test_scaled)\n",
        "\n",
        "test_recall = recall_score(y_test, y_predict)*100\n",
        "fpr, tpr, thresholds = roc_curve(y_test, y_predict)\n",
        "test_auc = auc(fpr, tpr)*100\n",
        "model_fpr, model_tpr, thresholds = roc_curve(y_test, y_predict)\n",
        "m = 'Naive Bayes'\n",
        "acc.append([m, model.score(X_test_scaled, y_test), test_recall, test_auc, fpr, tpr, thresholds])"
      ]
    },
    {
      "cell_type": "code",
      "execution_count": null,
      "metadata": {
        "colab": {
          "base_uri": "https://localhost:8080/",
          "height": 283
        },
        "id": "fyJPc51RD8cb",
        "outputId": "80596117-0056-4c8f-ce3d-9f5131bf7afc"
      },
      "outputs": [
        {
          "output_type": "display_data",
          "data": {
            "text/plain": [
              "<Figure size 432x288 with 1 Axes>"
            ],
            "image/png": "[encoded data removed]"
          },
          "metadata": {
            "needs_background": "light"
          }
        }
      ],
      "source": [
        "plt.plot( accuracy_train, label=\"accuracy_train\")\n",
        "plt.plot( test_accuracy, label=\"accuracy_test\")\n",
        "plt.ylabel(\"Accuracy\")\n",
        "plt.xlabel(\"predict_test\")\n",
        "plt.legend()\n",
        "plt.savefig('model_compare_model')"
      ]
    },
    {
      "cell_type": "markdown",
      "metadata": {
        "id": "a8PdJ-Wx_I7G"
      },
      "source": [
        "Gradient Boosting Algorithms(GBA)"
      ]
    },
    {
      "cell_type": "code",
      "execution_count": null,
      "metadata": {
        "colab": {
          "base_uri": "https://localhost:8080/"
        },
        "id": "4Gbl3yq9Opph",
        "outputId": "300a7d2c-3b10-47dd-ed1c-9453f20ffa7a"
      },
      "outputs": [
        {
          "output_type": "execute_result",
          "data": {
            "text/plain": [
              "GradientBoostingClassifier(max_depth=5)"
            ]
          },
          "metadata": {},
          "execution_count": 61
        }
      ],
      "source": [
        "from sklearn.ensemble import GradientBoostingClassifier\n",
        "model = GradientBoostingClassifier(n_estimators=100,max_depth=5)\n",
        "model.fit(X_train_scaled, y_train)"
      ]
    },
    {
      "cell_type": "code",
      "execution_count": null,
      "metadata": {
        "colab": {
          "base_uri": "https://localhost:8080/",
          "height": 386
        },
        "id": "qlPzy1keOtiZ",
        "outputId": "8d4a6208-f961-4821-a42e-3e12ab67b9a8"
      },
      "outputs": [
        {
          "output_type": "stream",
          "name": "stderr",
          "text": [
            "/usr/local/lib/python3.7/dist-packages/sklearn/utils/deprecation.py:87: FutureWarning:\n",
            "\n",
            "Function plot_confusion_matrix is deprecated; Function `plot_confusion_matrix` is deprecated in 1.0 and will be removed in 1.2. Use one of the class methods: ConfusionMatrixDisplay.from_predictions or ConfusionMatrixDisplay.from_estimator.\n",
            "\n"
          ]
        },
        {
          "output_type": "execute_result",
          "data": {
            "text/plain": [
              "<sklearn.metrics._plot.confusion_matrix.ConfusionMatrixDisplay at 0x7f30facc1090>"
            ]
          },
          "metadata": {},
          "execution_count": 62
        },
        {
          "output_type": "display_data",
          "data": {
            "text/plain": [
              "<Figure size 432x288 with 2 Axes>"
            ],
            "image/png": "[encoded data removed]"
          },
          "metadata": {
            "needs_background": "light"
          }
        }
      ],
      "source": [
        "plot_confusion_matrix(model, X_test_scaled, y_test, cmap= 'Blues', values_format='d', display_labels=['Nondemented', 'Demented'])"
      ]
    },
    {
      "cell_type": "code",
      "execution_count": null,
      "metadata": {
        "colab": {
          "base_uri": "https://localhost:8080/"
        },
        "id": "j63vAsEb_IU2",
        "outputId": "7970c1fd-791d-42fb-bfd4-04a68da35d24"
      },
      "outputs": [
        {
          "output_type": "stream",
          "name": "stdout",
          "text": [
            "Target on train data [1 0 1 0 0 0 0 0 0 0 0 0 0 1 0 0 0 0 0 1 0 0 0 0 0 1 0 0 0 0 0 1 1 1 0 1 1\n",
            " 0 0 0 1 0 1 0 0 0 1 0 0 0 0 1 0 1 0 0 1 0 0 1 0 0 0 1 1 1 1 0 0 0 0 1 0 0\n",
            " 0 1 0 1 0 0 0 0 0 1 1 0 0 0 0 1 1 0 0 0 1 0 0 1 0 0 0 1 0 0 1 0 0 1 0 0 0\n",
            " 1 1 0 0 1 0 0 0 0 0 0 0 0 0 0 0 1 1 1 1 1 0 1 0 0 0 0 0 0 0 1 0 1 0 0 1 0\n",
            " 0 1 0 0 0 0 0 0 1 0 0 0 0 0 0 0 0 0 0 0 0 0 0 1 0 0 0 0 0 0 1 1 0 1 0 1 0\n",
            " 0 0 0 0 1 1 0 0 0 0 0 0 0 0 0 1 0 1 0 0 0 0 0 0 0 0 0 0 0 0 0 0 1 0 0 0 1\n",
            " 0 0 0 0 0 1 1 0 0 1 1 0 0 0 0 1 0 0 0 0 0 1 1 0 1 0 0 0 0 0 0 0 0 0 0 0 1\n",
            " 0 0 0 0 0 0 0 1 0 0 1 0 1 0 0 1 0 0 1 1 1 0 0 0 0 0 0 0 1 0 0 0 1 1 0 0 0\n",
            " 1 0 0 0 0 0 0 0 0 0 0 0 0 0 0 0 0 0 0 0 1 0 0 0 1 1 0 0 1 0 0 0 0 0 0 0 0\n",
            " 0 0 0 0 0 0 0 0 0 0 0 1 0 1 0 0 0 0 0 0 0 0 0 0 1 0 0 0 1 0 0 0 0 0 0 1 0\n",
            " 0 0 0 0 1 0 0 0 0 0 1 0 0 0 0 0 0 0 0 0 1 1 0 0 0 0 0 0 0 0 1 1 0 0 1 1 0\n",
            " 1 1 1 0 1 0 1 0 1 0 0 0 1 0 0 0 1 1 1 1 0 0 0 1 0 0 0 0 0 0 0 0 1 0 0 0 0\n",
            " 0 0 0 1 0 0 0 1 1 0 1 0 0 0 0 1 0 0 0 1 1 0 0 0 0 0 0 0 0 0 0 0 0 1 1 0 0\n",
            " 0 0 1 1 1 1 0 0 0 1 1 0 0 0 1 0 1 0 0 1 0 0 1 0 0 0 0 0 0 1 1 1 0 0 0 0 0\n",
            " 1 0 0 0 0 0 1 0 0 0 1 0 0 0 0 0 1 1 1 0 0 0 1 0 0 1 0 0 0 0 0 1 0 0 0 0 0\n",
            " 0 1 0 0 0 0 0 0 0 0 1 0 0 0 0 1 0 0 0 1 0 0 0 0 0 0 0 0 0 1 0 0 0 0 0 0 0\n",
            " 0 1 0 0 0 0 0 0 0 0 1 0 0 0 0 0 0 0 0 0 0 0 0 1 0 0 0 0 0 1 0 0 0 0 0 1 0\n",
            " 0 0 1 0 0 1 0 0 0 0]\n",
            "accuracy_score on train dataset :  100.0\n",
            "Target on test data [0 0 0 0 0 1 0 0 0 0 1 1 1 0 0 0 0 0 0 0 1 1 0 1 1 0 0 0 0 0 0 0 1 0 0 0 0\n",
            " 0 0 1 1 0 0 0 0 0 0 0 0 1 0 0 0 0 0 1 0 0 0 1 1 0 0 0 0 0 0 0 0 0 0 1 0 0\n",
            " 0 0 1 0 0 0 0 0 1 1 0 0 0 0 1 0 0 0 0 0 0 0 1 0 0 0 1 0 0 0 0 0 0 0 0 0 0\n",
            " 0 0 0 0 1 0 1 0 1 0 1 0 0 0 0 0 1 0 1 0 0 0 0 1 0 0 1 0 0 1 0 0 0 1 0 1 0\n",
            " 0 0 1 0 0 0 0 0 0 0 0 1]\n",
            "accuracy_score on test dataset :  83.125\n"
          ]
        }
      ],
      "source": [
        "predict_train = model.predict(X_train_scaled)\n",
        "print('Target on train data',predict_train) \n",
        "\n",
        "accuracy_train = accuracy_score(y_train,predict_train)*100\n",
        "print('accuracy_score on train dataset : ', accuracy_train)\n",
        "\n",
        "# predict the target on the test dataset\n",
        "predict_test = model.predict(X_test_scaled)\n",
        "print('Target on test data',predict_test) \n",
        "\n",
        "# Accuracy test dataset\n",
        "accuracy_test = accuracy_score(y_test,predict_test)*100\n",
        "\n",
        "test_recall = recall_score(y_test, predict_test)*100\n",
        "fpr, tpr, thresholds = roc_curve(y_test, predict_test)\n",
        "test_auc = auc(fpr, tpr)*100\n",
        "model_fpr, model_tpr, thresholds = roc_curve(y_test, predict_test)\n",
        "m = 'Gradient Boosting Algorithms(GBA)'\n",
        "acc.append([m, model.score(X_test_scaled, y_test), test_recall, test_auc, fpr, tpr, thresholds])\n",
        "print('accuracy_score on test dataset : ', accuracy_test)"
      ]
    },
    {
      "cell_type": "markdown",
      "metadata": {
        "id": "Zy3ajTlpmrsQ"
      },
      "source": [
        "Plot ROC and compare AUC"
      ]
    },
    {
      "cell_type": "code",
      "execution_count": null,
      "metadata": {
        "id": "5vE56AAUmsy6",
        "colab": {
          "base_uri": "https://localhost:8080/",
          "height": 457
        },
        "outputId": "a18e854b-c719-4839-e816-dbe51ea526ab"
      },
      "outputs": [
        {
          "output_type": "display_data",
          "data": {
            "text/plain": [
              "<Figure size 500x500 with 1 Axes>"
            ],
            "image/png": "[encoded data removed]"
          },
          "metadata": {
            "needs_background": "light"
          }
        }
      ],
      "source": [
        "plt.figure(figsize=(5, 5), dpi=100)\n",
        "plt.plot(svm_fpr, svm_tpr, linestyle='-', label='SVM')\n",
        "plt.plot(lgr_fpr, lgr_tpr, marker='.', label='Logistic')\n",
        "plt.plot(rfc_fpr, rfc_tpr, linestyle=':', label='Random Forest')\n",
        "plt.plot(dt_fpr, dt_tpr, linestyle='-.', label='Decision Tree')\n",
        "plt.plot(knn_fpr, knn_tpr, linestyle='-.', label='KNN')\n",
        "plt.plot(model_fpr, model_tpr, linestyle='-.', label='Naive Bayes')\n",
        "plt.plot(model_fpr, model_tpr, linestyle='-.', label='Gradient Boosting Algorithms')\n",
        "plt.xlabel('False Positive Rate')\n",
        "plt.ylabel('True Positive Rate')\n",
        "\n",
        "plt.legend()\n",
        "\n",
        "plt.show()"
      ]
    },
    {
      "cell_type": "code",
      "execution_count": null,
      "metadata": {
        "colab": {
          "base_uri": "https://localhost:8080/",
          "height": 238
        },
        "id": "xY6jaCos41nv",
        "outputId": "dfc29d64-7714-47e3-daa0-79a943f12c1c"
      },
      "outputs": [
        {
          "output_type": "execute_result",
          "data": {
            "text/plain": [
              "                                 Model  Accuracy     Recall        AUC\n",
              "0                        Random Forest  80.00000   0.500000   0.696721\n",
              "1  Logistic Regression (w/ imputation)  83.75000   0.500000   0.721311\n",
              "2                        Decision Tree  78.75000  50.000000  68.852459\n",
              "3                  k-Nearest Neighbors   0.85625  63.157895   0.806083\n",
              "4                          Naive Bayes   0.70625  68.421053  69.866264\n",
              "5    Gradient Boosting Algorithms(GBA)   0.83125  60.526316  75.345125"
            ],
            "text/html": [
              "\n",
              "  <div id=\"df-b9efbb9a-513a-45c9-aadd-92d36aecb288\">\n",
              "    <div class=\"colab-df-container\">\n",
              "      <div>\n",
              "<style scoped>\n",
              "    .dataframe tbody tr th:only-of-type {\n",
              "        vertical-align: middle;\n",
              "    }\n",
              "\n",
              "    .dataframe tbody tr th {\n",
              "        vertical-align: top;\n",
              "    }\n",
              "\n",
              "    .dataframe thead th {\n",
              "        text-align: right;\n",
              "    }\n",
              "</style>\n",
              "<table border=\"1\" class=\"dataframe\">\n",
              "  <thead>\n",
              "    <tr style=\"text-align: right;\">\n",
              "      <th></th>\n",
              "      <th>Model</th>\n",
              "      <th>Accuracy</th>\n",
              "      <th>Recall</th>\n",
              "      <th>AUC</th>\n",
              "    </tr>\n",
              "  </thead>\n",
              "  <tbody>\n",
              "    <tr>\n",
              "      <th>0</th>\n",
              "      <td>Random Forest</td>\n",
              "      <td>80.00000</td>\n",
              "      <td>0.500000</td>\n",
              "      <td>0.696721</td>\n",
              "    </tr>\n",
              "    <tr>\n",
              "      <th>1</th>\n",
              "      <td>Logistic Regression (w/ imputation)</td>\n",
              "      <td>83.75000</td>\n",
              "      <td>0.500000</td>\n",
              "      <td>0.721311</td>\n",
              "    </tr>\n",
              "    <tr>\n",
              "      <th>2</th>\n",
              "      <td>Decision Tree</td>\n",
              "      <td>78.75000</td>\n",
              "      <td>50.000000</td>\n",
              "      <td>68.852459</td>\n",
              "    </tr>\n",
              "    <tr>\n",
              "      <th>3</th>\n",
              "      <td>k-Nearest Neighbors</td>\n",
              "      <td>0.85625</td>\n",
              "      <td>63.157895</td>\n",
              "      <td>0.806083</td>\n",
              "    </tr>\n",
              "    <tr>\n",
              "      <th>4</th>\n",
              "      <td>Naive Bayes</td>\n",
              "      <td>0.70625</td>\n",
              "      <td>68.421053</td>\n",
              "      <td>69.866264</td>\n",
              "    </tr>\n",
              "    <tr>\n",
              "      <th>5</th>\n",
              "      <td>Gradient Boosting Algorithms(GBA)</td>\n",
              "      <td>0.83125</td>\n",
              "      <td>60.526316</td>\n",
              "      <td>75.345125</td>\n",
              "    </tr>\n",
              "  </tbody>\n",
              "</table>\n",
              "</div>\n",
              "      <button class=\"colab-df-convert\" onclick=\"convertToInteractive('df-b9efbb9a-513a-45c9-aadd-92d36aecb288')\"\n",
              "              title=\"Convert this dataframe to an interactive table.\"\n",
              "              style=\"display:none;\">\n",
              "        \n",
              "  <svg xmlns=\"http://www.w3.org/2000/svg\" height=\"24px\"viewBox=\"0 0 24 24\"\n",
              "       width=\"24px\">\n",
              "    <path d=\"M0 0h24v24H0V0z\" fill=\"none\"/>\n",
              "    <path d=\"M18.56 5.44l.94 2.06.94-2.06 2.06-.94-2.06-.94-.94-2.06-.94 2.06-2.06.94zm-11 1L8.5 8.5l.94-2.06 2.06-.94-2.06-.94L8.5 2.5l-.94 2.06-2.06.94zm10 10l.94 2.06.94-2.06 2.06-.94-2.06-.94-.94-2.06-.94 2.06-2.06.94z\"/><path d=\"M17.41 7.96l-1.37-1.37c-.4-.4-.92-.59-1.43-.59-.52 0-1.04.2-1.43.59L10.3 9.45l-7.72 7.72c-.78.78-.78 2.05 0 2.83L4 21.41c.39.39.9.59 1.41.59.51 0 1.02-.2 1.41-.59l7.78-7.78 2.81-2.81c.8-.78.8-2.07 0-2.86zM5.41 20L4 18.59l7.72-7.72 1.47 1.35L5.41 20z\"/>\n",
              "  </svg>\n",
              "      </button>\n",
              "      \n",
              "  <style>\n",
              "    .colab-df-container {\n",
              "      display:flex;\n",
              "      flex-wrap:wrap;\n",
              "      gap: 12px;\n",
              "    }\n",
              "\n",
              "    .colab-df-convert {\n",
              "      background-color: #E8F0FE;\n",
              "      border: none;\n",
              "      border-radius: 50%;\n",
              "      cursor: pointer;\n",
              "      display: none;\n",
              "      fill: #1967D2;\n",
              "      height: 32px;\n",
              "      padding: 0 0 0 0;\n",
              "      width: 32px;\n",
              "    }\n",
              "\n",
              "    .colab-df-convert:hover {\n",
              "      background-color: #E2EBFA;\n",
              "      box-shadow: 0px 1px 2px rgba(60, 64, 67, 0.3), 0px 1px 3px 1px rgba(60, 64, 67, 0.15);\n",
              "      fill: #174EA6;\n",
              "    }\n",
              "\n",
              "    [theme=dark] .colab-df-convert {\n",
              "      background-color: #3B4455;\n",
              "      fill: #D2E3FC;\n",
              "    }\n",
              "\n",
              "    [theme=dark] .colab-df-convert:hover {\n",
              "      background-color: #434B5C;\n",
              "      box-shadow: 0px 1px 3px 1px rgba(0, 0, 0, 0.15);\n",
              "      filter: drop-shadow(0px 1px 2px rgba(0, 0, 0, 0.3));\n",
              "      fill: #FFFFFF;\n",
              "    }\n",
              "  </style>\n",
              "\n",
              "      <script>\n",
              "        const buttonEl =\n",
              "          document.querySelector('#df-b9efbb9a-513a-45c9-aadd-92d36aecb288 button.colab-df-convert');\n",
              "        buttonEl.style.display =\n",
              "          google.colab.kernel.accessAllowed ? 'block' : 'none';\n",
              "\n",
              "        async function convertToInteractive(key) {\n",
              "          const element = document.querySelector('#df-b9efbb9a-513a-45c9-aadd-92d36aecb288');\n",
              "          const dataTable =\n",
              "            await google.colab.kernel.invokeFunction('convertToInteractive',\n",
              "                                                     [key], {});\n",
              "          if (!dataTable) return;\n",
              "\n",
              "          const docLinkHtml = 'Like what you see? Visit the ' +\n",
              "            '<a target=\"_blank\" href=https://colab.research.google.com/notebooks/data_table.ipynb>data table notebook</a>'\n",
              "            + ' to learn more about interactive tables.';\n",
              "          element.innerHTML = '';\n",
              "          dataTable['output_type'] = 'display_data';\n",
              "          await google.colab.output.renderOutput(dataTable, element);\n",
              "          const docLink = document.createElement('div');\n",
              "          docLink.innerHTML = docLinkHtml;\n",
              "          element.appendChild(docLink);\n",
              "        }\n",
              "      </script>\n",
              "    </div>\n",
              "  </div>\n",
              "  "
            ]
          },
          "metadata": {},
          "execution_count": 65
        }
      ],
      "source": [
        "# Performance Metric for each model\n",
        "result = pd.DataFrame(acc, columns=['Model', 'Accuracy', 'Recall', 'AUC', 'FPR', 'TPR', 'TH'])\n",
        "result[['Model', 'Accuracy', 'Recall', 'AUC']]"
      ]
    }
  ],
  "metadata": {
    "colab": {
      "collapsed_sections": [],
      "name": "Alzheimers-DiseaseMRI-DATA.ipynb",
      "provenance": []
    },
    "kernelspec": {
      "display_name": "Python 3",
      "name": "python3"
    },
    "language_info": {
      "name": "python"
    }
  },
  "nbformat": 4,
  "nbformat_minor": 0
}